{
 "cells": [
  {
   "attachments": {},
   "cell_type": "markdown",
   "metadata": {},
   "source": [
    "Файловая система:"
   ]
  },
  {
   "cell_type": "code",
   "execution_count": null,
   "metadata": {},
   "outputs": [],
   "source": [
    "\"\"\"\n",
    "C:\n",
    "├─ Program Files\n",
    "├─ Folder_1\n",
    "│  ├─ Folder_2\n",
    "│  │  ├─ file_3.docx\n",
    "│  ├─ file1.txt\n",
    "│  ├─ file2.txt\n",
    "├─ file4.png\n",
    "\"\"\""
   ]
  },
  {
   "attachments": {},
   "cell_type": "markdown",
   "metadata": {},
   "source": [
    "Имя файла - это строка\n",
    "\n",
    "Часть строки между последней точкой и концом - его расширение\n",
    "\n",
    "Расширение связано с содержанием файла только по договорённости"
   ]
  },
  {
   "cell_type": "code",
   "execution_count": null,
   "metadata": {},
   "outputs": [],
   "source": [
    "\"file1.txt\"\n",
    "\"file2.py\"\n",
    "\"file3.py.txt\"\n",
    "\"file4\""
   ]
  },
  {
   "attachments": {},
   "cell_type": "markdown",
   "metadata": {},
   "source": [
    "В Windows имена папок и файлов разделяются между собой обратным слешем \\\\. В Unix, Max - прямым слешем /.\n",
    "\n",
    "Как задавать пути в Python? (Помним, что \\\\ нужен ещё и для escape-последовательностей!)"
   ]
  },
  {
   "cell_type": "code",
   "execution_count": null,
   "metadata": {},
   "outputs": [],
   "source": [
    "r\"C:\\Folder_1\\file1.txt\"\n",
    "\"C:\\\\Folder_1\\\\file1.txt\"\n",
    "\"C:/Folder_1/file1.txt\"  # будет автоматически переформатировано под формат Windows"
   ]
  },
  {
   "attachments": {},
   "cell_type": "markdown",
   "metadata": {},
   "source": [
    "Пути бывают относительные и абсолютные. Абсолютные указывают путь от корневой папки (или от буквы диска в Windows). Относительные указывают путь от текущей папки."
   ]
  },
  {
   "cell_type": "code",
   "execution_count": null,
   "metadata": {},
   "outputs": [],
   "source": [
    "# если текущая папка - Folder_1\n",
    "r\"Folder_2\\file_3.docx\"\n",
    "r\"..\\file4.png\"  # переход на один уровень вверх"
   ]
  },
  {
   "attachments": {},
   "cell_type": "markdown",
   "metadata": {},
   "source": [
    "Модуль os и os.path\n",
    "\n",
    "https://docs.python.org/3/library/os.html\n",
    "\n",
    "https://docs.python.org/3/library/os.path.html"
   ]
  },
  {
   "cell_type": "code",
   "execution_count": null,
   "metadata": {},
   "outputs": [],
   "source": [
    "import os\n",
    "\n",
    "filepath = os.path.join(\"Folder_1\", \"file1.txt\")\n",
    "print(filepath)"
   ]
  },
  {
   "cell_type": "code",
   "execution_count": null,
   "metadata": {},
   "outputs": [],
   "source": [
    "path, file = os.path.split(\"C:\\\\Folder_1\\\\file1.txt\")\n",
    "print(path)\n",
    "print(file)"
   ]
  },
  {
   "cell_type": "code",
   "execution_count": null,
   "metadata": {},
   "outputs": [],
   "source": [
    "print(os.sep)  # системный разделитель путей"
   ]
  },
  {
   "cell_type": "code",
   "execution_count": null,
   "metadata": {},
   "outputs": [],
   "source": [
    "file, ext = os.path.splitext(\"file1.txt\")\n",
    "print(file)\n",
    "print(ext)"
   ]
  },
  {
   "attachments": {},
   "cell_type": "markdown",
   "metadata": {},
   "source": [
    "Перебираем все файлы внутри папки (с её подпапками)"
   ]
  },
  {
   "attachments": {},
   "cell_type": "markdown",
   "metadata": {},
   "source": [
    "На первой итерации внешнего цикла в переменной files лежат файлы из самой верхней папки, в переменной dirs - её подпапки\n",
    "На второй и последующих - то же для её подпапок"
   ]
  },
  {
   "cell_type": "code",
   "execution_count": null,
   "metadata": {},
   "outputs": [],
   "source": [
    "import os\n",
    "for root, dirs, files in os.walk(\".\"):  # текущая директория; сюда можно передавать относительный или абсолютный путь к любой папке\n",
    "    print(root, dirs, files)"
   ]
  },
  {
   "attachments": {},
   "cell_type": "markdown",
   "metadata": {},
   "source": [
    "Дальше можно, например, перебирать все файлы внутри каждой подпапки:"
   ]
  },
  {
   "cell_type": "code",
   "execution_count": null,
   "metadata": {},
   "outputs": [],
   "source": [
    "import os\n",
    "for root, dirs, files in os.walk(\".\"):  # текущая директория; сюда можно передавать относительный или абсолютный путь к любой папке\n",
    "    for file in files:\n",
    "        with open(os.path.join(root, file)) as f:\n",
    "            pass\n",
    "            # читаем файл"
   ]
  },
  {
   "attachments": {},
   "cell_type": "markdown",
   "metadata": {},
   "source": [
    "Если хотим ограничиться только верхней папкой, поставим break:"
   ]
  },
  {
   "cell_type": "code",
   "execution_count": null,
   "metadata": {},
   "outputs": [],
   "source": [
    "import os\n",
    "for root, dirs, files in os.walk(\".\"):  # текущая директория; сюда можно передавать относительный или абсолютный путь к любой папке\n",
    "    for file in files:\n",
    "        with open(os.path.join(root, file)) as f:\n",
    "            pass\n",
    "            # читаем файл\n",
    "    break"
   ]
  },
  {
   "attachments": {},
   "cell_type": "markdown",
   "metadata": {},
   "source": [
    "Если нужны файлы только с определённым расширением:"
   ]
  },
  {
   "cell_type": "code",
   "execution_count": null,
   "metadata": {},
   "outputs": [],
   "source": [
    "fileext = \".txt\"\n",
    "\n",
    "import os\n",
    "for root, dirs, files in os.walk(\".\"):  # текущая директория; сюда можно передавать относительный или абсолютный путь к любой папке\n",
    "    for file in files:\n",
    "        if not os.path.splitext(file)[-1] == fileext:\n",
    "            continue\n",
    "        # или:\n",
    "        if not file.endswith(fileext):\n",
    "            continue\n",
    "        with open(os.path.join(root, file)) as f:\n",
    "            pass\n",
    "            # читаем файл\n",
    "    break"
   ]
  },
  {
   "attachments": {},
   "cell_type": "markdown",
   "metadata": {},
   "source": [
    "Проверить, что путь существует:"
   ]
  },
  {
   "cell_type": "code",
   "execution_count": null,
   "metadata": {},
   "outputs": [],
   "source": [
    "os.path.exists(\"Folder_1\")"
   ]
  },
  {
   "attachments": {},
   "cell_type": "markdown",
   "metadata": {},
   "source": [
    "Создать директорию:"
   ]
  },
  {
   "cell_type": "code",
   "execution_count": null,
   "metadata": {},
   "outputs": [],
   "source": [
    "os.makedirs(\"Folder_1\\\\Folder_2\")  # ошибка, если уже существует"
   ]
  },
  {
   "attachments": {},
   "cell_type": "markdown",
   "metadata": {},
   "source": [
    "Практическое задание:\n",
    "\n",
    "1. Перебрать все файлы в папке texts\n",
    "2. Для каждого посчитать частоту встречаемости сочетаний букв (см. предыдущее задание). Если имя файла заканчивается на _ru.txt, считаем сочетаемость русских букв. Если на _en.txt, то английских. Файлы не txt игнорируем.\n",
    "3. Записать результаты для каждого файла в отдельный файл в папке res"
   ]
  },
  {
   "cell_type": "code",
   "execution_count": null,
   "metadata": {},
   "outputs": [],
   "source": [
    "\"\"\"\n",
    "аа  0\n",
    "аб  5\n",
    "...\n",
    "\"\"\""
   ]
  }
 ],
 "metadata": {
  "kernelspec": {
   "display_name": "Python 3.9.0 64-bit",
   "language": "python",
   "name": "python3"
  },
  "language_info": {
   "codemirror_mode": {
    "name": "ipython",
    "version": 3
   },
   "file_extension": ".py",
   "mimetype": "text/x-python",
   "name": "python",
   "nbconvert_exporter": "python",
   "pygments_lexer": "ipython3",
   "version": "3.9.0"
  },
  "orig_nbformat": 4,
  "vscode": {
   "interpreter": {
    "hash": "364dcd152da2692276e72902df2858159ccc300c15062838033fe03303e9b26c"
   }
  }
 },
 "nbformat": 4,
 "nbformat_minor": 2
}
