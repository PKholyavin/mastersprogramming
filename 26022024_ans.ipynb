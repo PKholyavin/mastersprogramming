{
 "cells": [
  {
   "cell_type": "markdown",
   "metadata": {},
   "source": [
    "Задание для выполнения в классе: напишите функцию, которая принимает на вход список и возвращает ```True```, если в нём есть повторяющиеся элементы, и ```False``` в противном случае."
   ]
  },
  {
   "cell_type": "code",
   "execution_count": null,
   "metadata": {},
   "outputs": [],
   "source": [
    "def has_duplicates(lst: list) -> bool:\n",
    "    return len(lst) == len(set(lst))"
   ]
  },
  {
   "cell_type": "markdown",
   "metadata": {},
   "source": [
    "Ответьте, не запуская ячейку: что выведет следующий код?"
   ]
  },
  {
   "cell_type": "code",
   "execution_count": 1,
   "metadata": {},
   "outputs": [
    {
     "name": "stdout",
     "output_type": "stream",
     "text": [
      "[0, 4, 9, 25, 36, 49, 64, 1, 16, 81]\n"
     ]
    }
   ],
   "source": [
    "a = [i ** 2 for i in range(10)]\n",
    "a = sorted(a, key=lambda x: \"1\" in str(x))\n",
    "print(a)"
   ]
  },
  {
   "cell_type": "markdown",
   "metadata": {},
   "source": [
    "Ключом сортировки является ответ на вопрос \"есть ли единица в десятичной записи числа?\". Соответственно, сначала идут числа, где ответ на этот вопрос ```False```, затем - ```True``` (потому что ```False``` - это 0, а ```True``` - это 1). Заметим, что в остальном порядок чисел остался прежним - сортировка Python стабильна."
   ]
  },
  {
   "cell_type": "markdown",
   "metadata": {},
   "source": [
    "Задание для выполнения в классе:\n",
    "1. Запустите ячейку ниже, чтобы скачать файл и посмотреть на его содержимое:"
   ]
  },
  {
   "cell_type": "code",
   "execution_count": null,
   "metadata": {},
   "outputs": [],
   "source": [
    "!wget https://pkholyavin.github.io/mastersprogramming/text_numbers.txt\n",
    "!cat text_numbers.txt"
   ]
  },
  {
   "cell_type": "markdown",
   "metadata": {},
   "source": [
    "2. Файл содержит числа, разделённые дефисами и пробелами. Напишите код, который считывает их из файла и выводит в возрастающем порядке."
   ]
  },
  {
   "cell_type": "code",
   "execution_count": 2,
   "metadata": {},
   "outputs": [],
   "source": [
    "with open(\"text_numbers.txt\") as f:\n",
    "    text = f.readlines()"
   ]
  },
  {
   "cell_type": "markdown",
   "metadata": {},
   "source": [
    "Короткое решение:"
   ]
  },
  {
   "cell_type": "code",
   "execution_count": null,
   "metadata": {},
   "outputs": [],
   "source": [
    "all_nums = sorted([int(i) for j in text for i in j.strip().replace(\"-\", \" \").split()])\n",
    "print(all_nums)"
   ]
  },
  {
   "cell_type": "markdown",
   "metadata": {},
   "source": [
    "Без ```replace()```:"
   ]
  },
  {
   "cell_type": "code",
   "execution_count": null,
   "metadata": {},
   "outputs": [],
   "source": [
    "all_nums = sorted([int(t) for j in text for i in j.strip().split() for t in i.split(\"-\")])\n",
    "print(all_nums)"
   ]
  },
  {
   "cell_type": "markdown",
   "metadata": {},
   "source": [
    "Длинное решение:"
   ]
  },
  {
   "cell_type": "code",
   "execution_count": null,
   "metadata": {},
   "outputs": [],
   "source": [
    "text_integer = []\n",
    "for line in text:\n",
    "    line = line.strip(\"\\n\")\n",
    "    line = line.split(\" \")\n",
    "    for word in line:\n",
    "        word = word.split(\"-\")\n",
    "        for number in word:\n",
    "            number = int(number)\n",
    "            text_integer.append(number)\n",
    "\n",
    "text_integer.sort()\n",
    "print(text_integer)"
   ]
  },
  {
   "cell_type": "markdown",
   "metadata": {},
   "source": [
    "Помните, что не всегда короче == лучше! Длинное решение легче читать!"
   ]
  }
 ],
 "metadata": {
  "kernelspec": {
   "display_name": "Python 3",
   "language": "python",
   "name": "python3"
  },
  "language_info": {
   "codemirror_mode": {
    "name": "ipython",
    "version": 3
   },
   "file_extension": ".py",
   "mimetype": "text/x-python",
   "name": "python",
   "nbconvert_exporter": "python",
   "pygments_lexer": "ipython3",
   "version": "3.9.0"
  }
 },
 "nbformat": 4,
 "nbformat_minor": 2
}
