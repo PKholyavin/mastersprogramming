{
 "cells": [
  {
   "cell_type": "markdown",
   "metadata": {},
   "source": [
    "В обработке сигналов может пригодиться библиотека `scipy`. По ссылке можно ознакомиться с документацией и со списком модулей, входящих в библиотеку:  \n",
    "https://docs.scipy.org/doc/scipy/tutorial/index.html#user-guide"
   ]
  },
  {
   "cell_type": "markdown",
   "metadata": {},
   "source": [
    "Модуль `scipy.fft` содержит функции, относящиеся к преобразованию Фурье. Нарисуем спектр Фурье для суммы двух синусоид (пример из документации `scipy`). Нам понадобится собственно функция `fft`, которая вычисляет быстрое преобразование Фурье для дискретного сигнала, и функция `fftfreq`, которая возвращает значения частоты (в Герцах), которые мы будем откладывать по оси X на спектрограмме."
   ]
  },
  {
   "cell_type": "code",
   "execution_count": 1,
   "metadata": {},
   "outputs": [],
   "source": [
    "from scipy.fft import fft, fftfreq\n",
    "import numpy as np\n",
    "\n",
    "# Количество отсчётов в сигнале\n",
    "N = 600\n",
    "\n",
    "# Период дискретизации (в секундах)\n",
    "T = 1.0 / 800.0\n",
    "\n",
    "# Заведём массив временных точек (N отсчётов с промежутком T)\n",
    "x = np.linspace(0.0, N*T, N, endpoint=False)\n",
    "# Построим наш сигнал как сумму двух синусоид с частотами 50 и 80 Гц\n",
    "y = np.sin(50.0 * 2.0*np.pi*x) + 0.5*np.sin(80.0 * 2.0*np.pi*x)"
   ]
  },
  {
   "cell_type": "markdown",
   "metadata": {},
   "source": [
    "Посмотрим отдельно на полученные массивы:"
   ]
  },
  {
   "cell_type": "code",
   "execution_count": null,
   "metadata": {},
   "outputs": [],
   "source": [
    "# это значения времени каждого отсчёта сигнала\n",
    "print(x[:20])"
   ]
  },
  {
   "cell_type": "code",
   "execution_count": null,
   "metadata": {},
   "outputs": [],
   "source": [
    "# это значения амплитуды каждого отсчёта сигнала\n",
    "print(y[:20])"
   ]
  },
  {
   "cell_type": "markdown",
   "metadata": {},
   "source": [
    "Нарисуем наш сигнал на графике:"
   ]
  },
  {
   "cell_type": "code",
   "execution_count": null,
   "metadata": {},
   "outputs": [],
   "source": [
    "import matplotlib.pyplot as plt\n",
    "plt.plot(x, y)\n",
    "plt.xlabel(\"Time, s\")\n",
    "plt.ylabel(\"Amplitude\")\n",
    "plt.show()"
   ]
  },
  {
   "cell_type": "markdown",
   "metadata": {},
   "source": [
    "Займёмся вычислением спектра:"
   ]
  },
  {
   "cell_type": "code",
   "execution_count": null,
   "metadata": {},
   "outputs": [],
   "source": [
    "# Вычислим преобразование Фурье\n",
    "yf = fft(y)\n",
    "# Получим список частот (в Гц)\n",
    "xf = fftfreq(N, T)[:N//2]"
   ]
  },
  {
   "cell_type": "markdown",
   "metadata": {},
   "source": [
    "Посмотрим, что получилось:"
   ]
  },
  {
   "cell_type": "code",
   "execution_count": null,
   "metadata": {},
   "outputs": [],
   "source": [
    "# Это то, что мы будем откладывать по оси X на спектре (значения частот):\n",
    "print(xf[:20])"
   ]
  },
  {
   "cell_type": "code",
   "execution_count": null,
   "metadata": {},
   "outputs": [],
   "source": [
    "# А это значения спектра в каждой частоте:\n",
    "print(yf[:20])"
   ]
  },
  {
   "cell_type": "markdown",
   "metadata": {},
   "source": [
    "Обратите внимание, что значения спектра &ndash; это комплексные числа!"
   ]
  },
  {
   "cell_type": "markdown",
   "metadata": {},
   "source": [
    "Нарисуем спектр на графике:"
   ]
  },
  {
   "cell_type": "code",
   "execution_count": null,
   "metadata": {},
   "outputs": [],
   "source": [
    "# Во-первых, возьмём модуль от нашего спектра, чтобы получить вещественные числа\n",
    "# Во-вторых, возьмём только левую половинку (т.к. спектр получается симметричным)\n",
    "plt.plot(xf, 2.0/N * np.abs(yf[0:N//2]))\n",
    "plt.xlabel(\"Frequency, Hz\")\n",
    "plt.ylabel(\"Amplitude\")\n",
    "plt.grid()\n",
    "plt.show()"
   ]
  },
  {
   "cell_type": "markdown",
   "metadata": {},
   "source": [
    "Вместо `fft` и `fftfreq` можно воспользоваться `rfft` и `rfftfreq` (от слова real &ndash; подразумевается, что входной сигнал содержит только вещественные числа, а в нашем случае это всегда будет так), тогда не надо будет брать половинки от массивов:"
   ]
  },
  {
   "cell_type": "code",
   "execution_count": null,
   "metadata": {},
   "outputs": [],
   "source": [
    "from scipy.fft import rfft, rfftfreq\n",
    "yf = rfft(y)\n",
    "xf = rfftfreq(N, T)\n",
    "plt.plot(xf, 2.0/N * np.abs(yf))\n",
    "plt.xlabel(\"Frequency, Hz\")\n",
    "plt.ylabel(\"Amplitude\")\n",
    "plt.grid()\n",
    "plt.show()"
   ]
  },
  {
   "cell_type": "markdown",
   "metadata": {},
   "source": [
    "Чтобы краевые эффекты не вносили искажения в спектр, полезно умножить значения в сигнале на какую-нибудь оконную функцию. Для этого в модуле `scipy.signal` есть пространство имён `windows` и функция `get_window`. Со списком окон можно ознакомиться в документации:  \n",
    "https://docs.scipy.org/doc/scipy/reference/generated/scipy.signal.get_window.html\n",
    "\n",
    "Например, получим окно Ханна под наш сигнал:"
   ]
  },
  {
   "cell_type": "code",
   "execution_count": null,
   "metadata": {},
   "outputs": [],
   "source": [
    "from scipy import signal\n",
    "hann_window = signal.get_window(\"hann\", N)\n",
    "plt.plot(x, hann_window)\n",
    "plt.xlabel(\"Time, s\")\n",
    "plt.ylabel(\"Amplitude\")\n",
    "plt.show()"
   ]
  },
  {
   "cell_type": "markdown",
   "metadata": {},
   "source": [
    "Мы можем просто умножить сигнал на окно:"
   ]
  },
  {
   "cell_type": "code",
   "execution_count": null,
   "metadata": {},
   "outputs": [],
   "source": [
    "y_windowed = y * hann_window\n",
    "plt.plot(x, y_windowed)\n",
    "plt.xlabel(\"Time, s\")\n",
    "plt.ylabel(\"Amplitude\")\n",
    "plt.show()"
   ]
  },
  {
   "cell_type": "markdown",
   "metadata": {},
   "source": [
    "Заново вычислим преобразование Фурье:"
   ]
  },
  {
   "cell_type": "code",
   "execution_count": null,
   "metadata": {},
   "outputs": [],
   "source": [
    "yf_windowed = fft(y_windowed)\n",
    "plt.plot(xf, 2.0/N * np.abs(yf_windowed[0:N//2]))\n",
    "plt.xlabel(\"Frequency, Hz\")\n",
    "plt.ylabel(\"Amplitude\")\n",
    "plt.grid()\n",
    "plt.show()"
   ]
  },
  {
   "cell_type": "markdown",
   "metadata": {},
   "source": [
    "**Задание для выполнения в классе**: прочитайте файл cta0001.wav с помощью `scipy.io.wavfile` и нарисуйте на графике спектр Фурье фрагмента сигнала, который начинается с 200 мс и длится 30 мс. Используйте любую оконную функцию."
   ]
  },
  {
   "cell_type": "code",
   "execution_count": null,
   "metadata": {},
   "outputs": [],
   "source": [
    "!wget https://pkholyavin.github.io/mastersprogramming/cta0001.wav"
   ]
  },
  {
   "cell_type": "code",
   "execution_count": null,
   "metadata": {},
   "outputs": [],
   "source": []
  },
  {
   "cell_type": "markdown",
   "metadata": {},
   "source": [
    "Другие полезности `scipy`:\n",
    "\n",
    "`scipy.spatial`: пространственные алгоритмы. Здесь вы можете, например, получить расстояние между двумя векторами по разным метрикам."
   ]
  },
  {
   "cell_type": "code",
   "execution_count": 1,
   "metadata": {},
   "outputs": [],
   "source": [
    "a, b, c = [0, 1], [1, 0], [1, 1]"
   ]
  },
  {
   "cell_type": "code",
   "execution_count": null,
   "metadata": {},
   "outputs": [],
   "source": [
    "from scipy.spatial import distance\n",
    "distance.euclidean(a, b)  # Евклидово расстояние"
   ]
  },
  {
   "cell_type": "code",
   "execution_count": null,
   "metadata": {},
   "outputs": [],
   "source": [
    "distance.cosine(a, b)  # Косинусное расстояние"
   ]
  },
  {
   "cell_type": "markdown",
   "metadata": {},
   "source": [
    "Замечание: часто пользуются понятием косинусной близости. Чтобы из косинусного расстояния получить косинусную близость, надо его вычесть из единицы."
   ]
  },
  {
   "cell_type": "code",
   "execution_count": null,
   "metadata": {},
   "outputs": [],
   "source": [
    "1 - distance.cosine(a, b) # Косинусная близость"
   ]
  },
  {
   "cell_type": "markdown",
   "metadata": {},
   "source": [
    "Матрица (Евклидовых) расстояний:"
   ]
  },
  {
   "cell_type": "code",
   "execution_count": null,
   "metadata": {},
   "outputs": [],
   "source": [
    "from scipy.spatial import distance_matrix\n",
    "dm = distance_matrix([a, b, c], [a, b, c])\n",
    "print(dm)"
   ]
  },
  {
   "cell_type": "markdown",
   "metadata": {},
   "source": [
    "Визуализируем матрицу с помощью функции `imshow` (такой график называется <a href=\"https://en.wikipedia.org/wiki/Heat_map\">heatmap</a>, т.е. тепловой картой):"
   ]
  },
  {
   "cell_type": "code",
   "execution_count": null,
   "metadata": {},
   "outputs": [],
   "source": [
    "plt.imshow(dm)\n",
    "plt.xticks(range(len(dm)), [\"a\", \"b\", \"c\"])\n",
    "plt.yticks(range(len(dm)), [\"a\", \"b\", \"c\"])\n",
    "plt.show()"
   ]
  },
  {
   "cell_type": "markdown",
   "metadata": {},
   "source": [
    "Подпишем в каждой клетке тепловой карты её значение:"
   ]
  },
  {
   "cell_type": "code",
   "execution_count": null,
   "metadata": {},
   "outputs": [],
   "source": [
    "plt.imshow(dm)\n",
    "plt.xticks(range(len(dm)), [\"a\", \"b\", \"c\"])\n",
    "plt.yticks(range(len(dm)), [\"a\", \"b\", \"c\"])\n",
    "for i in range(len(dm)):\n",
    "    for j in range(len(dm)):\n",
    "        plt.text(i, j, f\"{dm[i][j]:.3f}\", ha=\"center\", va=\"center\", color=\"w\", size=15)\n",
    "plt.show()"
   ]
  },
  {
   "cell_type": "markdown",
   "metadata": {},
   "source": [
    "Более подробное руководство по созданию аннотированных тепловых карт можно найти здесь:  \n",
    "https://matplotlib.org/stable/gallery/images_contours_and_fields/image_annotated_heatmap.html"
   ]
  },
  {
   "cell_type": "markdown",
   "metadata": {},
   "source": [
    "`scipy.interpolate`: интерполяция сигналов. Линейная интерполяция (модифицированный пример из документации `scipy`):"
   ]
  },
  {
   "cell_type": "code",
   "execution_count": 33,
   "metadata": {},
   "outputs": [],
   "source": [
    "x = np.linspace(0, 10, num=11)\n",
    "y = np.cos(-x**2 / 9.0)"
   ]
  },
  {
   "cell_type": "code",
   "execution_count": 34,
   "metadata": {},
   "outputs": [],
   "source": [
    "xnew = np.linspace(0, 10, num=1001)\n",
    "ynew = np.interp(xnew, x, y)"
   ]
  },
  {
   "cell_type": "code",
   "execution_count": null,
   "metadata": {},
   "outputs": [],
   "source": [
    "plt.plot(xnew, np.cos(-xnew**2 / 9.0), '-', color=\"gray\", label=\"original data\")\n",
    "plt.plot(xnew, ynew, '-', label='linear interpolation')\n",
    "plt.plot(x, y, 'o', label='sampled data')\n",
    "plt.legend(loc='best')\n",
    "plt.show()"
   ]
  },
  {
   "cell_type": "markdown",
   "metadata": {},
   "source": [
    "Интерполяция кубическими сплайнами:"
   ]
  },
  {
   "cell_type": "code",
   "execution_count": 36,
   "metadata": {},
   "outputs": [],
   "source": [
    "from scipy.interpolate import CubicSpline\n",
    "x = np.linspace(0, 10, num=11)\n",
    "y = np.cos(-x**2 / 9.0)\n",
    "spl = CubicSpline(x, y)"
   ]
  },
  {
   "cell_type": "markdown",
   "metadata": {},
   "source": [
    "Мы получили объект класса `CubicSpline`, который можем вызывать как функцию. Аргументом этой функции могут быть как числа (тогда на выходе мы получим значение интерполированного сигнала в этой точке), так и массивы чисел (тогда, соответственно, мы получим массив интерполированных значений)."
   ]
  },
  {
   "cell_type": "code",
   "execution_count": null,
   "metadata": {},
   "outputs": [],
   "source": [
    "xnew = np.linspace(0, 10, num=1001)\n",
    "plt.plot(xnew, np.cos(-xnew**2 / 9.0), '-', color=\"gray\", label=\"original data\")\n",
    "plt.plot(xnew, spl(xnew), '-', label='cubic spline interpolation')\n",
    "plt.plot(x, y, 'o', label='sampled data')\n",
    "plt.legend(loc='best')\n",
    "plt.show()"
   ]
  },
  {
   "cell_type": "markdown",
   "metadata": {},
   "source": [
    "**Задание для выполнения в классе**: получите PitchTier для файла cta0001.wav с помощью библиотеки `parselmouth`. Используйте команду \"Stylize\", чтобы стилизовать контур с точностью 5 Гц, а затем интерполируйте стилизованный контур с помощью кубических сплайнов.  \n",
    "<img src=\"https://pkholyavin.github.io/mastersprogramming/stylize.png\" width=\"500\">"
   ]
  },
  {
   "cell_type": "code",
   "execution_count": null,
   "metadata": {},
   "outputs": [],
   "source": []
  },
  {
   "cell_type": "markdown",
   "metadata": {},
   "source": [
    "Ещё одна полезная библиотека для работы со звуком &ndash; `librosa`. Она не ориентирована конкретно для работы с речевыми сигналами, но в ней есть функции для вычисления различных акустических признаков.\n",
    "\n",
    "https://librosa.org/doc/latest/tutorial.html"
   ]
  },
  {
   "cell_type": "markdown",
   "metadata": {},
   "source": [
    "Например, вычислим мел-кепстральные коэффициенты:"
   ]
  },
  {
   "cell_type": "code",
   "execution_count": 51,
   "metadata": {},
   "outputs": [],
   "source": [
    "import librosa\n",
    "N = 600\n",
    "fs_sine = 800\n",
    "T = 1 / fs_sine\n",
    "x = np.linspace(0.0, N*T, N, endpoint=False)\n",
    "y = np.sin(50.0 * 2.0*np.pi*x) + 0.5*np.sin(80.0 * 2.0*np.pi*x)\n",
    "sine_mfcc = librosa.feature.mfcc(y=y, sr=fs_sine, n_mfcc=13, n_fft=256, hop_length=64)"
   ]
  },
  {
   "cell_type": "markdown",
   "metadata": {},
   "source": [
    "Параметры функции `mfcc`: https://librosa.org/doc/latest/generated/librosa.feature.mfcc.html#librosa.feature.mfcc"
   ]
  },
  {
   "cell_type": "markdown",
   "metadata": {},
   "source": [
    "Обработка сигнала окнами:"
   ]
  },
  {
   "cell_type": "code",
   "execution_count": null,
   "metadata": {},
   "outputs": [],
   "source": [
    "librosa.util.frame(np.arange(10), frame_length=3, hop_length=2, axis=0)"
   ]
  },
  {
   "cell_type": "markdown",
   "metadata": {},
   "source": [
    "**Задание для выполнения в классе**: обработайте сигнал сta0001.wav окнами по 30 мс с шагом 10 мс, на каждом окне вычислите максимум амплитуды. Постройте график."
   ]
  },
  {
   "cell_type": "code",
   "execution_count": null,
   "metadata": {},
   "outputs": [],
   "source": []
  },
  {
   "cell_type": "markdown",
   "metadata": {},
   "source": [
    "**Домашнее задание**:\n",
    "\n",
    "1. Для записи фонетически представительного текста fpt1 посчитать частотность разных аллофонов на уровне \"acoustic\" в разметке.\n",
    "2. Выбрать те аллофоны гласных, которые встретились больше 20 раз, для каждого из них вычислить средние значения мел-кепстральных коэффициентов в окне, взятом из середины звука (выберите сами длину окна и количество коэффициентов).\n",
    "3. Построить матрицу расстояний между ними с помощью функции `scipy.spatial.distance_matrix`\n",
    "4. Сделать визуализацию"
   ]
  }
 ],
 "metadata": {
  "kernelspec": {
   "display_name": "Python 3",
   "language": "python",
   "name": "python3"
  },
  "language_info": {
   "codemirror_mode": {
    "name": "ipython",
    "version": 3
   },
   "file_extension": ".py",
   "mimetype": "text/x-python",
   "name": "python",
   "nbconvert_exporter": "python",
   "pygments_lexer": "ipython3",
   "version": "3.13.2"
  }
 },
 "nbformat": 4,
 "nbformat_minor": 2
}
