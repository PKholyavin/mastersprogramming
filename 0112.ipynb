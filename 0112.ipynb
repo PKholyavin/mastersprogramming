{
 "cells": [
  {
   "cell_type": "markdown",
   "metadata": {},
   "source": [
    "Обработка исключений"
   ]
  },
  {
   "cell_type": "code",
   "execution_count": null,
   "metadata": {},
   "outputs": [],
   "source": [
    "a = 1 / 0  # ZeroDivisionError"
   ]
  },
  {
   "cell_type": "code",
   "execution_count": null,
   "metadata": {},
   "outputs": [],
   "source": [
    "a = [1, 2]\n",
    "a[5] = 0  # IndexError"
   ]
  },
  {
   "cell_type": "code",
   "execution_count": null,
   "metadata": {},
   "outputs": [],
   "source": [
    "try:\n",
    "    a = 1 / 0\n",
    "except:\n",
    "    print(\"Oops\")\n",
    "    a = 0"
   ]
  },
  {
   "cell_type": "code",
   "execution_count": null,
   "metadata": {},
   "outputs": [],
   "source": [
    "try:\n",
    "    a = 1 / 0\n",
    "except Exception:  # общее название всех исключений\n",
    "    print(\"Oops\")\n",
    "    a = 0"
   ]
  },
  {
   "cell_type": "code",
   "execution_count": null,
   "metadata": {},
   "outputs": [],
   "source": [
    "try:\n",
    "    a = 1 / 0\n",
    "except ZeroDivisionError:  # это исключение вызывается при делении на 0\n",
    "    print(\"Oops\")\n",
    "    a = 0"
   ]
  },
  {
   "cell_type": "code",
   "execution_count": null,
   "metadata": {},
   "outputs": [],
   "source": [
    "try:\n",
    "    a = 1 / 0\n",
    "except IndexError:  # это исключение вызывается при обращении к неправильному индексу\n",
    "    print(\"Oops\")\n",
    "    a = 0"
   ]
  },
  {
   "cell_type": "code",
   "execution_count": null,
   "metadata": {},
   "outputs": [],
   "source": [
    "b = [1, 2]\n",
    "# b = [1, 2, 0]\n",
    "try:\n",
    "    a = 1 / b[2]\n",
    "except (IndexError, ZeroDivisionError):  # обрабатываем несколько типов исключений сразу\n",
    "    print(\"Oops\")\n",
    "    a = 0"
   ]
  },
  {
   "cell_type": "code",
   "execution_count": null,
   "metadata": {},
   "outputs": [],
   "source": [
    "try:\n",
    "    a = 1 / 0\n",
    "except ZeroDivisionError as e:  # сохраняем текст исключения\n",
    "    print(\"The following exception has occured:\", e)\n",
    "    a = 0"
   ]
  },
  {
   "cell_type": "markdown",
   "metadata": {},
   "source": [
    "try/except/else/finally:"
   ]
  },
  {
   "cell_type": "code",
   "execution_count": null,
   "metadata": {},
   "outputs": [],
   "source": [
    "c = 0\n",
    "# c = 1\n",
    "try:\n",
    "    a = 1 / c\n",
    "except ZeroDivisionError:\n",
    "    print(\"Oops\")\n",
    "    a = 0\n",
    "else:\n",
    "    print(\"Success\")\n",
    "finally:\n",
    "    print(\"Finishing up\")"
   ]
  },
  {
   "cell_type": "markdown",
   "metadata": {},
   "source": [
    "finally выполняется в любом случае; здесь стоит писать код, который должен обязательно выполниться (например, закрывает файл)"
   ]
  },
  {
   "cell_type": "markdown",
   "metadata": {},
   "source": [
    "Особенности употребления:\n",
    "1. try/except стоит применять, когда вероятность ошибки довольно низкая. В противном случае лучше использовать if/else\n",
    "2. Внутри try стоит писать только код, который может вызвать ошибку, ничего лишнего\n",
    "3. Внутри finally И try не стоит писать return"
   ]
  },
  {
   "cell_type": "markdown",
   "metadata": {},
   "source": [
    "Вызов исключений:"
   ]
  },
  {
   "cell_type": "code",
   "execution_count": null,
   "metadata": {},
   "outputs": [],
   "source": [
    "def merge_strings(a, b):\n",
    "    \"\"\"Merges two strings: abc, def -> adbecf\"\"\"\n",
    "    if not isinstance(a, str) or not isinstance(b, str):\n",
    "        raise TypeError(\"a and b should be strings\")\n",
    "    if len(a) != len(b):\n",
    "        raise ValueError(\"a and b should be equal in length\")\n",
    "    return \"\".join(i + j for i, j in zip(a, b))"
   ]
  },
  {
   "cell_type": "code",
   "execution_count": null,
   "metadata": {},
   "outputs": [],
   "source": [
    "merge_strings(\"abc\", \"def\")"
   ]
  },
  {
   "cell_type": "code",
   "execution_count": null,
   "metadata": {},
   "outputs": [],
   "source": [
    "merge_strings(\"abc\", \"defg\")  # ValueError"
   ]
  },
  {
   "cell_type": "code",
   "execution_count": null,
   "metadata": {},
   "outputs": [],
   "source": [
    "merge_strings(\"abc\", 1)  # TypeError"
   ]
  },
  {
   "cell_type": "markdown",
   "metadata": {},
   "source": [
    "Список возможных исключений:\n",
    "\n",
    "https://docs.python.org/3/library/exceptions.html"
   ]
  },
  {
   "cell_type": "markdown",
   "metadata": {},
   "source": [
    "Важные\n",
    "\n",
    "IndexError - индекс за границами\n",
    "\n",
    "TypeError - неверный тип\n",
    "\n",
    "UnicodeError - ошибка при обработке символов Unicode\n",
    "\n",
    "ValueError - верный тип, но неверное значение\n",
    "\n",
    "ZeroDivisionError - деление на 0\n",
    "\n",
    "FileNotFoundError - не существует требуемого файла (папки)"
   ]
  },
  {
   "cell_type": "markdown",
   "metadata": {},
   "source": [
    "assert (служит для дебаггинга программы)\n",
    "\n",
    "Не стоит использовать это выражение в финальных версиях кода"
   ]
  },
  {
   "cell_type": "code",
   "execution_count": null,
   "metadata": {},
   "outputs": [],
   "source": [
    "def merge_strings(a, b):\n",
    "    assert len(a) == len(b)\n",
    "    return \"\".join(i + j for i, j in zip(a, b))"
   ]
  },
  {
   "cell_type": "code",
   "execution_count": null,
   "metadata": {},
   "outputs": [],
   "source": [
    "merge_strings(\"123\", \"4567\")  # AssertionError"
   ]
  }
 ],
 "metadata": {
  "kernelspec": {
   "display_name": "Python 3.9.0 64-bit",
   "language": "python",
   "name": "python3"
  },
  "language_info": {
   "codemirror_mode": {
    "name": "ipython",
    "version": 3
   },
   "file_extension": ".py",
   "mimetype": "text/x-python",
   "name": "python",
   "nbconvert_exporter": "python",
   "pygments_lexer": "ipython3",
   "version": "3.9.0"
  },
  "orig_nbformat": 4,
  "vscode": {
   "interpreter": {
    "hash": "364dcd152da2692276e72902df2858159ccc300c15062838033fe03303e9b26c"
   }
  }
 },
 "nbformat": 4,
 "nbformat_minor": 2
}
