{
 "cells": [
  {
   "attachments": {},
   "cell_type": "markdown",
   "metadata": {},
   "source": [
    "Написать функцию, вычисляющую расстояние Левенштейна между двумя произвольными строками. Расстояние Левенштейна (Levenshtein distance) - минимальное количество элементарных операций (замен, вставок и удалений символов), которое необходимо совершить, чтобы из одной строки получить другую.\n",
    "\n",
    "https://en.wikipedia.org/wiki/Levenshtein_distance#Iterative_with_full_matrix"
   ]
  }
 ],
 "metadata": {
  "language_info": {
   "name": "python"
  },
  "orig_nbformat": 4
 },
 "nbformat": 4,
 "nbformat_minor": 2
}
