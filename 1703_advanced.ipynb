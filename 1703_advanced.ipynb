{
 "cells": [
  {
   "cell_type": "markdown",
   "metadata": {},
   "source": [
    "Для работы с файлами разметки Praat (формат .TextGrid) существует библиотека TextGridTools. Её можно установить через командную строку с помощью pip:"
   ]
  },
  {
   "cell_type": "code",
   "execution_count": null,
   "metadata": {},
   "outputs": [],
   "source": [
    "!pip install tgt"
   ]
  },
  {
   "attachments": {},
   "cell_type": "markdown",
   "metadata": {},
   "source": [
    "По ссылке расположена документация, с которой стоит ознакомиться:\n",
    "\n",
    "https://textgridtools.readthedocs.io/en/stable/api.html"
   ]
  },
  {
   "cell_type": "code",
   "execution_count": 1,
   "metadata": {},
   "outputs": [],
   "source": [
    "import tgt"
   ]
  },
  {
   "attachments": {},
   "cell_type": "markdown",
   "metadata": {},
   "source": [
    "Прочитаем TextGrid:"
   ]
  },
  {
   "cell_type": "code",
   "execution_count": null,
   "metadata": {},
   "outputs": [],
   "source": [
    "!wget https://pkholyavin.github.io/mastersprogramming/cta0001.TextGrid"
   ]
  },
  {
   "cell_type": "code",
   "execution_count": 7,
   "metadata": {},
   "outputs": [],
   "source": [
    "grid = tgt.io.read_textgrid(\"cta0001.TextGrid\")"
   ]
  },
  {
   "cell_type": "markdown",
   "metadata": {},
   "source": [
    "Посмотрим, что внутри у полученного объекта, с помощью функции ```dir()``` (не считая служебных методов, которые начинаются с нижнего подчёркивания):"
   ]
  },
  {
   "cell_type": "code",
   "execution_count": null,
   "metadata": {},
   "outputs": [],
   "source": [
    "[i for i in dir(grid) if not i.startswith(\"_\")]"
   ]
  },
  {
   "cell_type": "markdown",
   "metadata": {},
   "source": [
    "В атрибуте tiers хранятся все уровни:"
   ]
  },
  {
   "cell_type": "code",
   "execution_count": null,
   "metadata": {},
   "outputs": [],
   "source": [
    "grid.tiers"
   ]
  },
  {
   "attachments": {},
   "cell_type": "markdown",
   "metadata": {},
   "source": [
    "Получим названия всех уровней:"
   ]
  },
  {
   "cell_type": "code",
   "execution_count": null,
   "metadata": {},
   "outputs": [],
   "source": [
    "grid.get_tier_names()"
   ]
  },
  {
   "attachments": {},
   "cell_type": "markdown",
   "metadata": {},
   "source": [
    "Получим уровень по названию:"
   ]
  },
  {
   "cell_type": "code",
   "execution_count": null,
   "metadata": {},
   "outputs": [],
   "source": [
    "grid.get_tier_by_name(\"words\")"
   ]
  },
  {
   "cell_type": "markdown",
   "metadata": {},
   "source": [
    "Объект класса TextGrid - итерируемый объект, мы можем получить все уровни простым циклом:"
   ]
  },
  {
   "cell_type": "code",
   "execution_count": null,
   "metadata": {},
   "outputs": [],
   "source": [
    "for tier in grid:\n",
    "    print(tier)"
   ]
  },
  {
   "cell_type": "markdown",
   "metadata": {},
   "source": [
    "Каждый уровень (объект класса IntervalTier или PointTier) - это тоже итерируемый объект:"
   ]
  },
  {
   "cell_type": "code",
   "execution_count": null,
   "metadata": {},
   "outputs": [],
   "source": [
    "word_tier = grid.get_tier_by_name(\"words\")\n",
    "for interval in word_tier:\n",
    "    print(interval)"
   ]
  },
  {
   "cell_type": "markdown",
   "metadata": {},
   "source": [
    "Посмотрим, что внутри у объекта IntervalTier:"
   ]
  },
  {
   "cell_type": "code",
   "execution_count": null,
   "metadata": {},
   "outputs": [],
   "source": [
    "[i for i in dir(word_tier) if not i.startswith(\"_\")]"
   ]
  },
  {
   "cell_type": "markdown",
   "metadata": {},
   "source": [
    "Некоторые полезные атрибуты:"
   ]
  },
  {
   "cell_type": "code",
   "execution_count": null,
   "metadata": {},
   "outputs": [],
   "source": [
    "print(word_tier.name)\n",
    "print(word_tier.start_time)\n",
    "print(word_tier.end_time)\n",
    "# не забудем, что, в отличие от Wave Assistant, Praat хранит время в секундах"
   ]
  },
  {
   "cell_type": "markdown",
   "metadata": {},
   "source": [
    "Посмотрим, что внутри у элементов аннотации:"
   ]
  },
  {
   "cell_type": "code",
   "execution_count": null,
   "metadata": {},
   "outputs": [],
   "source": [
    "one_word = word_tier[0]\n",
    "[i for i in dir(one_word) if not i.startswith(\"_\")]"
   ]
  },
  {
   "cell_type": "markdown",
   "metadata": {},
   "source": [
    "Получим эти атрибуты:"
   ]
  },
  {
   "cell_type": "code",
   "execution_count": null,
   "metadata": {},
   "outputs": [],
   "source": [
    "print(one_word.start_time)\n",
    "print(one_word.end_time)\n",
    "print(one_word.text)"
   ]
  },
  {
   "cell_type": "markdown",
   "metadata": {},
   "source": [
    "А что внутри у класса Point?"
   ]
  },
  {
   "cell_type": "code",
   "execution_count": null,
   "metadata": {},
   "outputs": [],
   "source": [
    "point = grid.get_tier_by_name(\"word boundaries\")[0]\n",
    "[i for i in dir(point) if not i.startswith(\"_\")]"
   ]
  },
  {
   "cell_type": "markdown",
   "metadata": {},
   "source": [
    "**Задание для выполнения в классе**: напишите цикл, который перебирает все интервалы из уровня ```\"phonetic real\"``` и выводит на экран название каждого интервала и его серединную точку."
   ]
  },
  {
   "cell_type": "code",
   "execution_count": null,
   "metadata": {},
   "outputs": [],
   "source": []
  },
  {
   "attachments": {},
   "cell_type": "markdown",
   "metadata": {},
   "source": [
    "Создадим пустой TextGrid:"
   ]
  },
  {
   "cell_type": "code",
   "execution_count": 24,
   "metadata": {},
   "outputs": [],
   "source": [
    "grid = tgt.core.TextGrid()"
   ]
  },
  {
   "attachments": {},
   "cell_type": "markdown",
   "metadata": {},
   "source": [
    "Добавим новый IntervalTier:"
   ]
  },
  {
   "cell_type": "code",
   "execution_count": 25,
   "metadata": {},
   "outputs": [],
   "source": [
    "new_tier = tgt.core.IntervalTier(name=\"new tier\")\n",
    "grid.add_tier(new_tier)"
   ]
  },
  {
   "cell_type": "markdown",
   "metadata": {},
   "source": [
    "Добавим в него новый интервал, который начинается в 0 с, заканчивается в 1 с и называется \"some text\""
   ]
  },
  {
   "cell_type": "code",
   "execution_count": null,
   "metadata": {},
   "outputs": [],
   "source": [
    "new_tier.add_interval(tgt.core.Interval(0, 1.0, \"some text\"))\n",
    "new_tier"
   ]
  },
  {
   "attachments": {},
   "cell_type": "markdown",
   "metadata": {},
   "source": [
    "Добавим новый PointTier:"
   ]
  },
  {
   "cell_type": "code",
   "execution_count": null,
   "metadata": {},
   "outputs": [],
   "source": [
    "new_point_tier = tgt.core.PointTier(name=\"new point tier\")\n",
    "grid.add_tier(new_point_tier)\n",
    "new_point_tier.add_point(tgt.core.Point(0.5, \"some text\"))\n",
    "new_point_tier"
   ]
  },
  {
   "attachments": {},
   "cell_type": "markdown",
   "metadata": {},
   "source": [
    "Запишем в разных форматах:"
   ]
  },
  {
   "cell_type": "code",
   "execution_count": null,
   "metadata": {},
   "outputs": [],
   "source": [
    "tgt.io.write_to_file(grid, \"new_grid_short.TextGrid\", format=\"short\")\n",
    "tgt.io.write_to_file(grid, \"new_grid_long.TextGrid\", format=\"long\")"
   ]
  },
  {
   "cell_type": "markdown",
   "metadata": {},
   "source": [
    "У файлов .TextGrid есть \"длинный\" и \"короткий\" варианты. Они содержат одну и ту же информацию, но \"длинный\" больше подходит для того, чтобы читать его глазами."
   ]
  },
  {
   "cell_type": "code",
   "execution_count": null,
   "metadata": {},
   "outputs": [],
   "source": [
    "!wget https://pkholyavin.github.io/mastersprogramming/cta0001.seg_B2"
   ]
  },
  {
   "cell_type": "markdown",
   "metadata": {},
   "source": [
    "Вспомним, как обрабатывать метки парами:"
   ]
  },
  {
   "cell_type": "code",
   "execution_count": null,
   "metadata": {},
   "outputs": [],
   "source": [
    "from itertools import product\n",
    "letters = \"GBRY\"\n",
    "nums = \"1234\"\n",
    "levels = [ch + num for num, ch in product(nums, letters)]\n",
    "level_codes = [2 ** i for i in range(len(levels))]\n",
    "code_to_level = {i: j for i, j in zip(level_codes, levels)}\n",
    "level_to_code = {j: i for i, j in zip(level_codes, levels)}\n",
    "def read_seg(filename: str, encoding: str = \"utf-8-sig\") -> tuple[dict, list[dict]]:\n",
    "    with open(filename, encoding=encoding) as f:\n",
    "        lines = [line.strip() for line in f.readlines()]\n",
    "\n",
    "    # найдём границы секций в списке строк:\n",
    "    header_start = lines.index(\"[PARAMETERS]\") + 1\n",
    "    data_start = lines.index(\"[LABELS]\") + 1\n",
    "\n",
    "    # прочитаем параметры\n",
    "    params = {}\n",
    "    for line in lines[header_start:data_start - 1]:\n",
    "        key, value = line.split(\"=\")\n",
    "        params[key] = int(value)\n",
    "\n",
    "    # прочитаем метки\n",
    "    labels = []\n",
    "    for line in lines[data_start:]:\n",
    "        # если в строке нет запятых, значит, это не метка и метки закончились\n",
    "        if line.count(\",\") < 2:\n",
    "            break\n",
    "        pos, level, name = line.split(\",\", maxsplit=2)\n",
    "        label = {\n",
    "            \"position\": int(pos) // params[\"BYTE_PER_SAMPLE\"] // params[\"N_CHANNEL\"],\n",
    "            \"level\": code_to_level[int(level)],\n",
    "            \"name\": name\n",
    "        }\n",
    "        labels.append(label)\n",
    "    return params, labels"
   ]
  },
  {
   "cell_type": "code",
   "execution_count": null,
   "metadata": {},
   "outputs": [],
   "source": [
    "def print_label_pairs(filename):\n",
    "    params, labels = read_seg(filename)\n",
    "    for start, end in zip(labels, labels[1:]):\n",
    "        print(start, end)"
   ]
  },
  {
   "cell_type": "markdown",
   "metadata": {},
   "source": [
    "**Задание для выполнения в классе**: напишите функцию, которая принимает на вход имя файла .seg и делает следующее:\n",
    "1. Читает из файла метки и параметры (вызывая готовую функцию ```read_seg()```)\n",
    "2. создаёт новый TextGrid и уровень IntervalTier\n",
    "3. Добавляет новый уровень в новый TextGrid\n",
    "4. Перебирает циклом все пары соседних меток\n",
    "5. Добавляет в уровень все интервалы, полученные таким образом (соответственно, время начала каждого интервала - позиция левой метки в паре, время конца - позиция правой, текст - имя левой метки)\n",
    "6. Записывает получившийся объект TextGrid в файл .TextGrid\n",
    "\n",
    "Не забудем, что в файлах .TextGrid время хранится **в секундах**! Чтобы перевести время из отсчётов в секунды, нужно разделить его на частоту дискретизации."
   ]
  },
  {
   "cell_type": "code",
   "execution_count": null,
   "metadata": {},
   "outputs": [],
   "source": []
  },
  {
   "cell_type": "markdown",
   "metadata": {},
   "source": [
    "Откроем полученный файл в Praat и посмотрим на него."
   ]
  },
  {
   "attachments": {},
   "cell_type": "markdown",
   "metadata": {},
   "source": [
    "**Домашнее задание**: написать программу, которая:\n",
    "1. Обрабатывает все файлы .seg в архиве cta_seg\n",
    "2. Для каждого аллофона вычисляет его среднюю длительность (в секундах) и стандартное отклонение\n",
    "3. Для файла cta0001 генерирует файл .TextGrid с двумя уровнями. Первый должен содержать информацию из .seg_B1 (границы звуков и их названия), а второй должен совпадать с первым, но имя каждого интервала должно содержать не название звука, а его длительность, нормализованную путём z-нормализации (https://en.wikipedia.org/wiki/Standard_score) и округлённую до 3 знаков после запятой.\n",
    "\n",
    "Чтобы вычислить нормализованную длительность звука, нужно из его физической длительности (в секундах) вычесть среднее значение длительности этого аллофона **по всему корпусу** и разделить на стандартное отклонение.\n",
    "\n",
    "Т.е. чтобы сделать это для, например, звука [u0] из слова \"юрий\", нужно определить среднее и ст. отклонение по всем звукам [u0] из всего корпуса и использовать эти значения. Для звука [r'] эти значения уже будут другими."
   ]
  },
  {
   "cell_type": "markdown",
   "metadata": {},
   "source": [
    "В качестве иллюстрации: сгенерируем массив из 100 случайных чисел и вычислим его среднее значение и стандартное отклонение."
   ]
  },
  {
   "cell_type": "code",
   "execution_count": 29,
   "metadata": {},
   "outputs": [],
   "source": [
    "import numpy as np"
   ]
  },
  {
   "cell_type": "code",
   "execution_count": null,
   "metadata": {},
   "outputs": [],
   "source": [
    "rng = np.random.default_rng()\n",
    "nums = rng.normal(loc=3, scale=1.5, size=100)  # нормальное распределение с МО=3 и СКО=1.5\n",
    "mean_value = np.mean(nums)\n",
    "st_dev = np.std(nums)\n",
    "print(mean_value, st_dev)"
   ]
  },
  {
   "cell_type": "markdown",
   "metadata": {},
   "source": [
    "Сгенерируем ещё одно случайное число из того же распределения и нормализуем его:"
   ]
  },
  {
   "cell_type": "code",
   "execution_count": null,
   "metadata": {},
   "outputs": [],
   "source": [
    "new_num = rng.normal(loc=3, scale=1.5)\n",
    "norm_num = (new_num - mean_value) / st_dev\n",
    "print(new_num, norm_num)"
   ]
  },
  {
   "cell_type": "markdown",
   "metadata": {},
   "source": [
    "Не забудьте открыть полученный файл в Praat, чтобы убедиться в том, что он:\n",
    "1. Открывается\n",
    "2. Содержит нужные данные\n",
    "3. Полученные значения адекватны - получиться должно примерно следующее (точные значения могут отличаться):\n",
    "\n",
    "<img src=\"https://pkholyavin.github.io/mastersprogramming/result_example.png\" width=\"1000\">"
   ]
  },
  {
   "cell_type": "markdown",
   "metadata": {},
   "source": [
    "Дополнительный материал: конвертация из триграфов Praat в символы Unicode\n",
    "\n",
    "Для хранения символов, не входящих в таблицу ASCII (символов МФА, кириллицы и других алфавитов), Praat пользуется своей собственной системой: каждому символу, не входящему в ASCII, сопоставляется т.н. триграф. Под триграфом понимается последовательность из обратного слеша \\\\ и двух символов ASCII. Например, символу ɨ соответствует триграф \\\\i-.\n",
    "\n",
    "https://www.fon.hum.uva.nl/praat/manual/TextGrid_file_formats.html  \n",
    "https://www.fon.hum.uva.nl/praat/manual/Special_symbols.html\n",
    "\n",
    "Всего в Praat определено несколько сотен таких триграфов, набор периодически расширяется (всего их возможно несколько тысяч, что, конечно, гораздо меньше, чем количество символов, определённых в Unicode). \n",
    "\n",
    "Файлы .TextGrid могут содержать как один вариант записи, так и другой. Для конвертации рекомендуется использовать саму программу Praat (вручную, написав скрипт или через библиотеку `parselmouth`). Однако можно заняться конвертацией самостоятельно, если очень хочется. Для этого посмотрим на ту часть исходного кода Praat, которая отвечает за конвертацию."
   ]
  },
  {
   "cell_type": "code",
   "execution_count": null,
   "metadata": {},
   "outputs": [],
   "source": [
    "# скачаем файлы исходного кода\n",
    "!wget https://raw.githubusercontent.com/praat/praat/master/kar/longchar.cpp\n",
    "!wget https://raw.githubusercontent.com/praat/praat/master/kar/UnicodeData.h"
   ]
  },
  {
   "cell_type": "code",
   "execution_count": 6,
   "metadata": {},
   "outputs": [],
   "source": [
    "with open(\"UnicodeData.h\") as f:\n",
    "    lines = f.readlines()\n",
    "\n",
    "# здесь хранятся коды символов Unicode в шестнадцатеричном представлении\n",
    "unicode_vals = {}\n",
    "for line in lines:\n",
    "    if not line.startswith(\"#define\"):\n",
    "        continue\n",
    "    _, name, val = line.strip().split()\n",
    "    if not name.startswith(\"UNICODE\"):\n",
    "        continue\n",
    "    unicode_vals[name] = chr(int(val, 16))"
   ]
  },
  {
   "cell_type": "code",
   "execution_count": 55,
   "metadata": {},
   "outputs": [],
   "source": [
    "import re\n",
    "\n",
    "with open(\"longchar.cpp\") as f:\n",
    "    lines = f.readlines()\n",
    "\n",
    "trigraph2unicode = {}\n",
    "\n",
    "# здесь хранится таблица соответствий\n",
    "for line in lines:\n",
    "    line = line.replace(\"\\\\'\", \"'\")\n",
    "    # напишем регулярное выражение, которое ищет в строке таблицы символы, входящие в триграф, и название символа Unicode\n",
    "    m = re.search(\"('[^,]+'), ?('[^,]+'),.+(UNICODE_\\w+)\", line)\n",
    "    if m is None:\n",
    "        continue\n",
    "    ch1, ch2, name = m[1][1:-1], m[2][1:-1], m[3]\n",
    "    if ch2 == \" \":\n",
    "        continue\n",
    "    trigraph2unicode[\"\\\\\" + ch1 + ch2] = unicode_vals[name]"
   ]
  },
  {
   "cell_type": "code",
   "execution_count": 48,
   "metadata": {},
   "outputs": [],
   "source": [
    "# сделаем словарь для обратной конвертации\n",
    "unicode2trigraph = {j: i for i, j in trigraph2unicode.items()}"
   ]
  },
  {
   "cell_type": "code",
   "execution_count": null,
   "metadata": {},
   "outputs": [],
   "source": [
    "# проверим:\n",
    "trigraph2unicode[\"\\\\i-\"]"
   ]
  },
  {
   "cell_type": "code",
   "execution_count": null,
   "metadata": {},
   "outputs": [],
   "source": [
    "unicode_string = \"bɨl tʲixʲij sʲerɨj vʲet͡ʃʲir\"\n",
    "trigraph_string = unicode_string.translate(str.maketrans(unicode2trigraph))\n",
    "print(trigraph_string)"
   ]
  }
 ],
 "metadata": {
  "kernelspec": {
   "display_name": "Python 3",
   "language": "python",
   "name": "python3"
  },
  "language_info": {
   "codemirror_mode": {
    "name": "ipython",
    "version": 3
   },
   "file_extension": ".py",
   "mimetype": "text/x-python",
   "name": "python",
   "nbconvert_exporter": "python",
   "pygments_lexer": "ipython3",
   "version": "3.9.0"
  },
  "orig_nbformat": 4
 },
 "nbformat": 4,
 "nbformat_minor": 2
}
