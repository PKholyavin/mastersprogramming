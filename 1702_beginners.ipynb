{
 "cells": [
  {
   "attachments": {},
   "cell_type": "markdown",
   "metadata": {},
   "source": [
    "Программа - это набор инструкций к выполнению. Самая простая инструкция - вывести на экран какой-либо текст. Для этого используем функцию **print**: в круглых скобках после этого слова укажем текст, заключённый в кавычки."
   ]
  },
  {
   "cell_type": "code",
   "execution_count": 5,
   "metadata": {},
   "outputs": [
    {
     "name": "stdout",
     "output_type": "stream",
     "text": [
      "Hello world\n"
     ]
    }
   ],
   "source": [
    "print(\"Hello world\")"
   ]
  },
  {
   "attachments": {},
   "cell_type": "markdown",
   "metadata": {},
   "source": [
    "В кавычках пишется любой текст. Такой текст в кавычках называется **строкой**. Кавычки могут быть одинарными или двойными, но открывающая и закрывающая кавычка должны совпадать. Если вы хотите, чтобы ваш текст включал одинарные кавычки, вам придётся заключить его в двойные, и наоборот:"
   ]
  },
  {
   "cell_type": "code",
   "execution_count": 13,
   "metadata": {},
   "outputs": [],
   "source": [
    "a = \"Bob's your uncle\"\n",
    "b = 'I like \"War and Peace\".'"
   ]
  },
  {
   "attachments": {},
   "cell_type": "markdown",
   "metadata": {},
   "source": [
    "Данные, с которыми работает программа, существуют в памяти в виде объектов. Чтобы иметь доступ к этим объектам в коде программы, мы заводим специальные имена, с помощью которых будем обращаться к этим объектам. Это - **переменные**."
   ]
  },
  {
   "attachments": {},
   "cell_type": "markdown",
   "metadata": {},
   "source": [
    "Чтобы привязать переменную к какому-либо значению, напишем имя переменной слева от знака равно, а справа напишем наше значение. Эта операция называется **присвоением** переменной значения.\n",
    "\n",
    "Имя переменной может состоять практически из любых символов, кроме ряда специальных символов, выполняющих разные операции в коде (в основном это знаки пунктуации и арифметические операции). Лучше всего использовать названия переменных, использующие только латинские буквы, цифры и знак подчёркивания _. Название переменной не может начинаться с цифры. Лучше всего, чтобы название переменной как-то отражало её суть."
   ]
  },
  {
   "attachments": {},
   "cell_type": "markdown",
   "metadata": {},
   "source": [
    "NB: О переменных лучше думать не как о коробочках с данными, а как о ярлычках, которые наклеиваются на эти коробочки. Две разные переменные могут ссылаться на один и тот же объект."
   ]
  },
  {
   "cell_type": "code",
   "execution_count": 1,
   "metadata": {},
   "outputs": [],
   "source": [
    "a = 5\n",
    "b = \"some words\"\n",
    "c = 7.8"
   ]
  },
  {
   "attachments": {},
   "cell_type": "markdown",
   "metadata": {},
   "source": [
    "Объектами могут быть самые разные данные. Например, это могут быть **целые числа** (5), **вещественные числа** (7.8) или **строки** (\"some words\")"
   ]
  },
  {
   "attachments": {},
   "cell_type": "markdown",
   "metadata": {},
   "source": [
    "В переменную можно присвоить не только готовые данные, но и результат вычисления какого-либо **выражения**. Если речь идёт о числах, то это могут быть какие-то арифметические операции. Например:"
   ]
  },
  {
   "cell_type": "code",
   "execution_count": 2,
   "metadata": {},
   "outputs": [
    {
     "name": "stdout",
     "output_type": "stream",
     "text": [
      "12\n"
     ]
    }
   ],
   "source": [
    "a = 5 + 7\n",
    "print(a)"
   ]
  },
  {
   "attachments": {},
   "cell_type": "markdown",
   "metadata": {},
   "source": [
    "В выражениях можно использовать имена переменных: в таком случае при вычислении программа подставит их значения."
   ]
  },
  {
   "cell_type": "code",
   "execution_count": 3,
   "metadata": {},
   "outputs": [
    {
     "name": "stdout",
     "output_type": "stream",
     "text": [
      "12\n"
     ]
    }
   ],
   "source": [
    "a = 5\n",
    "b = 7\n",
    "c = a + b\n",
    "print(c)"
   ]
  },
  {
   "attachments": {},
   "cell_type": "markdown",
   "metadata": {},
   "source": [
    "Кроме операции сложения +, мы можем проводить с числами следующие операции:\n",
    "\n",
    "a - b   вычитание\n",
    "\n",
    "a * b   умножение\n",
    "\n",
    "a / b   деление\n",
    "\n",
    "a // b  деление нацело (в результате получается целое число)\n",
    "\n",
    "a ** b  возведение в степень\n",
    "\n",
    "a % b   остаток от деления"
   ]
  },
  {
   "attachments": {},
   "cell_type": "markdown",
   "metadata": {},
   "source": [
    "Со строками также можно проводить операцию сложения:"
   ]
  },
  {
   "cell_type": "code",
   "execution_count": 4,
   "metadata": {},
   "outputs": [
    {
     "name": "stdout",
     "output_type": "stream",
     "text": [
      "abcdef\n"
     ]
    }
   ],
   "source": [
    "a = \"abc\"\n",
    "b = \"def\"\n",
    "print(a + b)"
   ]
  },
  {
   "attachments": {},
   "cell_type": "markdown",
   "metadata": {},
   "source": [
    "Заметим, что в функцию print можно подавать не только переменные, но и выражения."
   ]
  },
  {
   "attachments": {},
   "cell_type": "markdown",
   "metadata": {},
   "source": [
    "Имена переменных можно использовать заново и присваивать в них новые значения, в том числе с использованием старых:"
   ]
  },
  {
   "cell_type": "code",
   "execution_count": 10,
   "metadata": {},
   "outputs": [
    {
     "name": "stdout",
     "output_type": "stream",
     "text": [
      "6\n"
     ]
    }
   ],
   "source": [
    "a = 5\n",
    "a = a + 1\n",
    "print(a)"
   ]
  },
  {
   "attachments": {},
   "cell_type": "markdown",
   "metadata": {},
   "source": [
    "В коде можно оставлять **комментарии**: это текст, который игнорируется программой и виден только человеку. Для этого перед таким текстом поставим символ решётки #\n",
    "\n",
    "Комментарии могут быть на той же строке, что и код, или занимать отдельную строку. В комментариях стоит писать пояснения к коду, чтобы его было легче читать и понимать, что он выполняет. Комментарии стоит писать по-английски, если только вы не уверены на 100 %, что больше никто этот код читать не будет."
   ]
  },
  {
   "cell_type": "code",
   "execution_count": 6,
   "metadata": {},
   "outputs": [
    {
     "name": "stdout",
     "output_type": "stream",
     "text": [
      "abc\n"
     ]
    }
   ],
   "source": [
    "# this program prints out the string \"abc\"\n",
    "print(\"abc\") # we call the print() function\n"
   ]
  },
  {
   "attachments": {},
   "cell_type": "markdown",
   "metadata": {},
   "source": [
    "Напишем программу, которая выводит на экран объём параллелепипеда:"
   ]
  },
  {
   "cell_type": "code",
   "execution_count": 7,
   "metadata": {},
   "outputs": [
    {
     "name": "stdout",
     "output_type": "stream",
     "text": [
      "70\n"
     ]
    }
   ],
   "source": [
    "# заведём три переменные: длина, ширина и высота\n",
    "length = 5\n",
    "width = 7\n",
    "height = 2\n",
    "# объём параллелепипеда равен произведению его длины, ширины и высоты\n",
    "# выведем это произведение на экран\n",
    "print(length * width * height)"
   ]
  },
  {
   "attachments": {},
   "cell_type": "markdown",
   "metadata": {},
   "source": [
    "Напишем программу, которая будет вычислять, сколько дней прошло между двумя датами. Для простоты будем считать, что в каждом месяце 30 дней и в каждом году, соответственно, 360 дней. Будем решать по действиям:"
   ]
  },
  {
   "cell_type": "code",
   "execution_count": 8,
   "metadata": {},
   "outputs": [
    {
     "name": "stdout",
     "output_type": "stream",
     "text": [
      "1235\n"
     ]
    }
   ],
   "source": [
    "# объявим переменные, которые будут определять первую из двух дат:\n",
    "day_1 = 5\n",
    "month_1 = 10\n",
    "year_1 = 1999\n",
    "# то же самое для второй даты:\n",
    "day_2 = 10\n",
    "month_2 = 3\n",
    "year_2 = 2003\n",
    "# вычислим, сколько лет прошло между датами:\n",
    "year_diff = year_2 - year_1\n",
    "# переведём эту разницу в дни (в каждом году 360 дней):\n",
    "year_diff = year_diff * 360\n",
    "# вычислим дополнительную разницу между месяцами:\n",
    "month_diff = month_2 - month_1\n",
    "# переведём её в дни (в каждом месяце 30 дней):\n",
    "month_diff = month_diff * 30\n",
    "# и вычислим оставшуюся разницу между днями:\n",
    "day_diff = day_2 - day_1\n",
    "# чтобы получить искомую разницу, сложим все три числа:\n",
    "total_diff = year_diff + month_diff + day_diff\n",
    "# выведем её на экран:\n",
    "print(total_diff)"
   ]
  },
  {
   "attachments": {},
   "cell_type": "markdown",
   "metadata": {},
   "source": [
    "Некоторые действия можно упростить. Будем использовать круглые скобки для указания порядка действий. Сравните:"
   ]
  },
  {
   "cell_type": "code",
   "execution_count": 9,
   "metadata": {},
   "outputs": [
    {
     "name": "stdout",
     "output_type": "stream",
     "text": [
      "1235\n"
     ]
    }
   ],
   "source": [
    "day_1 = 5\n",
    "month_1 = 10\n",
    "year_1 = 1999\n",
    "\n",
    "day_2 = 10\n",
    "month_2 = 3\n",
    "year_2 = 2003\n",
    "\n",
    "year_diff = (year_2 - year_1) * 360\n",
    "month_diff = (month_2 - month_1) * 30\n",
    "day_diff = day_2 - day_1\n",
    "print(year_diff + month_diff + day_diff)"
   ]
  },
  {
   "attachments": {},
   "cell_type": "markdown",
   "metadata": {},
   "source": [
    "Задание на самостоятельное выполнение:\n",
    "\n",
    "Напишите программу, которая бы вычисляла расстояние между двумя точками на плоскости. Для каждой точки известны её координаты по осям x и y (задаются каждая в своей переменной). Например:"
   ]
  },
  {
   "cell_type": "code",
   "execution_count": 11,
   "metadata": {},
   "outputs": [],
   "source": [
    "x_1 = 2\n",
    "y_1 = 2\n",
    "x_2 = 4\n",
    "y_2 = 13\n",
    "# и дальше ваш код"
   ]
  },
  {
   "attachments": {},
   "cell_type": "markdown",
   "metadata": {},
   "source": [
    "Результат вывести на экран с помощью функции print.\n",
    "\n",
    "Подсказка: квадратный корень числа можно вычислить, используя операцию возведения в степень 0.5:"
   ]
  },
  {
   "cell_type": "code",
   "execution_count": 12,
   "metadata": {},
   "outputs": [
    {
     "name": "stdout",
     "output_type": "stream",
     "text": [
      "1.4142135623730951\n"
     ]
    }
   ],
   "source": [
    "print(2 ** 0.5)"
   ]
  }
 ],
 "metadata": {
  "kernelspec": {
   "display_name": "Python 3",
   "language": "python",
   "name": "python3"
  },
  "language_info": {
   "codemirror_mode": {
    "name": "ipython",
    "version": 3
   },
   "file_extension": ".py",
   "mimetype": "text/x-python",
   "name": "python",
   "nbconvert_exporter": "python",
   "pygments_lexer": "ipython3",
   "version": "3.9.0"
  },
  "orig_nbformat": 4,
  "vscode": {
   "interpreter": {
    "hash": "364dcd152da2692276e72902df2858159ccc300c15062838033fe03303e9b26c"
   }
  }
 },
 "nbformat": 4,
 "nbformat_minor": 2
}
