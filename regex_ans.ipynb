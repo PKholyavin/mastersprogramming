{
 "cells": [
  {
   "cell_type": "markdown",
   "metadata": {},
   "source": [
    "**Задание для выполнения в классе:** напишите регулярное выражение, которое найдёт в следующем тексте все двузначные числа от `00` до `59`."
   ]
  },
  {
   "cell_type": "code",
   "execution_count": null,
   "metadata": {},
   "outputs": [],
   "source": [
    "import re\n",
    "text = \"43 89 72 01 34 42 80 12 99 45 34 29 58\"\n",
    "re.findall(\"[0-5][0-9]\", text)"
   ]
  },
  {
   "cell_type": "markdown",
   "metadata": {},
   "source": [
    "**Задание для выполнения в классе:** напишите регулярное выражение, которое найдёт в английском тексте все наречия с суффиксом -ly."
   ]
  },
  {
   "cell_type": "code",
   "execution_count": null,
   "metadata": {},
   "outputs": [],
   "source": [
    "text = \"He was carefully disguised but captured quickly by police.\"\n",
    "re.findall(r\"\\w+ly\", text)"
   ]
  },
  {
   "cell_type": "markdown",
   "metadata": {},
   "source": [
    "**Задание для выполнения в классе:** напишите регулярное выражение, которое поможет отобрать из данного списка все слова с ударением на втором слоге (ударение обозначено цифрой `1` после буквы, обозначающей ударный гласный звук)."
   ]
  },
  {
   "cell_type": "code",
   "execution_count": null,
   "metadata": {},
   "outputs": [],
   "source": [
    "words = [\n",
    "    \"сто1лик\",\n",
    "    \"уда1чно\",\n",
    "    \"завуали1ровав\",\n",
    "    \"изверже1ние\",\n",
    "    \"взима1в\",\n",
    "    \"репи1тер\",\n",
    "    \"нормализова1в\",\n",
    "    \"бульдо1г\"\n",
    "]\n",
    "\n",
    "vowels = \"[аяоёуюыиэе]\"\n",
    "non_vowels = \"[^аяоёуюыиэе]\"\n",
    "[w for w in words if re.match(rf\"({non_vowels}*{vowels}){{2}}1\", w)]"
   ]
  },
  {
   "cell_type": "markdown",
   "metadata": {},
   "source": [
    "**Задание для выполнения в классе:** напишите программу, которая с помощью регулярных выражений ставит вокруг каждой гласной буквы квадратные скобки:\n"
   ]
  },
  {
   "cell_type": "code",
   "execution_count": null,
   "metadata": {},
   "outputs": [],
   "source": [
    "text = \"был тихий серый вечер. дул ветер, слабый и тёплый. небо было покрыто тучами\"\n",
    "re.sub(\"([аяоёуюыиэе])\", r\"[\\1]\", text)"
   ]
  },
  {
   "cell_type": "markdown",
   "metadata": {},
   "source": [
    "**Задание для выполнения в классе:** напишите программу, которая с помощью регулярных выражений генерирует таблицу успеваемости по тексту:\n"
   ]
  },
  {
   "cell_type": "code",
   "execution_count": 16,
   "metadata": {},
   "outputs": [],
   "source": [
    "text = 'Оценка ученика по предмету \"математика\" - 5. По предмету \"биология\" - 4. По предмету \"история\" он получил 4. Оценка по предмету \"физкультура\" - 3. Балл по предмету \"русский язык\" - 5.'"
   ]
  },
  {
   "cell_type": "code",
   "execution_count": null,
   "metadata": {},
   "outputs": [],
   "source": [
    "for m in re.finditer('\"(.+?)\".*?(\\d)', text):\n",
    "    print(f\"{m[1]} {m[2]}\")"
   ]
  }
 ],
 "metadata": {
  "kernelspec": {
   "display_name": "Python 3",
   "language": "python",
   "name": "python3"
  },
  "language_info": {
   "codemirror_mode": {
    "name": "ipython",
    "version": 3
   },
   "file_extension": ".py",
   "mimetype": "text/x-python",
   "name": "python",
   "nbconvert_exporter": "python",
   "pygments_lexer": "ipython3",
   "version": "3.9.0"
  }
 },
 "nbformat": 4,
 "nbformat_minor": 2
}
