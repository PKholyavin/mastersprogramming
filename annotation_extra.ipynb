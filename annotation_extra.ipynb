{
 "cells": [
  {
   "cell_type": "markdown",
   "metadata": {},
   "source": [
    "Существует несколько библиотек, которые помогают работать с фонетической транскрипцией. Одна из них &ndash; `phonecodes`, которая позволяет конвертировать транскрипцию из одной системы в другую.\n",
    "\n",
    "https://pypi.org/project/phonecodes/"
   ]
  },
  {
   "cell_type": "code",
   "execution_count": null,
   "metadata": {},
   "outputs": [],
   "source": [
    "!pip install phonecodes"
   ]
  },
  {
   "cell_type": "markdown",
   "metadata": {},
   "source": [
    "Выведем поддерживаемые системы транскрипции:"
   ]
  },
  {
   "cell_type": "code",
   "execution_count": null,
   "metadata": {},
   "outputs": [],
   "source": [
    "from phonecodes import phonecodes\n",
    "print(phonecodes.CODES)"
   ]
  },
  {
   "cell_type": "markdown",
   "metadata": {},
   "source": [
    "IPA &ndash; это Международный фонетический алфавит. <a href=\"https://en.wikipedia.org/wiki/X-SAMPA\">X-SAMPA</a> &ndash; это способ записи МФА с помощью только символов ASCII, предложенный Дж. Уэллзом."
   ]
  },
  {
   "cell_type": "code",
   "execution_count": null,
   "metadata": {},
   "outputs": [],
   "source": [
    "phonecodes.convert(\"ˈbɨl ˈtʲixʲij ˈsʲerɨj ˈvʲet͡ʃʲir\", \"ipa\", \"xsampa\")"
   ]
  },
  {
   "cell_type": "markdown",
   "metadata": {},
   "source": [
    "Эквивалентное использование:"
   ]
  },
  {
   "cell_type": "code",
   "execution_count": null,
   "metadata": {},
   "outputs": [],
   "source": [
    "phonecodes.ipa2xsampa(\"ˈbɨl ˈtʲixʲij ˈsʲerɨj ˈvʲet͡ʃʲir\")"
   ]
  },
  {
   "cell_type": "markdown",
   "metadata": {},
   "source": [
    "Обратите внимание, что некоторые символы не конвертируются &ndash; например, дуги, соединяющие аффрикаты и двойные артикуляции. Их можно заменить нижним подчёркиванием:"
   ]
  },
  {
   "cell_type": "code",
   "execution_count": null,
   "metadata": {},
   "outputs": [],
   "source": [
    "phonecodes.ipa2xsampa(\"ˈbɨl ˈtʲixʲij ˈsʲerɨj ˈvʲet͡ʃʲir\").replace(\"\\u0361\", \"_\")"
   ]
  },
  {
   "cell_type": "markdown",
   "metadata": {},
   "source": [
    "Также обратите внимание на способ передачи символов Unicode: вместо того, чтобы печатать символ ◌͡◌ напрямую (он комбинирующий, поэтому сам по себе плохо читается в коде), укажем его шестнадцатеричное представление после специальной последовательности `\\u`."
   ]
  },
  {
   "cell_type": "markdown",
   "metadata": {},
   "source": [
    "Другая система транскрипции, представленная в `phonecodes`, &ndash; ARPABET. Это система для английского языка, также целиком основанная на символах ASCII. "
   ]
  },
  {
   "cell_type": "code",
   "execution_count": null,
   "metadata": {},
   "outputs": [],
   "source": [
    "phonecodes.convert(\"ð ɪ s ɪ z ə t ˈɛ s t\", \"ipa\", \"arpabet\")"
   ]
  },
  {
   "cell_type": "markdown",
   "metadata": {},
   "source": [
    "Стоит заметить, что ARPABET может выглядеть немного по-разному в разных источниках. В частности, в корпусе TIMIT версия ARPABET отличается от базовой. Версия, представленная в `phonecodes`, подойдёт, например, чтобы работать со словарём <a href=\"http://www.speech.cs.cmu.edu/cgi-bin/cmudict\">CMU Pronouncing Dictionary</a>."
   ]
  },
  {
   "cell_type": "code",
   "execution_count": null,
   "metadata": {},
   "outputs": [],
   "source": [
    "phonecodes.convert(\"G R IY N\", \"arpabet\", \"ipa\")"
   ]
  },
  {
   "cell_type": "markdown",
   "metadata": {},
   "source": [
    "**Задание для выполнения в классе:** создайте для файла av1fpt1.TextGrid дополнительный уровень \"ideal x-sampa\", где продублируйте транскрипцию с уровня ideal в системе X-SAMPA. Подумайте, какие дополнительные преобразования нужно совершить с транскрипцией."
   ]
  },
  {
   "cell_type": "code",
   "execution_count": null,
   "metadata": {},
   "outputs": [],
   "source": []
  },
  {
   "cell_type": "code",
   "execution_count": null,
   "metadata": {},
   "outputs": [],
   "source": [
    "!wget https://pkholyavin.github.io/mastersprogramming/av1fpt1.TextGrid"
   ]
  },
  {
   "cell_type": "code",
   "execution_count": null,
   "metadata": {},
   "outputs": [],
   "source": []
  },
  {
   "cell_type": "markdown",
   "metadata": {},
   "source": [
    "Ещё одна интересная библиотека &ndash; `panphon`, которая позволяет конвертировать символы МФА в наборы бинарных фонологических признаков.\n",
    "\n",
    "https://pypi.org/project/panphon/0.5/"
   ]
  },
  {
   "cell_type": "code",
   "execution_count": null,
   "metadata": {},
   "outputs": [],
   "source": [
    "!pip install panphon==0.5"
   ]
  },
  {
   "cell_type": "code",
   "execution_count": null,
   "metadata": {},
   "outputs": [],
   "source": [
    "import panphon._panphon as panphon\n",
    "ft = panphon.FeatureTable()\n"
   ]
  },
  {
   "cell_type": "markdown",
   "metadata": {},
   "source": [
    "Функция `word_fts()` сгенерирует список наборов признаков для каждого звука в слове:"
   ]
  },
  {
   "cell_type": "code",
   "execution_count": null,
   "metadata": {},
   "outputs": [],
   "source": [
    "ft.word_fts('pʲãk')"
   ]
  },
  {
   "cell_type": "markdown",
   "metadata": {},
   "source": [
    "Функция `fts()` вернёт набор признаков для одного звука (или `None`, если поданная строка не является символом МФА):"
   ]
  },
  {
   "cell_type": "code",
   "execution_count": null,
   "metadata": {},
   "outputs": [],
   "source": [
    "ft.fts(\"tʰ\")"
   ]
  },
  {
   "cell_type": "code",
   "execution_count": 42,
   "metadata": {},
   "outputs": [],
   "source": [
    "ft.fts(\"ы\")"
   ]
  },
  {
   "cell_type": "markdown",
   "metadata": {},
   "source": [
    "Некоторые из этих признаков сомнительны:"
   ]
  },
  {
   "cell_type": "code",
   "execution_count": null,
   "metadata": {},
   "outputs": [],
   "source": [
    "f1, f2 = ft.word_fts('aɑ')\n",
    "print(f1.difference(f2))\n",
    "print(f2.difference(f1))"
   ]
  },
  {
   "cell_type": "markdown",
   "metadata": {},
   "source": [
    "**Задание для выполнения в классе:** создайте для файла av1fpt1.TextGrid дополнительный уровень \"vc\", где интервалы будут обозначать стечения гласных (V) и согласных (C). Ориентируйтесь на уровень acoustic.\n",
    "\n",
    "Обратите внимание, что в разметке корпуса символ МФА ɛ отражён не как `\\u025b`, а как `\\u03b5` (греческий эпсилон). `panphon` требует первый вариант.\n",
    "\n",
    "Дефис после [r] обозначает оглушение, что в МФА обозначается кружочком снизу: [r̥]. В Unicode это символ `\\u0325`."
   ]
  },
  {
   "cell_type": "code",
   "execution_count": null,
   "metadata": {},
   "outputs": [],
   "source": [
    "print(\"\\u025b\", \"\\u03b5\")"
   ]
  },
  {
   "cell_type": "code",
   "execution_count": null,
   "metadata": {},
   "outputs": [],
   "source": []
  },
  {
   "cell_type": "markdown",
   "metadata": {},
   "source": [
    "-------"
   ]
  },
  {
   "cell_type": "markdown",
   "metadata": {},
   "source": [
    "Следующая полезная библиотека &ndash; `pympi`, которая позволяет читать файлы разметки <a href=\"https://www.mpi.nl/tools/elan/docs/manual/index.html#Ch_Annotations.html\">ELAN</a>.\n",
    "\n",
    "https://dopefishh.github.io/pympi/index.html"
   ]
  },
  {
   "cell_type": "code",
   "execution_count": null,
   "metadata": {},
   "outputs": [],
   "source": [
    "!pip install pympi-ling"
   ]
  },
  {
   "cell_type": "code",
   "execution_count": 29,
   "metadata": {},
   "outputs": [],
   "source": [
    "import pympi"
   ]
  },
  {
   "cell_type": "code",
   "execution_count": null,
   "metadata": {},
   "outputs": [],
   "source": [
    "!wget https://pkholyavin.github.io/mastersprogramming/kholyavin_-_dolg_i.eaf"
   ]
  },
  {
   "cell_type": "code",
   "execution_count": 30,
   "metadata": {},
   "outputs": [],
   "source": [
    "eaf = pympi.Eaf(\"kholyavin_-_dolg_i.eaf\")"
   ]
  },
  {
   "cell_type": "markdown",
   "metadata": {},
   "source": [
    "Посмотрим на все аннотации (интервалы) во всех уровнях:"
   ]
  },
  {
   "cell_type": "code",
   "execution_count": null,
   "metadata": {},
   "outputs": [],
   "source": [
    "for tier in eaf.tiers:\n",
    "    print(f\"{tier=}\")\n",
    "    annotations = eaf.tiers[tier][0]\n",
    "    for id in annotations:\n",
    "        begin_ts, end_ts, value, _ = annotations[id]\n",
    "        print(f\"{begin_ts=}, {end_ts=}, {value=}\")"
   ]
  },
  {
   "cell_type": "markdown",
   "metadata": {},
   "source": [
    "Словарь, который содержит время каждого таймслота в миллисекундах:"
   ]
  },
  {
   "cell_type": "code",
   "execution_count": null,
   "metadata": {},
   "outputs": [],
   "source": [
    "eaf.timeslots"
   ]
  },
  {
   "cell_type": "markdown",
   "metadata": {},
   "source": [
    "Повторим то же самое, но вместо идентификаторов таймслотов подставим их значения:"
   ]
  },
  {
   "cell_type": "code",
   "execution_count": null,
   "metadata": {},
   "outputs": [],
   "source": [
    "for tier in eaf.tiers:\n",
    "    print(f\"{tier=}\")\n",
    "    annotations = eaf.tiers[tier][0]\n",
    "    for id in annotations:\n",
    "        begin_ts, end_ts, value, _ = annotations[id]\n",
    "        begin_time = eaf.timeslots[begin_ts]\n",
    "        end_time = eaf.timeslots[end_ts]\n",
    "        print(f\"{begin_time=}, {end_time=}, {value=}\")"
   ]
  },
  {
   "cell_type": "markdown",
   "metadata": {},
   "source": [
    "Сконвертируем в .TextGrid:"
   ]
  },
  {
   "cell_type": "code",
   "execution_count": 39,
   "metadata": {},
   "outputs": [],
   "source": [
    "new_tg = eaf.to_textgrid()\n",
    "new_tg.to_file(\"kholyavin_-_dolg_i.TextGrid\")"
   ]
  },
  {
   "cell_type": "markdown",
   "metadata": {},
   "source": [
    "Файлы .eaf &ndash; это разновидность файлов <a href=\"https://en.wikipedia.org/wiki/XML\">XML</a> (Extensible Markup Language). Для чтения файлов XML и HTML есть библиотека Beautiful Soup (установлена в Colab по умолчанию).\n",
    "\n",
    "https://www.crummy.com/software/BeautifulSoup/bs4/doc/"
   ]
  },
  {
   "cell_type": "code",
   "execution_count": 49,
   "metadata": {},
   "outputs": [],
   "source": [
    "from bs4 import BeautifulSoup\n",
    "with open(\"kholyavin_-_dolg_i.eaf\") as f:\n",
    "    soup = BeautifulSoup(f.read(), features=\"xml\")"
   ]
  },
  {
   "cell_type": "code",
   "execution_count": null,
   "metadata": {},
   "outputs": [],
   "source": [
    "print(soup.prettify())"
   ]
  },
  {
   "cell_type": "markdown",
   "metadata": {},
   "source": [
    "Посмотрим на аннотацию к корпусу LeaP (формат TASX):"
   ]
  },
  {
   "cell_type": "code",
   "execution_count": null,
   "metadata": {},
   "outputs": [],
   "source": [
    "!wget https://pkholyavin.github.io/mastersprogramming/ab_pol_eng_f_free_c1.xml"
   ]
  },
  {
   "cell_type": "code",
   "execution_count": 52,
   "metadata": {},
   "outputs": [],
   "source": [
    "with open(\"ab_pol_eng_f_free_c1.xml\") as f:\n",
    "    soup = BeautifulSoup(f.read(), features=\"xml\")"
   ]
  },
  {
   "cell_type": "code",
   "execution_count": null,
   "metadata": {},
   "outputs": [],
   "source": [
    "print(soup.prettify())"
   ]
  },
  {
   "cell_type": "markdown",
   "metadata": {},
   "source": [
    "Переберём все уровни аннотации, у каждого посмотрим метаданные. Для этого воспользуемся функцией `find_all()`, в которую в качестве аргумента передадим имя тега, который нас интересует. Функция вернёт нам список всех подходящих тегов. Внутри каждого тега тоже есть теги, можем использовать функцию ещё раз, чтобы найти внутри интересующую нас информацию.\n",
    "\n",
    "Отберём уровень, в котором содержатся слова. Каждое слово &ndash; это отдельное \"событие\", у которого время начала и конца хранятся как атрибуты, а сам текст &ndash; как содержание тега.\n",
    "\n",
    "Содержание (`contents`) &ndash; это всё то, что хранится между открывающим и закрывающим тегом. Это может быть как текст (строка), так и другие теги. В `bs4` в `.contents` хранится список.\n",
    "\n",
    "Все атрибуты тега (то, что пишется внутри открывающего тега со знаком =) хранятся в `.attrs` в виде словаря. "
   ]
  },
  {
   "cell_type": "code",
   "execution_count": null,
   "metadata": {},
   "outputs": [],
   "source": [
    "layers = soup.find_all(\"layer\")\n",
    "for lr in layers:\n",
    "    metadata = {}\n",
    "    for name in lr.find_all(\"name\"):\n",
    "        val = name.find_next_sibling(\"val\")\n",
    "        metadata[\"\".join(name.contents)] = \"\".join(val.contents)\n",
    "    if metadata.get(\"layer-type\") != \"words\":\n",
    "        continue\n",
    "    events = lr.find_all(\"event\")\n",
    "    for ev in events:\n",
    "        print(ev.attrs[\"start\"], ev.attrs[\"end\"], \"\".join(ev.contents))"
   ]
  },
  {
   "cell_type": "markdown",
   "metadata": {},
   "source": [
    "**Задание для выполнения в классе**: переберите все интервалы на уровне \"syll\" и создайте файл .TextGrid на его основе, предварительно преобразовав транскрипцию из X-SAMPA в IPA."
   ]
  },
  {
   "cell_type": "code",
   "execution_count": null,
   "metadata": {},
   "outputs": [],
   "source": []
  },
  {
   "cell_type": "markdown",
   "metadata": {},
   "source": [
    "**Домашнее задание:** основываясь на записях fpt1, попробуйте определить, есть ли зависимость между значениями формант и значениями признаков гласных hi, lo, back. Постройте соответствующие графики."
   ]
  }
 ],
 "metadata": {
  "kernelspec": {
   "display_name": "Python 3",
   "language": "python",
   "name": "python3"
  },
  "language_info": {
   "codemirror_mode": {
    "name": "ipython",
    "version": 3
   },
   "file_extension": ".py",
   "mimetype": "text/x-python",
   "name": "python",
   "nbconvert_exporter": "python",
   "pygments_lexer": "ipython3",
   "version": "3.9.0"
  }
 },
 "nbformat": 4,
 "nbformat_minor": 2
}
