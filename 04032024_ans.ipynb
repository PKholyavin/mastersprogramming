{
 "cells": [
  {
   "cell_type": "markdown",
   "metadata": {},
   "source": [
    "Задание для выполнения в классе: напишите функцию, которая возвращает n-е число Фибоначчи:\n",
    "1) с помощью рекурсии\n",
    "2) без помощи рекурсии\n",
    "\n",
    "Числа Фибоначчи:  \n",
    "0, 1, 1, 2, 3, 5, ...  \n",
    "F(0) = 0, F(1) = 1,  \n",
    "F(n) = F(n - 1) + F(n - 2) (n > 1)"
   ]
  },
  {
   "cell_type": "code",
   "execution_count": 13,
   "metadata": {},
   "outputs": [],
   "source": [
    "def fibonacci_rec(n):\n",
    "    if n in [0, 1]:\n",
    "        return n\n",
    "    return fibonacci_rec(n - 1) + fibonacci_rec(n - 2)"
   ]
  },
  {
   "cell_type": "code",
   "execution_count": 39,
   "metadata": {},
   "outputs": [],
   "source": [
    "def fibonacci_list(n):\n",
    "    fib = [0, 1]\n",
    "    for i in range(2, n + 1):\n",
    "        fib.append(fib[i - 1] + fib[i - 2])\n",
    "    return fib[n]"
   ]
  },
  {
   "cell_type": "code",
   "execution_count": 23,
   "metadata": {},
   "outputs": [],
   "source": [
    "def fibonacci_mem(n):\n",
    "    if n in [0, 1]:\n",
    "        return n\n",
    "    a, b = 0, 1\n",
    "    for i in range(2, n + 1):\n",
    "        a, b = b, a + b\n",
    "    return b"
   ]
  },
  {
   "cell_type": "markdown",
   "metadata": {},
   "source": [
    "Общая практика:"
   ]
  },
  {
   "cell_type": "markdown",
   "metadata": {},
   "source": [
    "1. Написать функцию, которая принимает на вход целое число n и выводит на экран \"ёлочку\" из звёздочек высотой n."
   ]
  },
  {
   "cell_type": "code",
   "execution_count": null,
   "metadata": {},
   "outputs": [],
   "source": [
    "#          *\n",
    "#         ***\n",
    "#        *****\n",
    "#       *******\n",
    "#      *********\n",
    "#     ***********\n",
    "#    *************\n",
    "#   ***************\n",
    "#  *****************\n",
    "# *******************"
   ]
  },
  {
   "cell_type": "code",
   "execution_count": 46,
   "metadata": {},
   "outputs": [],
   "source": [
    "def tree(n: int) -> None:\n",
    "    for i in range(n):\n",
    "        print(\" \" * (n - 1 - i) + \"*\" * (2 * i + 1))"
   ]
  },
  {
   "cell_type": "markdown",
   "metadata": {},
   "source": [
    "2. Дано:  \n",
    "(1) Последовательность пар случайных целых чисел от 1 до 100 (отсортированных по возрастанию)  \n",
    "(2) Последовательность случайных вещественных чисел от 1 до 100 (в случайном порядке)  \n",
    "Задание:  \n",
    "Для каждой пары чисел a, b из последовательности (1) определить, какие числа из последовательности (2) лежат между a и b. По очереди вывести на экран каждую пару и числа для неё в отсортированном порядке.  \n",
    "Чтобы получить последовательности, запустите ячейки ниже."
   ]
  },
  {
   "cell_type": "code",
   "execution_count": null,
   "metadata": {},
   "outputs": [],
   "source": [
    "# сгенерируем первую последовательность\n",
    "import random\n",
    "seq1_len = random.randint(5, 8)\n",
    "seq1_nums = sorted(random.sample(range(100), seq1_len * 2))\n",
    "seq1 = [[a, b] for a, b in zip(seq1_nums[::2], seq1_nums[1::2])]\n",
    "print(seq1)\n",
    "# сгенерируем вторую последовательность\n",
    "seq2_len = random.randint(50, 80)\n",
    "seq2 = [round(random.random() * 100, 4) for _ in range(seq2_len)]\n",
    "print(seq2)"
   ]
  },
  {
   "cell_type": "code",
   "execution_count": null,
   "metadata": {},
   "outputs": [],
   "source": [
    "# пример вывода:\n",
    "# [1, 5]\n",
    "# [1.2345, 2.3456, 3.4567]\n",
    "# [8, 12]\n",
    "# [8.0001, 9.0002, 10.0003, 11.0004]"
   ]
  },
  {
   "cell_type": "code",
   "execution_count": null,
   "metadata": {},
   "outputs": [],
   "source": [
    "for pair in seq1:\n",
    "    print(pair)\n",
    "    print(sorted(i for i in seq2 if pair[0] <= i <= pair[1]))"
   ]
  }
 ],
 "metadata": {
  "kernelspec": {
   "display_name": "Python 3",
   "language": "python",
   "name": "python3"
  },
  "language_info": {
   "codemirror_mode": {
    "name": "ipython",
    "version": 3
   },
   "file_extension": ".py",
   "mimetype": "text/x-python",
   "name": "python",
   "nbconvert_exporter": "python",
   "pygments_lexer": "ipython3",
   "version": "3.9.0"
  }
 },
 "nbformat": 4,
 "nbformat_minor": 2
}
