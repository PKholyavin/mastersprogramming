{
 "cells": [
  {
   "cell_type": "markdown",
   "metadata": {},
   "source": [
    "Методы строк: lower() и upper()"
   ]
  },
  {
   "cell_type": "code",
   "execution_count": null,
   "metadata": {},
   "outputs": [],
   "source": [
    "print(\"a\".upper())\n",
    "print(\"BAba\".lower())\n",
    "print(\"aaa1\".islower())\n",
    "print(\"ABAA1\".isupper())\n",
    "alph = \"абвгдеёжзийклмнопрстуфхцчшщъыьэюя\"\n",
    "print(alph + alph.upper())\n",
    "\n",
    "letter = \"А\"\n",
    "if letter.lower() in alph:\n",
    "    print(\"This is a letter\")"
   ]
  },
  {
   "cell_type": "markdown",
   "metadata": {},
   "source": [
    "Сортировка"
   ]
  },
  {
   "cell_type": "markdown",
   "metadata": {},
   "source": [
    "Сравнимость"
   ]
  },
  {
   "cell_type": "code",
   "execution_count": null,
   "metadata": {},
   "outputs": [],
   "source": [
    "print(1 < 2)\n",
    "print(\"a\" < \"b\")\n",
    "print(\"a\" < \"aa\")\n",
    "print([\"a\", \"b\"] < [\"b\", \"a\"])\n",
    "print([1, 2] < [2, 1])"
   ]
  },
  {
   "cell_type": "markdown",
   "metadata": {},
   "source": [
    "1. Функция sorted()\n",
    "\n",
    "Принимает на вход итерируемый объект\n",
    "\n",
    "Возвращает сортированный список, при этом оригинальный объект не изменяется!"
   ]
  },
  {
   "cell_type": "code",
   "execution_count": null,
   "metadata": {},
   "outputs": [],
   "source": [
    "a = [5, 3, 2, 6, 1]\n",
    "b = sorted(a)\n",
    "print(sorted(a))\n",
    "print(a)"
   ]
  },
  {
   "cell_type": "code",
   "execution_count": null,
   "metadata": {},
   "outputs": [],
   "source": [
    "a = \"35129\"\n",
    "print(sorted(a))"
   ]
  },
  {
   "cell_type": "code",
   "execution_count": null,
   "metadata": {},
   "outputs": [],
   "source": [
    "a = {1: \"9\", 2: \"2\", 3: \"1\"}\n",
    "print(sorted(a))"
   ]
  },
  {
   "cell_type": "markdown",
   "metadata": {},
   "source": [
    "Сортировать можно только те объекты, которые хранят сравнимые значения!"
   ]
  },
  {
   "cell_type": "code",
   "execution_count": null,
   "metadata": {},
   "outputs": [],
   "source": [
    "a = [3, 2, 3, \"6\", \"7\"]\n",
    "print(sorted(a))"
   ]
  },
  {
   "cell_type": "markdown",
   "metadata": {},
   "source": [
    "Аргумент reverse"
   ]
  },
  {
   "cell_type": "code",
   "execution_count": null,
   "metadata": {},
   "outputs": [],
   "source": [
    "a = [3, 5, 1, 2, 4]\n",
    "print(sorted(a))\n",
    "print(sorted(a, reverse=True))"
   ]
  },
  {
   "cell_type": "markdown",
   "metadata": {},
   "source": [
    "Ключ сортировки"
   ]
  },
  {
   "cell_type": "code",
   "execution_count": null,
   "metadata": {},
   "outputs": [],
   "source": [
    "a = [-1, 5, -8, -6, 2]\n",
    "print(sorted(a, key=abs)) # сортируем по модулю (функция abs())"
   ]
  },
  {
   "cell_type": "code",
   "execution_count": null,
   "metadata": {},
   "outputs": [],
   "source": [
    "a = [\"bac\", \"ac\", \"aaaac\", \"acba\", \"baaaaac\"]\n",
    "print(sorted(a, key=len)) # сортируем по длине (функция len())"
   ]
  },
  {
   "cell_type": "markdown",
   "metadata": {},
   "source": [
    "lambda-функции"
   ]
  },
  {
   "cell_type": "code",
   "execution_count": null,
   "metadata": {},
   "outputs": [],
   "source": [
    "a = [1, 3, 4, 2, 6, 7]\n",
    "print(sorted(a, key=lambda x: x ** 2 - 5 * x))"
   ]
  },
  {
   "cell_type": "code",
   "execution_count": null,
   "metadata": {},
   "outputs": [],
   "source": [
    "names = [\n",
    "    (\"John\", 20, 180), # имя, возраст, рост\n",
    "    (\"Jane\", 24, 175),\n",
    "    (\"Jill\", 22, 177)\n",
    "]\n",
    "print(sorted(names, key=lambda x: x[0])) # сортируем по имени\n",
    "print(sorted(names, key=lambda x: x[1])) # сортируем по возрасту\n",
    "print(sorted(names, key=lambda x: x[2])) # сортируем по росту"
   ]
  },
  {
   "cell_type": "code",
   "execution_count": null,
   "metadata": {},
   "outputs": [],
   "source": [
    "names = [\n",
    "    {\"name\": \"John\", \"age\": 20, \"height\": 180},\n",
    "    {\"name\": \"Jane\", \"age\": 24, \"height\": 175},\n",
    "    {\"name\": \"Jill\", \"age\": 22, \"height\": 177},\n",
    "]\n",
    "print(sorted(names, key=lambda x: x[\"name\"]))\n",
    "print(sorted(names, key=lambda x: x[\"age\"]))\n",
    "print(sorted(names, key=lambda x: x[\"height\"]))"
   ]
  },
  {
   "cell_type": "code",
   "execution_count": null,
   "metadata": {},
   "outputs": [],
   "source": [
    "names = [\n",
    "    {\"name\": \"John\", \"age\": 20, \"height\": 180},\n",
    "    {\"name\": \"Jane\", \"age\": 24, \"height\": 175},\n",
    "    {\"name\": \"Jill\", \"age\": 22, \"height\": 175},\n",
    "    {\"name\": \"Jack\", \"age\": 22, \"height\": 177},\n",
    "]\n",
    "print(sorted(names, key=lambda x: (x[\"age\"], x[\"height\"])))"
   ]
  },
  {
   "cell_type": "code",
   "execution_count": null,
   "metadata": {},
   "outputs": [],
   "source": [
    "word_frequencies = {\"word1\": 10, \"word2\": 4, \"word4\": 8, \"word3\": 3}\n",
    "print(sorted(word_frequencies))\n",
    "print(sorted(word_frequencies, key=lambda x: word_frequencies[x]))"
   ]
  },
  {
   "cell_type": "markdown",
   "metadata": {},
   "source": [
    "Метод sort() - только для списков!\n",
    "\n",
    "Модифицирует оригинальный список, не возвращает ничего!"
   ]
  },
  {
   "cell_type": "code",
   "execution_count": null,
   "metadata": {},
   "outputs": [],
   "source": [
    "a = [1, 2, 6, 4, 3]\n",
    "a.sort()\n",
    "print(a)"
   ]
  },
  {
   "cell_type": "markdown",
   "metadata": {},
   "source": [
    "Тоже можно использовать key и reverse"
   ]
  },
  {
   "cell_type": "code",
   "execution_count": null,
   "metadata": {},
   "outputs": [],
   "source": [
    "a = [1, -2, 6, -4, 3]\n",
    "a.sort(key=abs, reverse=True)\n",
    "print(a)"
   ]
  },
  {
   "cell_type": "markdown",
   "metadata": {},
   "source": [
    "Практическое задание:\n",
    "\n",
    "1. Считать таблицу из файла d07_s02_maps_tempo.txt. Таблица содержит данные о времени начала реплики, времени её конца и количестве слогов, произнесённых в реплике. Первая строка файла - шапка (названия столбцов), остальные строки содержат данные. Значения в ячейках таблицы разделены символами табуляции \\t. Строки таблицы были искусственно перемешаны\n",
    "2. Организовать её в виде списка словарей. Каждый словарь должен иметь вид {\"turn\": \"001\", \"start\": 7.235, \"end\": 10.815, \"role\": \"NOUSE\", \"num_syllables\": 16}\n",
    "3. Вывести на экран этот список, отсортированный (а) в изначальном порядке (по номеру реплики) (б) по длительности реплик (в) по темпу (количество слогов за единицу времени). В выведенном на экране списке не должно быть реплик, у которых в поле \"role\" стоит значение \"NOUSE\""
   ]
  },
  {
   "cell_type": "markdown",
   "metadata": {},
   "source": [
    "Как считать таблицу из файла? (обсуждаем вместе)"
   ]
  },
  {
   "cell_type": "code",
   "execution_count": null,
   "metadata": {},
   "outputs": [],
   "source": [
    "with open(\"d07_s02_maps_tempo.txt\", \"r\") as f:\n",
    "    lines = f.readlines()"
   ]
  },
  {
   "cell_type": "code",
   "execution_count": null,
   "metadata": {},
   "outputs": [],
   "source": [
    "header = lines[0].strip().split(\"\\t\")\n",
    "print(header)"
   ]
  },
  {
   "cell_type": "code",
   "execution_count": null,
   "metadata": {},
   "outputs": [],
   "source": [
    "turns = []\n",
    "for line in lines[1:]:\n",
    "    line = line.strip().split(\"\\t\")\n",
    "    turn = {}\n",
    "    for h in range(len(header)):\n",
    "        turn[header[h]] = line[h]\n",
    "    if turn[\"role\"] != \"NOUSE\":\n",
    "        turns.append(turn)\n"
   ]
  },
  {
   "cell_type": "code",
   "execution_count": null,
   "metadata": {},
   "outputs": [],
   "source": [
    "# (б)\n",
    "lambda x: float(x[\"end\"]) - float(x[\"start\"])\n",
    "# (в)\n",
    "lambda x: float(x[\"num_syllables\"]) / (float(x[\"end\"]) - float(x[\"start\"]))"
   ]
  }
 ],
 "metadata": {
  "kernelspec": {
   "display_name": "Python 3.10.7 64-bit",
   "language": "python",
   "name": "python3"
  },
  "language_info": {
   "codemirror_mode": {
    "name": "ipython",
    "version": 3
   },
   "file_extension": ".py",
   "mimetype": "text/x-python",
   "name": "python",
   "nbconvert_exporter": "python",
   "pygments_lexer": "ipython3",
   "version": "3.10.7"
  },
  "orig_nbformat": 4,
  "vscode": {
   "interpreter": {
    "hash": "afb734500600fd355917ca529030176ea0ca205570884b88f2f6f7d791fd3fbe"
   }
  }
 },
 "nbformat": 4,
 "nbformat_minor": 2
}
