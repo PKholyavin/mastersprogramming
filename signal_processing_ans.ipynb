{
 "cells": [
  {
   "cell_type": "markdown",
   "metadata": {},
   "source": [
    "**Задание для выполнения в классе**: прочитайте файл cta0001.wav с помощью `scipy.io.wavfile` и нарисуйте на графике спектр Фурье фрагмента сигнала, который начинается с 200 мс и длится 30 мс. Используйте любую оконную функцию."
   ]
  },
  {
   "cell_type": "code",
   "execution_count": null,
   "metadata": {},
   "outputs": [],
   "source": [
    "!wget https://pkholyavin.github.io/mastersprogramming/cta0001.wav"
   ]
  },
  {
   "cell_type": "code",
   "execution_count": 10,
   "metadata": {},
   "outputs": [],
   "source": [
    "from scipy.fft import fft, fftfreq\n",
    "from scipy.io import wavfile\n",
    "from scipy import signal\n",
    "import numpy as np\n",
    "import matplotlib.pyplot as plt"
   ]
  },
  {
   "cell_type": "code",
   "execution_count": 47,
   "metadata": {},
   "outputs": [],
   "source": [
    "fs, data = wavfile.read(\"cta0001.wav\")\n",
    "start_t = 0.2\n",
    "frame_dur_t = 0.03\n",
    "start_s = int(start_t * fs)\n",
    "frame_dur_s = int(frame_dur_t * fs)\n",
    "\n",
    "y = data[start_s:start_s + frame_dur_s]\n",
    "x = np.linspace(0.0, frame_dur_s / fs, frame_dur_s, endpoint=False)"
   ]
  },
  {
   "cell_type": "code",
   "execution_count": null,
   "metadata": {},
   "outputs": [],
   "source": [
    "plt.plot(x, y)\n",
    "plt.xlabel(\"Time, s\")\n",
    "plt.ylabel(\"Amplitude\")\n",
    "plt.show()"
   ]
  },
  {
   "cell_type": "code",
   "execution_count": null,
   "metadata": {},
   "outputs": [],
   "source": [
    "hann_window = signal.get_window(\"hann\", frame_dur_s)\n",
    "y_windowed = y * hann_window\n",
    "plt.plot(x, y_windowed)\n",
    "plt.xlabel(\"Time, s\")\n",
    "plt.ylabel(\"Amplitude\")\n",
    "plt.show()"
   ]
  },
  {
   "cell_type": "code",
   "execution_count": null,
   "metadata": {},
   "outputs": [],
   "source": [
    "xf = fftfreq(frame_dur_s, 1 / fs)[:frame_dur_s//2]\n",
    "yf_windowed = fft(y_windowed)\n",
    "plt.plot(xf, 2.0/frame_dur_s * np.abs(yf_windowed[0:frame_dur_s//2]))\n",
    "plt.xlabel(\"Frequency, Hz\")\n",
    "plt.ylabel(\"Amplitude\")\n",
    "plt.grid()\n",
    "plt.show()"
   ]
  },
  {
   "cell_type": "markdown",
   "metadata": {},
   "source": [
    "**Задание для выполнения в классе**: получите PitchTier для файла cta0001.wav с помощью библиотеки `parselmouth`. Используйте команду \"Stylize\", чтобы стилизовать контур с точностью 2 полутона, а затем интерполируйте стилизованный контур с помощью кубических сплайнов. "
   ]
  },
  {
   "cell_type": "code",
   "execution_count": null,
   "metadata": {},
   "outputs": [],
   "source": [
    "!pip install praat-parselmouth"
   ]
  },
  {
   "cell_type": "code",
   "execution_count": 13,
   "metadata": {},
   "outputs": [],
   "source": [
    "import parselmouth"
   ]
  },
  {
   "cell_type": "code",
   "execution_count": 40,
   "metadata": {},
   "outputs": [],
   "source": [
    "sound = parselmouth.Sound(\"cta0001.wav\")\n",
    "step, min_f0, max_f0 = 0.01, 75, 350  # s, Hz, Hz\n",
    "manip = parselmouth.praat.call(sound, \"To Manipulation\", step, min_f0, max_f0)\n",
    "pitch_tier = parselmouth.praat.call(manip, \"Extract pitch tier\")"
   ]
  },
  {
   "cell_type": "code",
   "execution_count": 41,
   "metadata": {},
   "outputs": [],
   "source": [
    "parselmouth.praat.call(pitch_tier, \"Stylize\", 5, \"Hz\")"
   ]
  },
  {
   "cell_type": "code",
   "execution_count": 42,
   "metadata": {},
   "outputs": [],
   "source": [
    "num_points = parselmouth.praat.call(pitch_tier, \"Get number of points\")\n",
    "time_values = []\n",
    "f0_values = []\n",
    "for i in range(1, num_points + 1):\n",
    "    time_values.append(parselmouth.praat.call(pitch_tier, \"Get time from index\", i))\n",
    "    f0_values.append(parselmouth.praat.call(pitch_tier, \"Get value at index\", i))"
   ]
  },
  {
   "cell_type": "code",
   "execution_count": 43,
   "metadata": {},
   "outputs": [],
   "source": [
    "from scipy.interpolate import CubicSpline\n",
    "spl = CubicSpline(time_values, f0_values)"
   ]
  },
  {
   "cell_type": "code",
   "execution_count": null,
   "metadata": {},
   "outputs": [],
   "source": [
    "xnew = np.linspace(0, max(time_values), num=1001)\n",
    "plt.plot(xnew, spl(xnew), '-', label='cubic spline interpolation')\n",
    "plt.plot(time_values, f0_values, 'o', label='stylized PitchTier')\n",
    "plt.legend(loc='best')\n",
    "plt.show()"
   ]
  },
  {
   "cell_type": "markdown",
   "metadata": {},
   "source": [
    "**Задание для выполнения в классе**: обработайте сигнал сta0001.wav окнами по 30 мс с шагом 10 мс, на каждом окне вычислите максимум амплитуды. Постройте график."
   ]
  },
  {
   "cell_type": "code",
   "execution_count": 48,
   "metadata": {},
   "outputs": [],
   "source": [
    "import librosa\n",
    "frame_length = int(0.03 * fs)\n",
    "hop_length = int(0.01 * fs)\n",
    "frames = librosa.util.frame(data, frame_length=frame_length, hop_length=hop_length, axis=0)"
   ]
  },
  {
   "cell_type": "code",
   "execution_count": null,
   "metadata": {},
   "outputs": [],
   "source": [
    "max_ampl = [max(fr) for fr in frames]\n",
    "plt.plot(max_ampl)\n",
    "plt.xlabel(\"Frames\")\n",
    "plt.ylabel(\"Max amplitude\")\n",
    "plt.show()"
   ]
  }
 ],
 "metadata": {
  "kernelspec": {
   "display_name": "Python 3",
   "language": "python",
   "name": "python3"
  },
  "language_info": {
   "codemirror_mode": {
    "name": "ipython",
    "version": 3
   },
   "file_extension": ".py",
   "mimetype": "text/x-python",
   "name": "python",
   "nbconvert_exporter": "python",
   "pygments_lexer": "ipython3",
   "version": "3.9.0"
  }
 },
 "nbformat": 4,
 "nbformat_minor": 2
}
