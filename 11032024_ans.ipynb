{
 "cells": [
  {
   "cell_type": "markdown",
   "metadata": {},
   "source": [
    "Задания для выполнения в классе:\n",
    "1. Написать программу, которая считывает .wav-файл, делит его на две половины и каждую записывает в отдельный файл. Оформите в виде функции, которая берёт на вход имя файла и возвращает имена получившихся файлов."
   ]
  },
  {
   "cell_type": "code",
   "execution_count": 1,
   "metadata": {},
   "outputs": [],
   "source": [
    "import wave\n",
    "import struct"
   ]
  },
  {
   "cell_type": "code",
   "execution_count": null,
   "metadata": {},
   "outputs": [],
   "source": [
    "def split_wave(filename: str) -> list[str]:\n",
    "    sampwidth_to_char = {1: \"c\", 2: \"h\", 4: \"i\"}\n",
    "\n",
    "    f = wave.open(filename)\n",
    "    num_samples = f.getnframes()\n",
    "    samplerate = f.getframerate()\n",
    "    sampwidth = f.getsampwidth()\n",
    "    num_channels = f.getnchannels()\n",
    "    fmt = str(num_samples * num_channels) + sampwidth_to_char[sampwidth]\n",
    "    signal = struct.unpack(fmt, f.readframes(num_samples * num_channels))\n",
    "\n",
    "    midpoint = len(signal) // 2\n",
    "    first = signal[:midpoint]\n",
    "    second = signal[midpoint:]\n",
    "\n",
    "    res_filenames = []\n",
    "    for i, part in enumerate([first, second]):\n",
    "        part_filename = f\"{filename.split(\".\")[0]}_part_{i + 1}.wav\"\n",
    "        res_filenames.append(part_filename)\n",
    "        \n",
    "        fmt = str(len(part)) + sampwidth_to_char[sampwidth]\n",
    "        data_packed = struct.pack(fmt, *part)\n",
    "        f = wave.open(part_filename, \"wb\")  # открываем на запись (w) в бинарном режиме (b)\n",
    "        f.setnchannels(num_channels)\n",
    "        f.setsampwidth(sampwidth)\n",
    "        f.setframerate(samplerate)\n",
    "        f.writeframes(data_packed)\n",
    "        f.close()\n",
    "\n",
    "    return res_filenames"
   ]
  },
  {
   "cell_type": "code",
   "execution_count": 2,
   "metadata": {},
   "outputs": [],
   "source": [
    "import scipy.io.wavfile as wavfile"
   ]
  },
  {
   "cell_type": "code",
   "execution_count": null,
   "metadata": {},
   "outputs": [],
   "source": [
    "def split_scipy(filename: str) -> list[str]:\n",
    "    samplerate, signal = wavfile.read(filename)\n",
    "\n",
    "    midpoint = len(signal) // 2\n",
    "    first = signal[:midpoint]\n",
    "    second = signal[midpoint:]\n",
    "\n",
    "    res_filenames = []\n",
    "    for i, part in enumerate([first, second]):\n",
    "        part_filename = f\"{filename.split(\".\")[0]}_part_{i + 1}.wav\"\n",
    "        res_filenames.append(part_filename)\n",
    "        wavfile.write(part_filename, samplerate, part)\n",
    "\n",
    "    return res_filenames"
   ]
  },
  {
   "cell_type": "code",
   "execution_count": null,
   "metadata": {},
   "outputs": [],
   "source": [
    "!pip install wavio"
   ]
  },
  {
   "cell_type": "code",
   "execution_count": null,
   "metadata": {},
   "outputs": [],
   "source": [
    "import wavio"
   ]
  },
  {
   "cell_type": "code",
   "execution_count": null,
   "metadata": {},
   "outputs": [],
   "source": [
    "def split_wavio(filename: str) -> list[str]:\n",
    "    data = wavio.read(filename)\n",
    "\n",
    "    midpoint = len(data.data) // 2\n",
    "    first = data.data[:midpoint]\n",
    "    second = data.data[midpoint:]\n",
    "\n",
    "    res_filenames = []\n",
    "    for i, part in enumerate([first, second]):\n",
    "        part_filename = f\"{filename.split(\".\")[0]}_part_{i + 1}.wav\"\n",
    "        res_filenames.append(part_filename)\n",
    "        wavio.write(part_filename, part, data.rate)\n",
    "\n",
    "    return res_filenames"
   ]
  },
  {
   "cell_type": "markdown",
   "metadata": {},
   "source": [
    "2. Написать программу, которая считывает .sbl-файл и сохраняет его как .wav. Оформите в виде функции, которая берёт на вход имя файла, частоту дискретизации, количество байт на отсчёт (по умолчанию - 2) и количество каналов (по умолчанию - 1) и возвращает имя получившегося файла."
   ]
  },
  {
   "cell_type": "code",
   "execution_count": 4,
   "metadata": {},
   "outputs": [],
   "source": [
    "def sbl_to_wav(filename: str, samplerate: int, sampwidth: int = 2, num_channels: int = 1) -> str:\n",
    "    with open(filename, \"rb\") as fi:\n",
    "        raw_signal = fi.read()\n",
    "            \n",
    "    # обратите внимание, что распаковывать данные не нужно!\n",
    "    # потому что их бы всё равно пришлось запаковывать обратно\n",
    "\n",
    "    res_filename = filename.split(\".\")[0] + \".wav\"\n",
    "    fo = wave.open(res_filename, \"wb\")  # открываем на запись (w) в бинарном режиме (b)\n",
    "    fo.setnchannels(num_channels)\n",
    "    fo.setsampwidth(sampwidth)\n",
    "    fo.setframerate(samplerate)\n",
    "    fo.writeframes(raw_signal)\n",
    "    fo.close()\n",
    "    return res_filename"
   ]
  }
 ],
 "metadata": {
  "kernelspec": {
   "display_name": "Python 3",
   "language": "python",
   "name": "python3"
  },
  "language_info": {
   "codemirror_mode": {
    "name": "ipython",
    "version": 3
   },
   "file_extension": ".py",
   "mimetype": "text/x-python",
   "name": "python",
   "nbconvert_exporter": "python",
   "pygments_lexer": "ipython3",
   "version": "3.9.0"
  }
 },
 "nbformat": 4,
 "nbformat_minor": 2
}
