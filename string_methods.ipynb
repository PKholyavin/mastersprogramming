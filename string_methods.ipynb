{
 "cells": [
  {
   "cell_type": "markdown",
   "metadata": {},
   "source": [
    "### Escape-последовательности\n",
    "\n",
    "`\\n` &ndash; новая строка  \n",
    "`\\r` &ndash; возврат каретки  \n",
    "`\\t` &ndash; табуляция  \n",
    "`\\\\` &ndash; обратный слэш\n",
    "\n",
    "Вместе с пробелом (`' '`) они составляют пробельные символы."
   ]
  },
  {
   "cell_type": "code",
   "execution_count": 1,
   "metadata": {},
   "outputs": [
    {
     "name": "stdout",
     "output_type": "stream",
     "text": [
      "a\n",
      "b\tc\n"
     ]
    }
   ],
   "source": [
    "print(\"a\\nb\\tc\")"
   ]
  },
  {
   "cell_type": "markdown",
   "metadata": {},
   "source": [
    "### Методы для работы со строками\n",
    "\n",
    "Так как строки неизменяемы, методы возвращают новые строки, а старые остаются без изменений.\n",
    "\n",
    "Метод `.split()` позволяет разбить строку на подстроки по какому-нибудь символу-разделителю. Он возвращает список строк. По умолчанию разделитель &ndash; любая последовательность пробельных символов."
   ]
  },
  {
   "cell_type": "code",
   "execution_count": 2,
   "metadata": {},
   "outputs": [
    {
     "name": "stdout",
     "output_type": "stream",
     "text": [
      "['1,', '2,', '3', '4']\n"
     ]
    }
   ],
   "source": [
    "a = \"1, 2, 3\\t4\"\n",
    "a = a.split()\n",
    "print(a)"
   ]
  },
  {
   "cell_type": "code",
   "execution_count": 3,
   "metadata": {},
   "outputs": [
    {
     "name": "stdout",
     "output_type": "stream",
     "text": [
      "['1,', '2,', '3', '4']\n"
     ]
    }
   ],
   "source": [
    "a = \"1, 2, 3\\t   4\"\n",
    "a = a.split()\n",
    "print(a)"
   ]
  },
  {
   "cell_type": "code",
   "execution_count": 4,
   "metadata": {},
   "outputs": [
    {
     "name": "stdout",
     "output_type": "stream",
     "text": [
      "['1', '2', '3']\n"
     ]
    }
   ],
   "source": [
    "a = \"1, 2, 3\"\n",
    "a = a.split(\", \")\n",
    "print(a)"
   ]
  },
  {
   "cell_type": "markdown",
   "metadata": {},
   "source": [
    "Параметр `maxsplit` позволяет указать максимальное количество разбиений."
   ]
  },
  {
   "cell_type": "code",
   "execution_count": 5,
   "metadata": {},
   "outputs": [
    {
     "name": "stdout",
     "output_type": "stream",
     "text": [
      "['1', '2, 3']\n"
     ]
    }
   ],
   "source": [
    "a = \"1, 2, 3\"\n",
    "a = a.split(\", \", maxsplit=1)\n",
    "print(a)"
   ]
  },
  {
   "cell_type": "markdown",
   "metadata": {},
   "source": [
    "Если мы хотим отсчитывать разбиения справа, используем метод `.rsplit()`."
   ]
  },
  {
   "cell_type": "code",
   "execution_count": 6,
   "metadata": {},
   "outputs": [
    {
     "name": "stdout",
     "output_type": "stream",
     "text": [
      "['1, 2', '3']\n"
     ]
    }
   ],
   "source": [
    "a = \"1, 2, 3\"\n",
    "a = a.rsplit(\", \", maxsplit=1)\n",
    "print(a)"
   ]
  },
  {
   "cell_type": "markdown",
   "metadata": {},
   "source": [
    "Метод `.strip()` позволяет обрезать пробельные символы по краям строки. `.lstrip()` делает это только слева, `.rstrip()` &ndash; только справа."
   ]
  },
  {
   "cell_type": "code",
   "execution_count": 7,
   "metadata": {},
   "outputs": [
    {
     "name": "stdout",
     "output_type": "stream",
     "text": [
      "['a', '   a', 'a\\t']\n"
     ]
    }
   ],
   "source": [
    "a = \"   a\\t\"\n",
    "print([a.strip(), a.rstrip(), a.lstrip()])"
   ]
  },
  {
   "cell_type": "markdown",
   "metadata": {},
   "source": [
    "Метод `.join()` позволяет объединить список строк с некоторой строкой как разделителем."
   ]
  },
  {
   "cell_type": "code",
   "execution_count": 8,
   "metadata": {},
   "outputs": [
    {
     "name": "stdout",
     "output_type": "stream",
     "text": [
      "1-2-3\n"
     ]
    }
   ],
   "source": [
    "a = [\"1\", \"2\", \"3\"]\n",
    "print(\"-\".join(a))"
   ]
  },
  {
   "cell_type": "markdown",
   "metadata": {},
   "source": [
    "Если разделитель не нужен, укажем в качестве него пустую строку."
   ]
  },
  {
   "cell_type": "code",
   "execution_count": 9,
   "metadata": {},
   "outputs": [
    {
     "name": "stdout",
     "output_type": "stream",
     "text": [
      "1 2 3\n"
     ]
    }
   ],
   "source": [
    "a = [\"1\", \"2\", \"3\"]\n",
    "print(\" \".join(a))"
   ]
  },
  {
   "cell_type": "markdown",
   "metadata": {},
   "source": [
    "Метод `.replace()` позволяет заменить заданные подстроки в строке на что-то другое."
   ]
  },
  {
   "cell_type": "code",
   "execution_count": 10,
   "metadata": {},
   "outputs": [
    {
     "name": "stdout",
     "output_type": "stream",
     "text": [
      "1+2+3+4+5\n"
     ]
    }
   ],
   "source": [
    "a = \"1_2_3_4_5\"\n",
    "print(a.replace(\"_\", \"+\"))"
   ]
  },
  {
   "cell_type": "code",
   "execution_count": 11,
   "metadata": {},
   "outputs": [
    {
     "name": "stdout",
     "output_type": "stream",
     "text": [
      "12345\n"
     ]
    }
   ],
   "source": [
    "a = \"1_2_3_4_5\"\n",
    "print(a.replace(\"_\", \"\"))"
   ]
  },
  {
   "cell_type": "markdown",
   "metadata": {},
   "source": [
    "Метод `.startswith()` позволяет определить, начинается ли строка с заданной подстроки (`True`) или нет (`False`). `.endswith()` &ndash; то же самое для конца строки."
   ]
  },
  {
   "cell_type": "code",
   "execution_count": 12,
   "metadata": {},
   "outputs": [
    {
     "name": "stdout",
     "output_type": "stream",
     "text": [
      "True\n"
     ]
    }
   ],
   "source": [
    "a = \"this is a test\"\n",
    "print(a.endswith(\"est\"))"
   ]
  },
  {
   "cell_type": "markdown",
   "metadata": {},
   "source": [
    "Методы `.upper()`, `.lower()` и `.capitalize()` управляют регистром строки."
   ]
  },
  {
   "cell_type": "code",
   "execution_count": 13,
   "metadata": {},
   "outputs": [
    {
     "name": "stdout",
     "output_type": "stream",
     "text": [
      "THIS IS A TEST\n",
      "this is a test\n",
      "This is a test\n"
     ]
    }
   ],
   "source": [
    "a = \"tHiS iS a TeSt\"\n",
    "print(a.upper())\n",
    "print(a.lower())\n",
    "print(a.capitalize())"
   ]
  },
  {
   "cell_type": "markdown",
   "metadata": {},
   "source": [
    "С полным списком строковых методов можно ознакомиться в [документации](https://docs.python.org/3/library/stdtypes.html#string-methods)."
   ]
  },
  {
   "cell_type": "markdown",
   "metadata": {},
   "source": [
    "**Задание**: дан текст. Уберите из него запятые и точки, приведите к нижнему регистру и создайте список всех слов, которые начинаются на букву \"т\". Выведите на экран все эти слова через нижнее подчёркнивание."
   ]
  },
  {
   "cell_type": "code",
   "execution_count": 1,
   "metadata": {},
   "outputs": [
    {
     "name": "stdout",
     "output_type": "stream",
     "text": [
      "['тихий', 'тёплый', 'тучами']\n"
     ]
    }
   ],
   "source": [
    "text = (\n",
    "    \"Был тихий серый вечер. Дул ветер, слабый и тёплый. \"\n",
    "    \"Небо было покрыто тучами, сквозь которые едва пробивались лучи \"\n",
    "    \"заходящего солнца.\"\n",
    ")\n",
    "# решение\n",
    "text = text.lower()\n",
    "text = text.replace(\".\", \"\")\n",
    "text = text.replace(\",\", \"\")\n",
    "words = text.split()\n",
    "t_words = [w for w in words if w.startswith(\"т\")]\n",
    "print(t_words)"
   ]
  },
  {
   "cell_type": "markdown",
   "metadata": {},
   "source": [
    "### Особые типы строк\n",
    "\n",
    "\"Сырые\" строки (r-строки) не учитывают escape-последовательности."
   ]
  },
  {
   "cell_type": "code",
   "execution_count": 14,
   "metadata": {},
   "outputs": [
    {
     "name": "stdout",
     "output_type": "stream",
     "text": [
      "a\tb\n",
      "a\\tb\n"
     ]
    }
   ],
   "source": [
    "a = \"a\\tb\"\n",
    "b = r\"a\\tb\"\n",
    "print(a)\n",
    "print(b)"
   ]
  },
  {
   "cell_type": "markdown",
   "metadata": {},
   "source": [
    "Форматные строки (f-строки) позволяют вставлять в строку значения переменных."
   ]
  },
  {
   "cell_type": "code",
   "execution_count": 15,
   "metadata": {},
   "outputs": [
    {
     "name": "stdout",
     "output_type": "stream",
     "text": [
      "some value: 4,  another value: 1\n"
     ]
    }
   ],
   "source": [
    "a = 4\n",
    "b = \"1\"\n",
    "c = f\"some value: {a},  another value: {b}\"\n",
    "print(c)"
   ]
  },
  {
   "cell_type": "markdown",
   "metadata": {},
   "source": [
    "С названиями переменных:"
   ]
  },
  {
   "cell_type": "code",
   "execution_count": 16,
   "metadata": {},
   "outputs": [
    {
     "name": "stdout",
     "output_type": "stream",
     "text": [
      "some value: a=4,  another value: b='1'\n"
     ]
    }
   ],
   "source": [
    "c = f\"some value: {a=},  another value: {b=}\"\n",
    "print(c)"
   ]
  },
  {
   "cell_type": "markdown",
   "metadata": {},
   "source": [
    "Если хотим \"добить\" нулями до определённой длины:"
   ]
  },
  {
   "cell_type": "code",
   "execution_count": 17,
   "metadata": {},
   "outputs": [
    {
     "name": "stdout",
     "output_type": "stream",
     "text": [
      "0011\n"
     ]
    }
   ],
   "source": [
    "x = 11\n",
    "print(f\"{x:04d}\")"
   ]
  },
  {
   "cell_type": "markdown",
   "metadata": {},
   "source": [
    "Если нужна определённая точность:"
   ]
  },
  {
   "cell_type": "code",
   "execution_count": 18,
   "metadata": {},
   "outputs": [
    {
     "name": "stdout",
     "output_type": "stream",
     "text": [
      "11.1231\n"
     ]
    }
   ],
   "source": [
    "y = 11.123123123123\n",
    "print(f\"{y:.4f}\")"
   ]
  },
  {
   "cell_type": "markdown",
   "metadata": {},
   "source": [
    "Полную спецификацию можно посмотреть в [документации](https://docs.python.org/3/library/string.html#format-specification-mini-language)."
   ]
  },
  {
   "cell_type": "markdown",
   "metadata": {},
   "source": [
    "Многострочные строки:"
   ]
  },
  {
   "cell_type": "code",
   "execution_count": 19,
   "metadata": {},
   "outputs": [
    {
     "name": "stdout",
     "output_type": "stream",
     "text": [
      "Line 1\n",
      "Line 2\n",
      "Line 3\n",
      "Line 4\n"
     ]
    }
   ],
   "source": [
    "text = \"\"\"Line 1\n",
    "Line 2\n",
    "Line 3\n",
    "Line 4\"\"\"\n",
    "print(text)"
   ]
  },
  {
   "cell_type": "markdown",
   "metadata": {},
   "source": [
    "В таких строках часто оформляют документацию (т.н. doc-строки). Обратите внимание, что это не комментарии!"
   ]
  },
  {
   "cell_type": "markdown",
   "metadata": {},
   "source": [
    "**Домашнее задание**:\n",
    "\n",
    "1. Возьмите какой-нибудь достаточно длинный текст на русском языке в формате .txt.\n",
    "2. Для каждой буквы найдите самое длинное и самое короткое слово, которое начинается на эту букву.\n",
    "3. Выведите полученную информацию на экран."
   ]
  }
 ],
 "metadata": {
  "kernelspec": {
   "display_name": "Python 3",
   "language": "python",
   "name": "python3"
  },
  "language_info": {
   "codemirror_mode": {
    "name": "ipython",
    "version": 3
   },
   "file_extension": ".py",
   "mimetype": "text/x-python",
   "name": "python",
   "nbconvert_exporter": "python",
   "pygments_lexer": "ipython3",
   "version": "3.13.1"
  }
 },
 "nbformat": 4,
 "nbformat_minor": 2
}
