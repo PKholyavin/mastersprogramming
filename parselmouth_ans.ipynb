{
 "cells": [
  {
   "cell_type": "markdown",
   "metadata": {},
   "source": [
    "**Задание для выполнения в классе:** построить два списка, в одном из которых будут значения времени от 0 до `intensity.xmax` с шагом 0.01 с, а в другом &ndash; значения интенсивности в этих точках. Построить график с помощью `matplotlib`."
   ]
  },
  {
   "cell_type": "code",
   "execution_count": null,
   "metadata": {},
   "outputs": [],
   "source": [
    "!pip install praat-parselmouth"
   ]
  },
  {
   "cell_type": "code",
   "execution_count": null,
   "metadata": {},
   "outputs": [],
   "source": [
    "!wget https://pkholyavin.github.io/mastersprogramming/cta0001.wav"
   ]
  },
  {
   "cell_type": "code",
   "execution_count": 12,
   "metadata": {},
   "outputs": [],
   "source": [
    "import parselmouth\n",
    "import numpy as np\n",
    "import matplotlib.pyplot as plt"
   ]
  },
  {
   "cell_type": "code",
   "execution_count": 3,
   "metadata": {},
   "outputs": [],
   "source": [
    "sound = parselmouth.Sound(\"cta0001.wav\")\n",
    "intensity = sound.to_intensity()"
   ]
  },
  {
   "cell_type": "markdown",
   "metadata": {},
   "source": [
    "Чистый python:"
   ]
  },
  {
   "cell_type": "code",
   "execution_count": 15,
   "metadata": {},
   "outputs": [],
   "source": [
    "times = [i * 0.01 for i in range(round(intensity.xmax / 0.01))]"
   ]
  },
  {
   "cell_type": "markdown",
   "metadata": {},
   "source": [
    "numpy:"
   ]
  },
  {
   "cell_type": "code",
   "execution_count": 13,
   "metadata": {},
   "outputs": [],
   "source": [
    "times = np.arange(0, intensity.xmax, 0.01)"
   ]
  },
  {
   "cell_type": "code",
   "execution_count": null,
   "metadata": {},
   "outputs": [],
   "source": [
    "intens_values = [intensity.get_value(t) for t in times]\n",
    "plt.plot(times, intens_values)\n",
    "plt.xlabel(\"Time, s\")\n",
    "plt.ylabel(\"Intensity, dB\")\n",
    "plt.show()"
   ]
  },
  {
   "cell_type": "markdown",
   "metadata": {},
   "source": [
    "**Задание для выполнения в классе:** прочитайте файл cta0001.seg_B1, определите место середины каждого звука, найдите значение ЧОТ в этом месте и постройте график, где на оси X по порядку будут отложены звуки, а на оси Y &ndash; ЧОТ в герцах."
   ]
  },
  {
   "cell_type": "code",
   "execution_count": null,
   "metadata": {},
   "outputs": [],
   "source": [
    "!wget https://pkholyavin.github.io/mastersprogramming/cta0001.seg_B1"
   ]
  },
  {
   "cell_type": "code",
   "execution_count": 17,
   "metadata": {},
   "outputs": [],
   "source": [
    "from itertools import product\n",
    "letters = \"GBRY\"\n",
    "nums = \"1234\"\n",
    "levels = [ch + num for num, ch in product(nums, letters)]\n",
    "level_codes = [2 ** i for i in range(len(levels))]\n",
    "code_to_level = {i: j for i, j in zip(level_codes, levels)}\n",
    "level_to_code = {j: i for i, j in zip(level_codes, levels)}"
   ]
  },
  {
   "cell_type": "code",
   "execution_count": 18,
   "metadata": {},
   "outputs": [],
   "source": [
    "def read_seg(filename: str, encoding: str = \"utf-8-sig\") -> tuple[dict, list[dict]]:\n",
    "    with open(filename, encoding=encoding) as f:\n",
    "        lines = [line.strip() for line in f.readlines()]\n",
    "\n",
    "    # найдём границы секций в списке строк:\n",
    "    header_start = lines.index(\"[PARAMETERS]\") + 1\n",
    "    data_start = lines.index(\"[LABELS]\") + 1\n",
    "\n",
    "    # прочитаем параметры\n",
    "    params = {}\n",
    "    for line in lines[header_start:data_start - 1]:\n",
    "        key, value = line.split(\"=\")\n",
    "        params[key] = int(value)\n",
    "\n",
    "    # прочитаем метки\n",
    "    labels = []\n",
    "    for line in lines[data_start:]:\n",
    "        # если в строке нет запятых, значит, это не метка и метки закончились\n",
    "        if line.count(\",\") < 2:\n",
    "            break\n",
    "        pos, level, name = line.split(\",\", maxsplit=2)\n",
    "        label = {\n",
    "            \"position\": int(pos) // params[\"BYTE_PER_SAMPLE\"] // params[\"N_CHANNEL\"],\n",
    "            \"level\": code_to_level[int(level)],\n",
    "            \"name\": name\n",
    "        }\n",
    "        labels.append(label)\n",
    "    return params, labels"
   ]
  },
  {
   "cell_type": "code",
   "execution_count": 33,
   "metadata": {},
   "outputs": [],
   "source": [
    "pitch = sound.to_pitch(pitch_floor=75, pitch_ceiling=400)"
   ]
  },
  {
   "cell_type": "code",
   "execution_count": null,
   "metadata": {},
   "outputs": [],
   "source": [
    "params, labels = read_seg(\"cta0001.seg_B1\")\n",
    "sounds = []\n",
    "f0_values = []\n",
    "for left, right in zip(labels, labels[1:]):\n",
    "    sounds.append(left[\"name\"])\n",
    "    mid = (left[\"position\"] + right[\"position\"]) / 2 / params[\"SAMPLING_FREQ\"]\n",
    "    f0_values.append(pitch.get_value_at_time(mid))\n",
    "    print(sounds[-1], mid, f0_values[-1])\n",
    "\n",
    "plt.plot(f0_values)\n",
    "plt.xticks(range(len(sounds)), labels=sounds)\n",
    "plt.show()"
   ]
  },
  {
   "cell_type": "markdown",
   "metadata": {},
   "source": [
    "**Задание для выполнения в классе:** модифицировать код из предыдущего задания так, чтобы в трёх точках каждого гласного (1/4, 1/2 и 3/4 длины) вычислялись первая и вторая форманты. Нарисовать график."
   ]
  },
  {
   "cell_type": "code",
   "execution_count": 36,
   "metadata": {},
   "outputs": [],
   "source": [
    "formants = sound.to_formant_burg()"
   ]
  },
  {
   "cell_type": "code",
   "execution_count": null,
   "metadata": {},
   "outputs": [],
   "source": [
    "x_ticks = []\n",
    "f1_values = []\n",
    "f2_values = []\n",
    "\n",
    "for left, right in zip(labels, labels[1:]):\n",
    "    if not left[\"name\"].startswith(tuple(\"ieaouy\")):\n",
    "        continue\n",
    "    x_ticks.extend([\"\", left[\"name\"], \"\", \"\"])\n",
    "    quarter_dur = (right[\"position\"] - left[\"position\"]) / 4 / params[\"SAMPLING_FREQ\"]\n",
    "    start_dur = left[\"position\"] / params[\"SAMPLING_FREQ\"]\n",
    "    for i in range(1, 4):\n",
    "        f1_values.append(formants.get_value_at_time(1, start_dur + quarter_dur * i))\n",
    "        f2_values.append(formants.get_value_at_time(2, start_dur + quarter_dur * i))\n",
    "    f1_values.append(np.nan)  # вставим дырки для удобства визуализации\n",
    "    f2_values.append(np.nan)\n",
    "\n",
    "plt.plot(f1_values)\n",
    "plt.plot(f2_values)\n",
    "plt.xticks(range(len(f1_values)), labels=x_ticks)\n",
    "plt.show()"
   ]
  }
 ],
 "metadata": {
  "kernelspec": {
   "display_name": "Python 3",
   "language": "python",
   "name": "python3"
  },
  "language_info": {
   "codemirror_mode": {
    "name": "ipython",
    "version": 3
   },
   "file_extension": ".py",
   "mimetype": "text/x-python",
   "name": "python",
   "nbconvert_exporter": "python",
   "pygments_lexer": "ipython3",
   "version": "3.9.0"
  }
 },
 "nbformat": 4,
 "nbformat_minor": 2
}
