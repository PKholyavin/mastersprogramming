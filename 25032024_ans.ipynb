{
 "cells": [
  {
   "cell_type": "markdown",
   "metadata": {},
   "source": [
    "I. Задание для выполнения в классе:\n",
    "\n",
    "1. Загрузить в среду архив cta_seg.zip\n",
    "\n",
    "2. Распаковать, запустив ячейку ниже"
   ]
  },
  {
   "cell_type": "code",
   "execution_count": null,
   "metadata": {},
   "outputs": [],
   "source": [
    "!unzip cta_seg.zip "
   ]
  },
  {
   "cell_type": "markdown",
   "metadata": {},
   "source": [
    "3. Написать функцию, которая принимает на вход имя папки (в данном случае cta_seg) и уровень seg (в данном случае B1 или Y1), ищет там все файлы .seg соответствующего уровня и возвращает их список."
   ]
  },
  {
   "cell_type": "code",
   "execution_count": 2,
   "metadata": {},
   "outputs": [],
   "source": [
    "import glob\n",
    "import os"
   ]
  },
  {
   "cell_type": "code",
   "execution_count": 3,
   "metadata": {},
   "outputs": [],
   "source": [
    "def list_segs(path, level):\n",
    "    return glob.glob(os.path.join(path, f\"*.seg_{level}\"))"
   ]
  },
  {
   "cell_type": "code",
   "execution_count": null,
   "metadata": {},
   "outputs": [],
   "source": [
    "list_segs(\"cta_seg\", \"B1\")"
   ]
  },
  {
   "cell_type": "markdown",
   "metadata": {},
   "source": [
    "4. Модифицировать функцию так, чтобы она открывала каждый найденный файл .seg, читала оттуда названия меток (кроме пустых) и записывала их в текстовый файл - метки из каждого файла .seg на отдельной строке, разделённые пробелами."
   ]
  },
  {
   "cell_type": "code",
   "execution_count": 4,
   "metadata": {},
   "outputs": [],
   "source": [
    "from itertools import product\n",
    "letters = \"GBRY\"\n",
    "nums = \"1234\"\n",
    "levels = [ch + num for num, ch in product(nums, letters)]\n",
    "level_codes = [2 ** i for i in range(len(levels))]\n",
    "code_to_level = {i: j for i, j in zip(level_codes, levels)}\n",
    "level_to_code = {j: i for i, j in zip(level_codes, levels)}\n",
    "\n",
    "\n",
    "def read_seg(filename: str, encoding: str = \"utf-8-sig\") -> tuple[dict, list[dict]]:\n",
    "    with open(filename, encoding=encoding) as f:\n",
    "        lines = [line.strip() for line in f.readlines()]\n",
    "\n",
    "    # найдём границы секций в списке строк:\n",
    "    header_start = lines.index(\"[PARAMETERS]\") + 1\n",
    "    data_start = lines.index(\"[LABELS]\") + 1\n",
    "\n",
    "    # прочитаем параметры\n",
    "    params = {}\n",
    "    for line in lines[header_start:data_start - 1]:\n",
    "        key, value = line.split(\"=\")\n",
    "        params[key] = int(value)\n",
    "\n",
    "    # прочитаем метки\n",
    "    labels = []\n",
    "    for line in lines[data_start:]:\n",
    "        # если в строке нет запятых, значит, это не метка и метки закончились\n",
    "        if line.count(\",\") < 2:\n",
    "            break\n",
    "        pos, level, name = line.split(\",\", maxsplit=2)\n",
    "        label = {\n",
    "            \"position\": int(pos) // params[\"BYTE_PER_SAMPLE\"] // params[\"N_CHANNEL\"],\n",
    "            \"level\": code_to_level[int(level)],\n",
    "            \"name\": name\n",
    "        }\n",
    "        labels.append(label)\n",
    "    return params, labels"
   ]
  },
  {
   "cell_type": "code",
   "execution_count": null,
   "metadata": {},
   "outputs": [],
   "source": [
    "def get_seg_contents(path, level):\n",
    "    files = list_segs(path, level)\n",
    "    res = []\n",
    "    for file in files:\n",
    "        _, labels = read_seg(file)\n",
    "        res.append(\" \".join(i[\"name\"] for i in labels if i[\"name\"]) + \"\\n\")\n",
    "    with open(path + \"_\" + level + \".txt\", \"w\") as f:\n",
    "        f.writelines(res)"
   ]
  },
  {
   "cell_type": "markdown",
   "metadata": {},
   "source": [
    "Задание для выполнения в классе:\n",
    "\n",
    "Написать функцию, которая принимает на вход два имени файлов .seg и возвращает список списков следующего формата:\n",
    "```\n",
    "[\n",
    "    [[метка1_1, метка1_2], [метка2_1, метка2_2, ...]],\n",
    "    [[метка1_2, метка1_3], [метка2_5, метка2_6, ...]],\n",
    "    ...\n",
    "]\n",
    "```\n",
    "где ```метка1_*``` - это метки из первого файла, а ```метка2_*``` - метки из второго, которые лежат **между** соответствующими метками из первого. Используйте циклы.\n",
    "\n",
    "Считайте, что интервал, ограниченный двумя метками, полуоткрытый - т.е. если ```метка2_2``` совпадает с меткой ```метка1_1```, она будет входить в интервал [```метка1_1```, ```метка1_2```), а если совпадает с меткой ```метка1_2``` - не будет."
   ]
  },
  {
   "cell_type": "code",
   "execution_count": 5,
   "metadata": {},
   "outputs": [],
   "source": [
    "def match_seg_levels(filename_upper, filename_lower):\n",
    "    params, labels_upper = read_seg(filename_upper)\n",
    "    _, labels_lower = read_seg(filename_lower)\n",
    "    res = []\n",
    "    ctr = 0\n",
    "    for start, end in zip(labels_upper, labels_upper[1:]):\n",
    "        res.append([[start, end], []])\n",
    "        for label in labels_lower[ctr:]:\n",
    "            if start[\"position\"] <= label[\"position\"] < end[\"position\"]:\n",
    "                ctr += 1\n",
    "                res[-1][-1].append(label)\n",
    "            elif end[\"position\"] <= label[\"position\"]:  # оптимизация\n",
    "                break\n",
    "    return res"
   ]
  },
  {
   "cell_type": "code",
   "execution_count": null,
   "metadata": {},
   "outputs": [],
   "source": [
    "match_seg_levels(\"cta_seg/cta0001.seg_Y1\", \"cta_seg/cta0001.seg_B1\")"
   ]
  },
  {
   "cell_type": "markdown",
   "metadata": {},
   "source": [
    "2. Модифицируйте функцию так, чтобы результат она записывала в текстовый файл в следующем формате:\n",
    "```\n",
    "<время метки1_1 в секундах> <время метки1_2 в секундах> <имя метки1_1> <имя метки2_1> <имя метки2_2> ...\n",
    "```"
   ]
  },
  {
   "cell_type": "markdown",
   "metadata": {},
   "source": [
    "Например:\n",
    "```\n",
    "0.0 0.412 юрий j u0 r' i4\n",
    "0.412 1.24 трифонов t r' i0 f a4 n a4 f\n",
    "```"
   ]
  },
  {
   "cell_type": "code",
   "execution_count": 7,
   "metadata": {},
   "outputs": [],
   "source": [
    "def match_words_to_sounds(filename_upper, filename_lower, res_filename=\"res.txt\"):\n",
    "    params, labels_upper = read_seg(filename_upper)\n",
    "    _, labels_lower = read_seg(filename_lower)\n",
    "    res = []\n",
    "    ctr = 0\n",
    "    for start, end in zip(labels_upper, labels_upper[1:]):\n",
    "        if not start[\"name\"]:\n",
    "            continue  # паузы нас не интересуют\n",
    "        start_time = round(start[\"position\"] / params[\"SAMPLING_FREQ\"], 3)\n",
    "        end_time = round(end[\"position\"] / params[\"SAMPLING_FREQ\"], 3)\n",
    "        labels = []\n",
    "        for label in labels_lower[ctr:]:\n",
    "            if start[\"position\"] <= label[\"position\"] < end[\"position\"]:\n",
    "                ctr += 1\n",
    "                labels.append(label)\n",
    "            elif end[\"position\"] <= label[\"position\"]:  # оптимизация\n",
    "                break\n",
    "        label_names = [i[\"name\"] for i in labels if i[\"name\"]]\n",
    "        res.append(f\"{start_time}\\t{end_time}\\t{start['name']}\\t\" + \"\\t\".join(label_names) + \"\\n\")\n",
    "    with open(res_filename, \"w\") as f:\n",
    "        f.writelines(res)"
   ]
  },
  {
   "cell_type": "code",
   "execution_count": null,
   "metadata": {},
   "outputs": [],
   "source": [
    "match_words_to_sounds(\"cta_seg/cta0001.seg_Y1\", \"cta_seg/cta0001.seg_B1\")"
   ]
  }
 ],
 "metadata": {
  "kernelspec": {
   "display_name": "Python 3",
   "language": "python",
   "name": "python3"
  },
  "language_info": {
   "codemirror_mode": {
    "name": "ipython",
    "version": 3
   },
   "file_extension": ".py",
   "mimetype": "text/x-python",
   "name": "python",
   "nbconvert_exporter": "python",
   "pygments_lexer": "ipython3",
   "version": "3.9.0"
  }
 },
 "nbformat": 4,
 "nbformat_minor": 2
}
