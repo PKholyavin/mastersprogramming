{
 "cells": [
  {
   "attachments": {},
   "cell_type": "markdown",
   "metadata": {},
   "source": [
    "Волшебные методы классов:\n",
    "\n",
    "\\_\\_repr__\n",
    "\n",
    "\\_\\_contains__ - позволяет использовать оператор вхождения\n",
    "\n",
    "\\_\\_len__ - позволяет использовать функцию len\n",
    "\n",
    "\\_\\_eq__ - позволяет проверки на равенство\n",
    "\n",
    "\n",
    "\\_\\_getitem__ - позволяет получить значение по ключу\n",
    "\n",
    "\\_\\_setitem__ - позволяет установить значение по ключу\n",
    "\n",
    "\\_\\_iter__ - позволяет итерировать по объекту\n",
    "\n",
    "\\_\\_bool__ - позволяет определять логическое значение"
   ]
  },
  {
   "cell_type": "code",
   "execution_count": null,
   "metadata": {},
   "outputs": [],
   "source": []
  },
  {
   "attachments": {},
   "cell_type": "markdown",
   "metadata": {},
   "source": [
    "Больше волшебных методов:\n",
    "\n",
    "\\_\\_add__ +\n",
    "\n",
    "\\_\\_sub__ -\n",
    "\n",
    "\\_\\_mul__ *\n",
    "\n",
    "\\_\\_floordiv__ //\n",
    "\n",
    "\\_\\_truediv__ /\n",
    "\n",
    "\\_\\_mod__ %\n",
    "\n",
    "\\_\\_pow__ **\n",
    "\n",
    "\\_\\_lt__ <\n",
    "\n",
    "\\_\\_le__ <=\n",
    "\n",
    "\\_\\_gt__ >\n",
    "\n",
    "\\_\\_ge__ >=\n",
    "\n",
    "\\_\\_ne__ !="
   ]
  },
  {
   "cell_type": "code",
   "execution_count": null,
   "metadata": {},
   "outputs": [],
   "source": []
  }
 ],
 "metadata": {
  "kernelspec": {
   "display_name": "Python 3",
   "language": "python",
   "name": "python3"
  },
  "language_info": {
   "name": "python",
   "version": "3.9.0"
  },
  "orig_nbformat": 4,
  "vscode": {
   "interpreter": {
    "hash": "364dcd152da2692276e72902df2858159ccc300c15062838033fe03303e9b26c"
   }
  }
 },
 "nbformat": 4,
 "nbformat_minor": 2
}
