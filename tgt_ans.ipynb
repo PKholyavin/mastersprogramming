{
 "cells": [
  {
   "cell_type": "code",
   "execution_count": null,
   "metadata": {},
   "outputs": [],
   "source": [
    "!pip install tgt"
   ]
  },
  {
   "cell_type": "code",
   "execution_count": 1,
   "metadata": {},
   "outputs": [],
   "source": [
    "import tgt"
   ]
  },
  {
   "cell_type": "code",
   "execution_count": null,
   "metadata": {},
   "outputs": [],
   "source": [
    "!wget https://pkholyavin.github.io/mastersprogramming/cta0001.TextGrid"
   ]
  },
  {
   "cell_type": "code",
   "execution_count": 2,
   "metadata": {},
   "outputs": [],
   "source": [
    "grid = tgt.io.read_textgrid(\"cta0001.TextGrid\")"
   ]
  },
  {
   "cell_type": "markdown",
   "metadata": {},
   "source": [
    "**Задание для выполнения в классе**: напишите цикл, который перебирает все интервалы из уровня ```\"phonetic real\"``` и выводит на экран название каждого интервала и его серединную точку."
   ]
  },
  {
   "cell_type": "code",
   "execution_count": null,
   "metadata": {},
   "outputs": [],
   "source": [
    "tier = grid.get_tier_by_name(\"phonetic real\")\n",
    "for interval in tier:\n",
    "    mid = (interval.end_time - interval.start_time) / 2\n",
    "    print(interval.text, round(mid, 3)) # округлим до 3 знаков после запятой для удобства чтения (вряд ли нам понадобится точность меньше 1 мс)"
   ]
  },
  {
   "cell_type": "markdown",
   "metadata": {},
   "source": [
    "**Задание для выполнения в классе**: напишите функцию, которая принимает на вход имя файла .seg, читает из него метки, создаёт новый TextGrid и уровень IntervalTier, добавляет в него все интервалы, ограниченные парами соседних меток, и записывает это всё в файл .TextGrid\n",
    "\n",
    "Не забудем, что в файлах .TextGrid время хранится в секундах! Чтобы перевести время из отсчётов в секунды, нужно разделить его на частоту дискретизации."
   ]
  },
  {
   "cell_type": "code",
   "execution_count": 7,
   "metadata": {},
   "outputs": [],
   "source": [
    "from itertools import product\n",
    "letters = \"GBRY\"\n",
    "nums = \"1234\"\n",
    "levels = [ch + num for num, ch in product(nums, letters)]\n",
    "level_codes = [2 ** i for i in range(len(levels))]\n",
    "code_to_level = {i: j for i, j in zip(level_codes, levels)}\n",
    "level_to_code = {j: i for i, j in zip(level_codes, levels)}\n",
    "def read_seg(filename: str, encoding: str = \"utf-8-sig\") -> tuple[dict, list[dict]]:\n",
    "    with open(filename, encoding=encoding) as f:\n",
    "        lines = [line.strip() for line in f.readlines()]\n",
    "\n",
    "    # найдём границы секций в списке строк:\n",
    "    header_start = lines.index(\"[PARAMETERS]\") + 1\n",
    "    data_start = lines.index(\"[LABELS]\") + 1\n",
    "\n",
    "    # прочитаем параметры\n",
    "    params = {}\n",
    "    for line in lines[header_start:data_start - 1]:\n",
    "        key, value = line.split(\"=\")\n",
    "        params[key] = int(value)\n",
    "\n",
    "    # прочитаем метки\n",
    "    labels = []\n",
    "    for line in lines[data_start:]:\n",
    "        # если в строке нет запятых, значит, это не метка и метки закончились\n",
    "        if line.count(\",\") < 2:\n",
    "            break\n",
    "        pos, level, name = line.split(\",\", maxsplit=2)\n",
    "        label = {\n",
    "            \"position\": int(pos) // params[\"BYTE_PER_SAMPLE\"] // params[\"N_CHANNEL\"],\n",
    "            \"level\": code_to_level[int(level)],\n",
    "            \"name\": name\n",
    "        }\n",
    "        labels.append(label)\n",
    "    return params, labels"
   ]
  },
  {
   "cell_type": "code",
   "execution_count": 4,
   "metadata": {},
   "outputs": [],
   "source": [
    "import os.path"
   ]
  },
  {
   "cell_type": "code",
   "execution_count": 12,
   "metadata": {},
   "outputs": [],
   "source": [
    "def seg_to_textgrid(filename: str, res_filename: str = None, max_time: float = None) -> None:\n",
    "    params, labels = read_seg(filename)\n",
    "    new_grid = tgt.core.TextGrid()\n",
    "    new_tier = tgt.core.IntervalTier()\n",
    "    new_grid.add_tier(new_tier)\n",
    "    for left, right in zip(labels, labels[1:]):\n",
    "        start_time = left[\"position\"] / params[\"SAMPLING_FREQ\"]\n",
    "        end_time = right[\"position\"] / params[\"SAMPLING_FREQ\"]\n",
    "        text = left[\"name\"]\n",
    "        new_tier.add_interval(tgt.core.Interval(start_time, end_time, text))\n",
    "    # если пользователь не задал имя для нового файла,\n",
    "    # возьмём старое, но заменим в нём расширение\n",
    "    if res_filename is None:\n",
    "        res_filename = os.path.splitext(filename)[0] + \".TextGrid\"\n",
    "    # общее время длительности файла может не совпадать со временем последней метки\n",
    "    # чтобы не читать файл .wav ради его длительности, пусть пользователь задаст\n",
    "    # длительность файла самостоятельно\n",
    "    if max_time is not None:\n",
    "        if max_time < new_tier[-1].end_time:\n",
    "            raise ValueError(\"specified max_time is earlier than last interval\")\n",
    "        new_tier.end_time = max_time\n",
    "    tgt.io.write_to_file(new_grid, res_filename, format=\"long\")"
   ]
  },
  {
   "cell_type": "code",
   "execution_count": null,
   "metadata": {},
   "outputs": [],
   "source": [
    "!wget https://pkholyavin.github.io/mastersprogramming/cta0001.seg_B2"
   ]
  },
  {
   "cell_type": "code",
   "execution_count": 15,
   "metadata": {},
   "outputs": [],
   "source": [
    "seg_to_textgrid(\"cta0001.seg_B2\", \"out.TextGrid\", max_time=1.747)"
   ]
  }
 ],
 "metadata": {
  "kernelspec": {
   "display_name": "Python 3",
   "language": "python",
   "name": "python3"
  },
  "language_info": {
   "codemirror_mode": {
    "name": "ipython",
    "version": 3
   },
   "file_extension": ".py",
   "mimetype": "text/x-python",
   "name": "python",
   "nbconvert_exporter": "python",
   "pygments_lexer": "ipython3",
   "version": "3.9.0"
  }
 },
 "nbformat": 4,
 "nbformat_minor": 2
}
