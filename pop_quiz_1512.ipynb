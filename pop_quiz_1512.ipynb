{
 "cells": [
  {
   "attachments": {},
   "cell_type": "markdown",
   "metadata": {},
   "source": [
    "1. Что выведет код?"
   ]
  },
  {
   "cell_type": "code",
   "execution_count": null,
   "metadata": {},
   "outputs": [],
   "source": [
    "a = []\n",
    "for i in range(3, 20, 2):\n",
    "    if i % 3 == 0:\n",
    "        continue\n",
    "    if i % 2 == 0:\n",
    "        a.append(i // 2)\n",
    "    else:\n",
    "        a.append(i * 2)\n",
    "print(a)"
   ]
  },
  {
   "attachments": {},
   "cell_type": "markdown",
   "metadata": {},
   "source": [
    "2. Как записать то, что выше, в одну строку?"
   ]
  },
  {
   "cell_type": "code",
   "execution_count": null,
   "metadata": {},
   "outputs": [],
   "source": [
    "# здесь пишем код\n",
    "a = [i // 2 if i % 2 == 0 else i * 2 for i in range(3, 20, 2) if i % 3 != 0]\n",
    "print(a)"
   ]
  }
 ],
 "metadata": {
  "kernelspec": {
   "display_name": "Python 3",
   "language": "python",
   "name": "python3"
  },
  "language_info": {
   "codemirror_mode": {
    "name": "ipython",
    "version": 3
   },
   "file_extension": ".py",
   "mimetype": "text/x-python",
   "name": "python",
   "nbconvert_exporter": "python",
   "pygments_lexer": "ipython3",
   "version": "3.9.0"
  },
  "orig_nbformat": 4,
  "vscode": {
   "interpreter": {
    "hash": "364dcd152da2692276e72902df2858159ccc300c15062838033fe03303e9b26c"
   }
  }
 },
 "nbformat": 4,
 "nbformat_minor": 2
}
