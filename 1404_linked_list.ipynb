{
  "nbformat": 4,
  "nbformat_minor": 0,
  "metadata": {
    "colab": {
      "provenance": []
    },
    "kernelspec": {
      "name": "python3",
      "display_name": "Python 3"
    },
    "language_info": {
      "name": "python"
    }
  },
  "cells": [
    {
      "cell_type": "code",
      "execution_count": null,
      "metadata": {
        "id": "kJCeOEaWzHoJ"
      },
      "outputs": [],
      "source": [
        "class Node:\n",
        "    def __init__(self, data):\n",
        "        self.data = data\n",
        "        self.next = None\n",
        "\n",
        "    def __repr__(self) -> str:\n",
        "        return str(self.data)\n",
        "\n",
        "class Linked_list:\n",
        "    def __init__(self):\n",
        "        self.head = None\n",
        "        self.length = 0\n",
        "\n",
        "    def addnode(self, node):\n",
        "        node.next = self.head\n",
        "        self.head = node\n",
        "        self.length += 1\n",
        "\n",
        "    def __repr__(self) -> str:\n",
        "        current = self.head\n",
        "        result = []\n",
        "        while current is not None:\n",
        "            result.append(str(current))\n",
        "            current = current.next\n",
        "        return \"->\".join(result)\n",
        "\n",
        "    def __iter__(self):\n",
        "        current = self.head\n",
        "        while current is not None:\n",
        "            yield current\n",
        "            current = current.next\n",
        "\n",
        "    def append(self, node):\n",
        "        for n in self:\n",
        "            pass\n",
        "        n.next = node\n",
        "        self.length += 1\n",
        "\n",
        "    def insert(self, node, index):\n",
        "        if index > self.length or index < 0:\n",
        "            raise IndexError(\"Index out of range\")\n",
        "        if index == self.length:\n",
        "            self.append(node)\n",
        "        elif index == 0:\n",
        "            self.addnode(node)\n",
        "        else:\n",
        "            for i, n in enumerate(self):\n",
        "                if i == index-1:\n",
        "                    curr = n.next\n",
        "                    n.next = node\n",
        "                    node.next = curr\n",
        "            self.length += 1\n",
        "\n",
        "    def remove(self, index):\n",
        "        if index >= self.length or index < 0:\n",
        "            raise IndexError(\"Index out of range\")\n",
        "        if index == 0:\n",
        "            self.head = self.head.next\n",
        "        else:\n",
        "            for i, n in enumerate(self):\n",
        "                if i == index-1:\n",
        "                    n.next = n.next.next\n",
        "        self.length -= 1\n",
        "\n",
        "    def __getitem__(self, index):\n",
        "        if index >= self.length or index < 0:\n",
        "            raise IndexError(\"Index out of range\")\n",
        "        for i, n in enumerate(self):\n",
        "            if i == index:\n",
        "                return n"
      ]
    },
    {
      "cell_type": "code",
      "source": [
        "lnklst = Linked_list()"
      ],
      "metadata": {
        "id": "oLmBh4GR1Uwa"
      },
      "execution_count": null,
      "outputs": []
    },
    {
      "cell_type": "code",
      "source": [
        "lnklst.addnode(Node(1))\n",
        "lnklst.addnode(Node(2))"
      ],
      "metadata": {
        "id": "i3Cum-9i4Nfu"
      },
      "execution_count": null,
      "outputs": []
    },
    {
      "cell_type": "code",
      "source": [
        "lnklst.append(Node(3))\n",
        "lnklst"
      ],
      "metadata": {
        "colab": {
          "base_uri": "https://localhost:8080/"
        },
        "id": "RNnP5a1l4ZQ6",
        "outputId": "6f1c910c-95b5-4254-ddd2-c77f0a85b2ce"
      },
      "execution_count": null,
      "outputs": [
        {
          "output_type": "execute_result",
          "data": {
            "text/plain": [
              "2->1->3"
            ]
          },
          "metadata": {},
          "execution_count": 76
        }
      ]
    },
    {
      "cell_type": "code",
      "source": [
        "lnklst.insert(Node(4), 3)\n",
        "lnklst"
      ],
      "metadata": {
        "colab": {
          "base_uri": "https://localhost:8080/"
        },
        "id": "oiSxHy3T8Cc9",
        "outputId": "8b992ef3-36ce-44bc-b8bd-9643c55b5e15"
      },
      "execution_count": null,
      "outputs": [
        {
          "output_type": "execute_result",
          "data": {
            "text/plain": [
              "2->1->3->4"
            ]
          },
          "metadata": {},
          "execution_count": 77
        }
      ]
    },
    {
      "cell_type": "code",
      "source": [
        "lnklst.remove(0)\n",
        "lnklst"
      ],
      "metadata": {
        "colab": {
          "base_uri": "https://localhost:8080/"
        },
        "id": "wPa4pXtE_qxB",
        "outputId": "f046c8b4-9bfc-4655-e2f3-71ada3733403"
      },
      "execution_count": null,
      "outputs": [
        {
          "output_type": "execute_result",
          "data": {
            "text/plain": [
              "1->3->4"
            ]
          },
          "metadata": {},
          "execution_count": 78
        }
      ]
    },
    {
      "cell_type": "code",
      "source": [
        "lnklst[2]"
      ],
      "metadata": {
        "colab": {
          "base_uri": "https://localhost:8080/"
        },
        "id": "vkrlo9bbAcey",
        "outputId": "844f78c0-5023-4d53-b4e2-43be3872caf3"
      },
      "execution_count": null,
      "outputs": [
        {
          "output_type": "execute_result",
          "data": {
            "text/plain": [
              "4"
            ]
          },
          "metadata": {},
          "execution_count": 81
        }
      ]
    },
    {
      "cell_type": "markdown",
      "source": [
        "# Задание\n",
        "\n",
        "Метод для удаления повторяющихся значений"
      ],
      "metadata": {
        "id": "4_sXAxRQAyj3"
      }
    }
  ]
}