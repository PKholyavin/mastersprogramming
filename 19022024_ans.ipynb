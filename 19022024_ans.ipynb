{
 "cells": [
  {
   "cell_type": "markdown",
   "metadata": {},
   "source": [
    "Задание на самостоятельное выполнение:\n",
    "\n",
    "Напишите программу, которая бы вычисляла расстояние между двумя точками на плоскости. Для каждой точки известны её координаты по осям x и y (задаются каждая в своей переменной). Например:"
   ]
  },
  {
   "cell_type": "code",
   "execution_count": 1,
   "metadata": {},
   "outputs": [],
   "source": [
    "x_1 = 2\n",
    "y_1 = 2\n",
    "x_2 = 4\n",
    "y_2 = 13\n",
    "# и дальше ваш код"
   ]
  },
  {
   "cell_type": "markdown",
   "metadata": {},
   "source": [
    "1. По действиям:"
   ]
  },
  {
   "cell_type": "code",
   "execution_count": null,
   "metadata": {},
   "outputs": [],
   "source": [
    "xdiff_square = (x_1 - x_2) ** 2\n",
    "ydiff_square = (y_1 - y_2) ** 2\n",
    "distance = (xdiff_square + ydiff_square) ** 0.5\n",
    "print(distance)"
   ]
  },
  {
   "cell_type": "markdown",
   "metadata": {},
   "source": [
    "2. В одну строчку:"
   ]
  },
  {
   "cell_type": "code",
   "execution_count": null,
   "metadata": {},
   "outputs": [],
   "source": [
    "print(((x_1 - x_2) ** 2 + (y_1 - y_2) ** 2) ** 0.5)"
   ]
  }
 ],
 "metadata": {
  "kernelspec": {
   "display_name": "Python 3",
   "language": "python",
   "name": "python3"
  },
  "language_info": {
   "codemirror_mode": {
    "name": "ipython",
    "version": 3
   },
   "file_extension": ".py",
   "mimetype": "text/x-python",
   "name": "python",
   "nbconvert_exporter": "python",
   "pygments_lexer": "ipython3",
   "version": "3.9.0"
  }
 },
 "nbformat": 4,
 "nbformat_minor": 2
}
