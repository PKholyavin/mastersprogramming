{
 "cells": [
  {
   "attachments": {},
   "cell_type": "markdown",
   "metadata": {},
   "source": [
    "Варианты решения:"
   ]
  },
  {
   "cell_type": "code",
   "execution_count": 2,
   "metadata": {},
   "outputs": [],
   "source": [
    "import re\n",
    "def place_stress(word, stressed_syll):\n",
    "    return word[:(i := list(re.finditer(\"[аяоёуюыиэе]\", word))[stressed_syll - 1].start()) + 1] + \"1\" + word[i + 1:]"
   ]
  },
  {
   "cell_type": "code",
   "execution_count": 22,
   "metadata": {},
   "outputs": [],
   "source": [
    "def place_stress_2(word, stressed_syll):\n",
    "    return word[:(i := [i for i, c in enumerate(word) if c in \"аяоёуюыиэе\"][stressed_syll - 1]) + 1] + \"1\" + word[i + 1:]"
   ]
  },
  {
   "cell_type": "code",
   "execution_count": 23,
   "metadata": {},
   "outputs": [],
   "source": [
    "def place_stress_2a(word, stressed_syll):\n",
    "    vowel_pos = [i for i, c in enumerate(word) if c in \"аяоёуюыиэе\"]\n",
    "    if stressed_syll > len(vowel_pos) or stressed_syll <= 0:\n",
    "        raise ValueError(f\"Can't place stress on syllable {stressed_syll} in the word '{word}'\")\n",
    "    return word[:(i := vowel_pos[stressed_syll - 1]) + 1] + \"1\" + word[i + 1:]"
   ]
  },
  {
   "cell_type": "code",
   "execution_count": 30,
   "metadata": {},
   "outputs": [],
   "source": [
    "def place_stress_3(word, stressed_syll):\n",
    "    vowels = \"аяоёуюыиэе\"\n",
    "    vowel_ctr = 0\n",
    "    for i, c in enumerate(word):\n",
    "        if c in vowels:\n",
    "            vowel_ctr += 1\n",
    "            if vowel_ctr == stressed_syll:\n",
    "                word = word[:i + 1] + \"1\" + word[i + 1:]\n",
    "                break\n",
    "    return word"
   ]
  },
  {
   "cell_type": "code",
   "execution_count": 38,
   "metadata": {},
   "outputs": [],
   "source": [
    "def place_stress_4(word, stressed_syll):\n",
    "    res = \"\"\n",
    "    vowels = \"аяоёуюыиэе\"\n",
    "    vowel_ctr = 0\n",
    "    for i, c in enumerate(word):\n",
    "        res += c\n",
    "        if c in vowels:\n",
    "            vowel_ctr += 1\n",
    "            if vowel_ctr == stressed_syll:\n",
    "                res += \"1\"\n",
    "    return res"
   ]
  },
  {
   "cell_type": "code",
   "execution_count": 44,
   "metadata": {},
   "outputs": [],
   "source": [
    "def place_stress_5(word, stressed_syll):\n",
    "    word = list(word)\n",
    "    vowels = \"аяоёуюыиэе\"\n",
    "    vowel_ctr = 0\n",
    "    for i, c in enumerate(word):\n",
    "        if c in vowels:\n",
    "            vowel_ctr += 1\n",
    "            if vowel_ctr == stressed_syll:\n",
    "                word.insert(i + 1, \"1\")        \n",
    "    return \"\".join(word)"
   ]
  },
  {
   "cell_type": "code",
   "execution_count": 48,
   "metadata": {},
   "outputs": [
    {
     "data": {
      "text/plain": [
       "'колобо1'"
      ]
     },
     "execution_count": 48,
     "metadata": {},
     "output_type": "execute_result"
    }
   ],
   "source": [
    "place_stress_5(\"колобо\", 3)"
   ]
  }
 ],
 "metadata": {
  "kernelspec": {
   "display_name": "Python 3",
   "language": "python",
   "name": "python3"
  },
  "language_info": {
   "codemirror_mode": {
    "name": "ipython",
    "version": 3
   },
   "file_extension": ".py",
   "mimetype": "text/x-python",
   "name": "python",
   "nbconvert_exporter": "python",
   "pygments_lexer": "ipython3",
   "version": "3.9.0"
  },
  "orig_nbformat": 4,
  "vscode": {
   "interpreter": {
    "hash": "364dcd152da2692276e72902df2858159ccc300c15062838033fe03303e9b26c"
   }
  }
 },
 "nbformat": 4,
 "nbformat_minor": 2
}
