{
 "cells": [
  {
   "cell_type": "markdown",
   "metadata": {},
   "source": [
    "Функция main():\n",
    "\n",
    "Часто основной код программы стоит писать в отдельной функции, которую обычно называют main(). Это позволяет писать его в любом месте программы. Необходимо только не забыть вызвать функцию main() в конце кода."
   ]
  },
  {
   "cell_type": "code",
   "execution_count": null,
   "metadata": {},
   "outputs": [],
   "source": [
    "def main():\n",
    "    f1()\n",
    "    f2()\n",
    "\n",
    "def f1():\n",
    "    print(\"This is f1\")\n",
    "\n",
    "def f2():\n",
    "    print(\"This is f2\")\n",
    "\n",
    "main()"
   ]
  },
  {
   "cell_type": "markdown",
   "metadata": {},
   "source": [
    "Модули. Импортирование модулей."
   ]
  },
  {
   "cell_type": "code",
   "execution_count": null,
   "metadata": {},
   "outputs": [],
   "source": [
    "import print_nums\n",
    "print_nums.f1()\n",
    "print_nums.f2()"
   ]
  },
  {
   "cell_type": "markdown",
   "metadata": {},
   "source": [
    "Импортируем конкретные вещи:"
   ]
  },
  {
   "cell_type": "code",
   "execution_count": null,
   "metadata": {},
   "outputs": [],
   "source": [
    "from print_nums import f1, f2\n",
    "f1()\n",
    "f2()"
   ]
  },
  {
   "cell_type": "markdown",
   "metadata": {},
   "source": [
    "Импортируем всё подряд (так лучше не делать, потому что легко запутаться)"
   ]
  },
  {
   "cell_type": "code",
   "execution_count": null,
   "metadata": {},
   "outputs": [],
   "source": [
    "from print_nums import *\n",
    "f1()\n",
    "f2()"
   ]
  },
  {
   "cell_type": "markdown",
   "metadata": {},
   "source": [
    "Импортируем с другим именем:"
   ]
  },
  {
   "cell_type": "code",
   "execution_count": null,
   "metadata": {},
   "outputs": [],
   "source": [
    "import print_nums as pn\n",
    "pn.f1()"
   ]
  },
  {
   "cell_type": "markdown",
   "metadata": {},
   "source": [
    "Получить названия всего, что лежит в импортируемом модуле:"
   ]
  },
  {
   "cell_type": "code",
   "execution_count": null,
   "metadata": {},
   "outputs": [],
   "source": [
    "import print_nums\n",
    "\n",
    "dir(print_nums)"
   ]
  },
  {
   "cell_type": "markdown",
   "metadata": {},
   "source": [
    "Весь код, который находится в импортируемом файле, исполняется!"
   ]
  },
  {
   "cell_type": "code",
   "execution_count": null,
   "metadata": {},
   "outputs": [],
   "source": [
    "import print_nums2"
   ]
  },
  {
   "cell_type": "markdown",
   "metadata": {},
   "source": [
    "Но код, оформленный так, при импортировании запускаться не будет!"
   ]
  },
  {
   "cell_type": "code",
   "execution_count": null,
   "metadata": {},
   "outputs": [],
   "source": [
    "def main():\n",
    "    print(\"This is main\")\n",
    "\n",
    "if __name__ == \"__main__\":\n",
    "    main()"
   ]
  },
  {
   "cell_type": "code",
   "execution_count": null,
   "metadata": {},
   "outputs": [],
   "source": [
    "import print_nums3\n",
    "print_nums3.f1()"
   ]
  },
  {
   "cell_type": "markdown",
   "metadata": {},
   "source": [
    "Порядок, в котором Python ищет импортируемые модули:\n",
    "1. Встроенные модули\n",
    "2. Текущая папка\n",
    "3. Директории, содержащиеся в системной переменной PYTHONPATH\n",
    "4. Установленные модули"
   ]
  },
  {
   "cell_type": "markdown",
   "metadata": {},
   "source": [
    "Оформление функций:"
   ]
  },
  {
   "cell_type": "markdown",
   "metadata": {},
   "source": [
    "1. Аннотация типов: https://peps.python.org/pep-0484/"
   ]
  },
  {
   "cell_type": "code",
   "execution_count": null,
   "metadata": {},
   "outputs": [],
   "source": [
    "def greeting(name: str) -> str:\n",
    "    return 'Hello ' + name"
   ]
  },
  {
   "cell_type": "code",
   "execution_count": null,
   "metadata": {},
   "outputs": [],
   "source": [
    "greeting.__annotations__"
   ]
  },
  {
   "cell_type": "code",
   "execution_count": null,
   "metadata": {},
   "outputs": [],
   "source": [
    "gr = greeting(\"John\")\n",
    "print(gr)"
   ]
  },
  {
   "cell_type": "code",
   "execution_count": null,
   "metadata": {},
   "outputs": [],
   "source": [
    "def trace(matrix: list[list[float]]) -> float:\n",
    "    return sum(matrix[i][i] for i in range(len(matrix)))\n",
    "\n",
    "m = [[1.4, 2.5], [1.5, 7.8]]\n",
    "trace(m)"
   ]
  },
  {
   "cell_type": "code",
   "execution_count": null,
   "metadata": {},
   "outputs": [],
   "source": [
    "from collections.abc import Sequence\n",
    "from typing import Any\n",
    "\n",
    "def first(seq: Sequence) -> Any:\n",
    "    return seq[0]\n",
    "\n",
    "print(first([1, 2, 3]))\n",
    "print(first((1, 2, 3)))\n",
    "print(first(\"123\"))"
   ]
  },
  {
   "cell_type": "markdown",
   "metadata": {},
   "source": [
    "2. Докстринги:\n",
    "https://peps.python.org/pep-0257/"
   ]
  },
  {
   "cell_type": "code",
   "execution_count": null,
   "metadata": {},
   "outputs": [],
   "source": [
    "\"\"\"\n",
    "This is a module that does...\n",
    "\"\"\"\n",
    "\n",
    "def f1() -> None:\n",
    "    \"\"\"\n",
    "    This is a function that prints out the string \"This is f1\" and returns None\n",
    "    \"\"\"\n",
    "    print(\"This is f1\")"
   ]
  },
  {
   "cell_type": "code",
   "execution_count": null,
   "metadata": {},
   "outputs": [],
   "source": [
    "print(f1.__doc__)"
   ]
  },
  {
   "cell_type": "markdown",
   "metadata": {},
   "source": [
    "3. Module-level dunders"
   ]
  },
  {
   "cell_type": "code",
   "execution_count": null,
   "metadata": {},
   "outputs": [],
   "source": [
    "__all__ = [\"f1\", \"f2\"]\n",
    "__author__ = \"John Smith\"\n",
    "__version__ = \"1.0.1\""
   ]
  },
  {
   "cell_type": "markdown",
   "metadata": {},
   "source": [
    "Практическое задание:\n",
    "1. Сложить все функции по работе с матрицами в один модуль. Оформить аннотации типов и докстринги, описывающие суть функции и модуля.\n",
    "2. Написать скрипт, импортирующий этот модуль и выполняющий несколько операций с матрицами."
   ]
  }
 ],
 "metadata": {
  "kernelspec": {
   "display_name": "Python 3.9.0 64-bit",
   "language": "python",
   "name": "python3"
  },
  "language_info": {
   "codemirror_mode": {
    "name": "ipython",
    "version": 3
   },
   "file_extension": ".py",
   "mimetype": "text/x-python",
   "name": "python",
   "nbconvert_exporter": "python",
   "pygments_lexer": "ipython3",
   "version": "3.9.0"
  },
  "orig_nbformat": 4,
  "vscode": {
   "interpreter": {
    "hash": "364dcd152da2692276e72902df2858159ccc300c15062838033fe03303e9b26c"
   }
  }
 },
 "nbformat": 4,
 "nbformat_minor": 2
}
