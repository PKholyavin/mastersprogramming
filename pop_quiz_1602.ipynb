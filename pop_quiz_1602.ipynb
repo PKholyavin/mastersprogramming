{
 "cells": [
  {
   "attachments": {},
   "cell_type": "markdown",
   "metadata": {},
   "source": [
    "1. Что выведет код?"
   ]
  },
  {
   "cell_type": "code",
   "execution_count": null,
   "metadata": {},
   "outputs": [],
   "source": [
    "def func(a):\n",
    "    for i, j in zip(a, a[1:]):\n",
    "        a.append(i + j)\n",
    "    return \"\".join(a).count(\"b\")\n",
    "\n",
    "lett = [\"a\", \"b\", \"c\"]\n",
    "x = func(lett)\n",
    "y = func(lett)\n",
    "print(x, y)"
   ]
  },
  {
   "attachments": {},
   "cell_type": "markdown",
   "metadata": {},
   "source": [
    "2. Что выведет код? (с) https://docs.python-guide.org/writing/gotchas/"
   ]
  },
  {
   "cell_type": "code",
   "execution_count": null,
   "metadata": {},
   "outputs": [],
   "source": [
    "def append_to(element, to=[]):\n",
    "    to.append(element)\n",
    "    return to\n",
    "\n",
    "my_list = append_to(12)\n",
    "print(my_list)\n",
    "\n",
    "my_other_list = append_to(42)\n",
    "print(my_other_list)"
   ]
  },
  {
   "attachments": {},
   "cell_type": "markdown",
   "metadata": {},
   "source": [
    "3a. Открыть файл tsv и записать каждую строку данных в словарь (без использования модуля csv), все словари добавить в список"
   ]
  },
  {
   "cell_type": "code",
   "execution_count": null,
   "metadata": {},
   "outputs": [],
   "source": [
    "filename = \"d07_s02_maps_tempo.txt\""
   ]
  },
  {
   "attachments": {},
   "cell_type": "markdown",
   "metadata": {},
   "source": [
    "3b. Отсортировать табличку по каждой из колонок"
   ]
  },
  {
   "cell_type": "code",
   "execution_count": null,
   "metadata": {},
   "outputs": [],
   "source": []
  },
  {
   "attachments": {},
   "cell_type": "markdown",
   "metadata": {},
   "source": [
    "3c. Добавить в таблицу новую колонку: tempo"
   ]
  },
  {
   "cell_type": "code",
   "execution_count": null,
   "metadata": {},
   "outputs": [],
   "source": []
  },
  {
   "attachments": {},
   "cell_type": "markdown",
   "metadata": {},
   "source": [
    "3d. Записать получившуюся таблицу в новый файл."
   ]
  },
  {
   "cell_type": "code",
   "execution_count": null,
   "metadata": {},
   "outputs": [],
   "source": []
  },
  {
   "attachments": {},
   "cell_type": "markdown",
   "metadata": {},
   "source": [
    "4a. Открыть и прочитать файл .seg"
   ]
  },
  {
   "cell_type": "code",
   "execution_count": null,
   "metadata": {},
   "outputs": [],
   "source": []
  },
  {
   "attachments": {},
   "cell_type": "markdown",
   "metadata": {},
   "source": [
    "4b. Изменить в файле .seg частоту дискретизации и записать новую версию"
   ]
  },
  {
   "cell_type": "code",
   "execution_count": null,
   "metadata": {},
   "outputs": [],
   "source": []
  }
 ],
 "metadata": {
  "kernelspec": {
   "display_name": "Python 3",
   "language": "python",
   "name": "python3"
  },
  "language_info": {
   "codemirror_mode": {
    "name": "ipython",
    "version": 3
   },
   "file_extension": ".py",
   "mimetype": "text/x-python",
   "name": "python",
   "nbconvert_exporter": "python",
   "pygments_lexer": "ipython3",
   "version": "3.9.0"
  },
  "orig_nbformat": 4,
  "vscode": {
   "interpreter": {
    "hash": "364dcd152da2692276e72902df2858159ccc300c15062838033fe03303e9b26c"
   }
  }
 },
 "nbformat": 4,
 "nbformat_minor": 2
}
