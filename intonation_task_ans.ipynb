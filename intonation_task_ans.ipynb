{
  "cells": [
    {
      "cell_type": "markdown",
      "metadata": {
        "id": "2jLbWRInZGH-"
      },
      "source": [
        "**Задание для выполнения в классе:**\n",
        "1. Напишите функцию, которая принимает на вход списки меток звуков, слов и синтагм и возвращает список словарей, отражающих иерархическую структуру высказывания.\n",
        "\n",
        "    Каждый словарь в списке &ndash; это синтагма. У него должны быть ключи:  \n",
        "    * `\"model\"`: интонационная модель;  \n",
        "    * `\"start\"`: время начала (в отсчётах);  \n",
        "    * `\"end\"`: время конца (в отсчётах);  \n",
        "    * `\"nucleus\"`: индекс слова, содержащего интонационный центр;  \n",
        "    * `\"words\"`: список слов.\n",
        "\n",
        "    Каждое слово &ndash; это тоже словарь. У него должны быть ключи:  \n",
        "    * `\"word\"`: слово в орфографической записи;  \n",
        "    * `\"start\"`: время начала (в отсчётах);  \n",
        "    * `\"end\"`: время конца (в отсчётах);  \n",
        "    * `\"is_stressed\"`: является ли слово ударным (`True` или `False`);  \n",
        "    * `\"is_nucleus\"`: является ли слово интонационным центром (`True` или `False`);  \n",
        "    * `\"is_prominent\"`: несёт ли слово дополнительную интонационную выделенность (`True` или `False`);  \n",
        "    * `\"stressed_vowel\"`: индекс ударного гласного;  \n",
        "    * `\"sounds\"`: список звуков.\n",
        "\n",
        "    Каждый звук &ndash; это тоже словарь. У него должны быть ключи:  \n",
        "    * `\"sound\"`: обозначение аллофона;  \n",
        "    * `\"start\"`: время начала (в отсчётах);  \n",
        "    * `\"end\"`: время конца (в отсчётах).\n",
        "\n",
        "    Условные обозначения:  \n",
        "    * метки звуков находятся на уровне B1;\n",
        "    * метки слов находятся на уровне Y1;\n",
        "    * метки синтгам находятся на уровне R2;\n",
        "    * на уровне синтагм метки пауз имеют названия вида pX, где X от 1 до 6;\n",
        "    * по умолчанию интонационный центр находится на последнем слове синтагмы;\n",
        "    * если это не так, то перед центром стоит символ [-];\n",
        "    * просодически выделеные слова отмечены знаком [+];\n",
        "    * ударные гласные заканчиваются на символ 0;\n"
      ]
    },
    {
      "cell_type": "code",
      "execution_count": null,
      "metadata": {
        "id": "-22c6AEyZGID",
        "outputId": "ebbd9cfa-e5e8-4327-a566-8de7b41760ba",
        "colab": {
          "base_uri": "https://localhost:8080/"
        }
      },
      "outputs": [
        {
          "output_type": "stream",
          "name": "stdout",
          "text": [
            "--2024-05-20 09:50:35--  https://pkholyavin.github.io/mastersprogramming/cta0001-0010.zip\n",
            "Resolving pkholyavin.github.io (pkholyavin.github.io)... 185.199.111.153, 185.199.108.153, 185.199.109.153, ...\n",
            "Connecting to pkholyavin.github.io (pkholyavin.github.io)|185.199.111.153|:443... connected.\n",
            "HTTP request sent, awaiting response... 200 OK\n",
            "Length: 3237448 (3.1M) [application/zip]\n",
            "Saving to: ‘cta0001-0010.zip’\n",
            "\n",
            "\rcta0001-0010.zip      0%[                    ]       0  --.-KB/s               \rcta0001-0010.zip    100%[===================>]   3.09M  --.-KB/s    in 0.02s   \n",
            "\n",
            "2024-05-20 09:50:35 (182 MB/s) - ‘cta0001-0010.zip’ saved [3237448/3237448]\n",
            "\n"
          ]
        }
      ],
      "source": [
        "!wget https://pkholyavin.github.io/mastersprogramming/cta0001-0010.zip"
      ]
    },
    {
      "cell_type": "code",
      "execution_count": null,
      "metadata": {
        "id": "H6061-ZcZGIE"
      },
      "outputs": [],
      "source": [
        "!unzip -q cta0001-0010.zip"
      ]
    },
    {
      "cell_type": "code",
      "execution_count": null,
      "metadata": {
        "id": "uG_waCTOZGIE"
      },
      "outputs": [],
      "source": [
        "from itertools import product\n",
        "letters = \"GBRY\"\n",
        "nums = \"1234\"\n",
        "levels = [ch + num for num, ch in product(nums, letters)]\n",
        "level_codes = [2 ** i for i in range(len(levels))]\n",
        "code_to_level = {i: j for i, j in zip(level_codes, levels)}\n",
        "level_to_code = {j: i for i, j in zip(level_codes, levels)}\n",
        "\n",
        "\n",
        "def detect_encoding(file_path):\n",
        "    encoding = \"utf-8\"\n",
        "    try:\n",
        "        l = open(file_path, 'r', encoding=\"utf-8\").read()\n",
        "        if l.startswith(\"\\ufeff\"):  # т.н. byte order mark\n",
        "            encoding = \"utf-8-sig\"\n",
        "    except UnicodeDecodeError:\n",
        "        try:\n",
        "            open(file_path, 'r', encoding=\"utf-16\").read()\n",
        "            encoding = \"utf-16\"\n",
        "        except UnicodeError:\n",
        "            encoding = \"cp1251\"\n",
        "    return encoding\n",
        "\n",
        "\n",
        "def read_seg(filename: str, encoding: str = \"utf-8-sig\") -> tuple[dict, list[dict]]:\n",
        "    with open(filename, encoding=encoding) as f:\n",
        "        lines = [line.strip() for line in f.readlines()]\n",
        "\n",
        "    # найдём границы секций в списке строк:\n",
        "    header_start = lines.index(\"[PARAMETERS]\") + 1\n",
        "    data_start = lines.index(\"[LABELS]\") + 1\n",
        "\n",
        "    # прочитаем параметры\n",
        "    params = {}\n",
        "    for line in lines[header_start:data_start - 1]:\n",
        "        key, value = line.split(\"=\")\n",
        "        params[key] = int(value)\n",
        "\n",
        "    # прочитаем метки\n",
        "    labels = []\n",
        "    for line in lines[data_start:]:\n",
        "        # если в строке нет запятых, значит, это не метка и метки закончились\n",
        "        if line.count(\",\") < 2:\n",
        "            break\n",
        "        pos, level, name = line.split(\",\", maxsplit=2)\n",
        "        label = {\n",
        "            \"position\": int(pos) // params[\"BYTE_PER_SAMPLE\"] // params[\"N_CHANNEL\"],\n",
        "            \"level\": code_to_level[int(level)],\n",
        "            \"name\": name\n",
        "        }\n",
        "        labels.append(label)\n",
        "    return params, labels"
      ]
    },
    {
      "cell_type": "code",
      "source": [
        "def get_syntagma_dict(sound_labels: list[dict], word_labels: list[dict], synt_labels: list[dict]) -> list[dict]:\n",
        "    synt_list = []\n",
        "    for label_s, label_e in zip(synt_labels, synt_labels[1:]):\n",
        "        if label_s[\"name\"].startswith(\"p\"): # если это пауза\n",
        "            continue\n",
        "        synt_dict = {\n",
        "            \"model\": label_s[\"name\"],\n",
        "            \"start\": label_s[\"position\"],\n",
        "            \"end\": label_e[\"position\"],\n",
        "            \"nucleus\": None,\n",
        "            \"words\": []\n",
        "        }\n",
        "        synt_list.append(synt_dict)\n",
        "        for word_s, word_e in zip(word_labels, word_labels[1:]):\n",
        "            if not (label_s[\"position\"] <= word_s[\"position\"] < label_e[\"position\"]):\n",
        "                continue\n",
        "            word_dict = {\n",
        "                \"word\": word_s[\"name\"],\n",
        "                \"start\": word_s[\"position\"],\n",
        "                \"end\": word_e[\"position\"],\n",
        "                \"is_stressed\": False,\n",
        "                \"is_nucleus\": word_s[\"name\"].startswith(\"[-]\"),\n",
        "                \"is_prominent\": word_s[\"name\"].startswith(\"[+]\"),\n",
        "                \"stressed_vowel\": None,\n",
        "                \"sounds\": []\n",
        "            }\n",
        "            synt_dict[\"words\"].append(word_dict)\n",
        "            if word_dict[\"is_nucleus\"]:\n",
        "                synt_dict[\"nucleus\"] = len(synt_dict[\"words\"]) - 1\n",
        "            for sound_s, sound_e in zip(sound_labels, sound_labels[1:]):\n",
        "                if not (word_s[\"position\"] <= sound_s[\"position\"] < word_e[\"position\"]):\n",
        "                    continue\n",
        "                sound_dict = {\n",
        "                    \"sound\": sound_s[\"name\"],\n",
        "                    \"start\": sound_s[\"position\"],\n",
        "                    \"end\": sound_e[\"position\"]\n",
        "                }\n",
        "                word_dict[\"sounds\"].append(sound_dict)\n",
        "                if sound_dict[\"sound\"].endswith(\"0\"):\n",
        "                    word_dict[\"stressed_vowel\"] = len(word_dict[\"sounds\"]) - 1\n",
        "                    word_dict[\"is_stressed\"] = True\n",
        "        # если по пути мы не встретили ядро синтагмы, то это последнее ударное слово\n",
        "        # просто переберём все найденные слова задом наперёд\n",
        "        # на первом встретившемся поставим ядро\n",
        "        # и на этом закончим цикл\n",
        "        if synt_dict[\"nucleus\"] is None:\n",
        "            for i, word in enumerate(synt_dict[\"words\"][::-1]):\n",
        "                if word[\"is_stressed\"]:\n",
        "                    synt_dict[\"nucleus\"] = len(synt_dict[\"words\"]) - i - 1\n",
        "                    word[\"is_nucleus\"] = True\n",
        "                    break\n",
        "    return synt_list"
      ],
      "metadata": {
        "id": "otEndA-HaSdX"
      },
      "execution_count": null,
      "outputs": []
    },
    {
      "cell_type": "code",
      "source": [
        "def get_labels(file_name) -> tuple[list[dict]]:\n",
        "    params, sound_labels = read_seg(file_name.split(\".\")[0] + \".seg_B1\")\n",
        "    _, word_labels = read_seg(file_name.split(\".\")[0] + \".seg_Y1\", encoding=detect_encoding(file_name.split(\".\")[0] + \".seg_Y1\"))\n",
        "    _, synt_labels = read_seg(file_name.split(\".\")[0] + \".seg_R2\")\n",
        "    return params, sound_labels, word_labels, synt_labels"
      ],
      "metadata": {
        "id": "-kZFTMPPa3t4"
      },
      "execution_count": null,
      "outputs": []
    },
    {
      "cell_type": "code",
      "source": [
        "_, sound_labels, word_labels, synt_labels = get_labels(\"cta0001-0010/cta0009.seg_B1\")\n",
        "get_syntagma_dict(sound_labels, word_labels, synt_labels)"
      ],
      "metadata": {
        "collapsed": true,
        "id": "Dy3428lAb9JJ",
        "outputId": "845ec85c-495d-41cd-a135-331936091d72",
        "colab": {
          "base_uri": "https://localhost:8080/"
        }
      },
      "execution_count": null,
      "outputs": [
        {
          "output_type": "execute_result",
          "data": {
            "text/plain": [
              "[{'model': '12',\n",
              "  'start': 0,\n",
              "  'end': 13170,\n",
              "  'nucleus': 1,\n",
              "  'words': [{'word': 'и',\n",
              "    'start': 0,\n",
              "    'end': 2751,\n",
              "    'is_stressed': False,\n",
              "    'is_nucleus': False,\n",
              "    'is_prominent': False,\n",
              "    'stressed_vowel': None,\n",
              "    'sounds': [{'sound': 'i1', 'start': 0, 'end': 2751}]},\n",
              "   {'word': '[-]то',\n",
              "    'start': 2751,\n",
              "    'end': 8220,\n",
              "    'is_stressed': True,\n",
              "    'is_nucleus': True,\n",
              "    'is_prominent': False,\n",
              "    'stressed_vowel': 1,\n",
              "    'sounds': [{'sound': 't', 'start': 2751, 'end': 5842},\n",
              "     {'sound': 'o0', 'start': 5842, 'end': 8220}]},\n",
              "   {'word': 'лишь',\n",
              "    'start': 8220,\n",
              "    'end': 13170,\n",
              "    'is_stressed': False,\n",
              "    'is_nucleus': False,\n",
              "    'is_prominent': False,\n",
              "    'stressed_vowel': None,\n",
              "    'sounds': [{'sound': \"l'\", 'start': 8220, 'end': 9422},\n",
              "     {'sound': 'i4', 'start': 9422, 'end': 10906},\n",
              "     {'sound': 'sh', 'start': 10906, 'end': 13170}]}]},\n",
              " {'model': '02',\n",
              "  'start': 13170,\n",
              "  'end': 42031,\n",
              "  'nucleus': 2,\n",
              "  'words': [{'word': 'в',\n",
              "    'start': 13170,\n",
              "    'end': 15760,\n",
              "    'is_stressed': False,\n",
              "    'is_nucleus': False,\n",
              "    'is_prominent': False,\n",
              "    'stressed_vowel': None,\n",
              "    'sounds': [{'sound': 'v', 'start': 13170, 'end': 15760}]},\n",
              "   {'word': 'минуты',\n",
              "    'start': 15760,\n",
              "    'end': 24195,\n",
              "    'is_stressed': True,\n",
              "    'is_nucleus': False,\n",
              "    'is_prominent': False,\n",
              "    'stressed_vowel': 3,\n",
              "    'sounds': [{'sound': \"m'\", 'start': 15760, 'end': 17077},\n",
              "     {'sound': 'i1', 'start': 17077, 'end': 18356},\n",
              "     {'sound': 'n', 'start': 18356, 'end': 20118},\n",
              "     {'sound': 'u0', 'start': 20118, 'end': 21573},\n",
              "     {'sound': 't', 'start': 21573, 'end': 23736},\n",
              "     {'sound': 'y4', 'start': 23736, 'end': 24195}]},\n",
              "   {'word': 'раздражения',\n",
              "    'start': 24195,\n",
              "    'end': 42031,\n",
              "    'is_stressed': True,\n",
              "    'is_nucleus': True,\n",
              "    'is_prominent': False,\n",
              "    'stressed_vowel': 7,\n",
              "    'sounds': [{'sound': 'r', 'start': 24195, 'end': 25013},\n",
              "     {'sound': 'a2', 'start': 25013, 'end': 26469},\n",
              "     {'sound': 'z', 'start': 26469, 'end': 27395},\n",
              "     {'sound': 'd', 'start': 27395, 'end': 29438},\n",
              "     {'sound': 'r', 'start': 29438, 'end': 30083},\n",
              "     {'sound': 'a1', 'start': 30083, 'end': 32096},\n",
              "     {'sound': 'zh', 'start': 32096, 'end': 33358},\n",
              "     {'sound': 'y0', 'start': 33358, 'end': 36083},\n",
              "     {'sound': \"n'\", 'start': 36083, 'end': 38398},\n",
              "     {'sound': 'e4', 'start': 38398, 'end': 39611},\n",
              "     {'sound': 'a4', 'start': 39611, 'end': 42031}]}]}]"
            ]
          },
          "metadata": {},
          "execution_count": 23
        }
      ]
    },
    {
      "cell_type": "markdown",
      "metadata": {
        "id": "F9gQ9LdnZGIF"
      },
      "source": [
        "2. Напишите функцию, которая принимает на вход имя звукового файла и сопутствующих меток и изображает график мелодической деклинации, т.е. максимумы ЧОТ в ударном гласном каждого слова, для каждой синтагмы. ЧОТ вычислите при помощи `parselmouth`."
      ]
    },
    {
      "cell_type": "code",
      "execution_count": null,
      "metadata": {
        "id": "gDvKUaKXZGIF",
        "outputId": "ef071a13-c7bb-4a63-f212-407c777c2df7",
        "colab": {
          "base_uri": "https://localhost:8080/"
        }
      },
      "outputs": [
        {
          "output_type": "stream",
          "name": "stdout",
          "text": [
            "Collecting praat-parselmouth\n",
            "  Downloading praat_parselmouth-0.4.3-cp310-cp310-manylinux_2_12_x86_64.manylinux2010_x86_64.whl (10.7 MB)\n",
            "\u001b[2K     \u001b[90m━━━━━━━━━━━━━━━━━━━━━━━━━━━━━━━━━━━━━━━━\u001b[0m \u001b[32m10.7/10.7 MB\u001b[0m \u001b[31m73.7 MB/s\u001b[0m eta \u001b[36m0:00:00\u001b[0m\n",
            "\u001b[?25hRequirement already satisfied: numpy>=1.7.0 in /usr/local/lib/python3.10/dist-packages (from praat-parselmouth) (1.25.2)\n",
            "Installing collected packages: praat-parselmouth\n",
            "Successfully installed praat-parselmouth-0.4.3\n"
          ]
        }
      ],
      "source": [
        "!pip install praat-parselmouth"
      ]
    },
    {
      "cell_type": "code",
      "source": [
        "import parselmouth\n",
        "import matplotlib.pyplot as plt"
      ],
      "metadata": {
        "id": "TVSEBFzrke4s"
      },
      "execution_count": null,
      "outputs": []
    },
    {
      "cell_type": "code",
      "execution_count": null,
      "metadata": {
        "id": "rBND7Q5KZGIF"
      },
      "outputs": [],
      "source": [
        "def plot_declination(filename: str) -> None:\n",
        "    params, *labels = get_labels(filename)\n",
        "    fs = params[\"SAMPLING_FREQ\"]\n",
        "    sound = parselmouth.praat.call(\"Read Sound from raw 16-bit Little Endian file\", filename)\n",
        "    sound.override_sampling_frequency(fs)\n",
        "    step, min_f0, max_f0 = 0.01, 75, 350  # s, Hz, Hz\n",
        "    pitch = sound.to_pitch()\n",
        "    synt_list = get_syntagma_dict(*labels)\n",
        "    for synt in synt_list:\n",
        "        max_f0 = []\n",
        "        ctr = 0\n",
        "        buffer = \"\"\n",
        "        for word in synt[\"words\"]:\n",
        "            if not word[\"is_stressed\"]:\n",
        "                buffer += (\" \" + word[\"word\"])  # будем сохранять все клитики, чтобы приписывать их перед следующим ударным словом\n",
        "                continue\n",
        "            vowel = word[\"sounds\"][word[\"stressed_vowel\"]]\n",
        "            start_time = vowel[\"start\"] / fs\n",
        "            end_time = vowel[\"end\"] / fs\n",
        "            max_value = parselmouth.praat.call(pitch, \"Get maximum\", start_time, end_time, \"Hertz\", \"Parabolic\")\n",
        "            max_f0.append(max_value)\n",
        "            plt.text(ctr, max_value, buffer + \" \" + word[\"word\"])  # напишем слово на графике возле соответствующей ему точки\n",
        "            buffer = \"\"\n",
        "            ctr += 1\n",
        "        plt.plot(max_f0, \"o-\", label=synt[\"model\"])\n",
        "    plt.legend()\n",
        "    plt.show()"
      ]
    },
    {
      "cell_type": "code",
      "source": [
        "plot_declination(\"cta0001-0010/cta0008.sbl\")"
      ],
      "metadata": {
        "id": "D1KvR4_1oqOX",
        "outputId": "cd5f76e1-5b60-40c1-8bc7-145fa042af72",
        "colab": {
          "base_uri": "https://localhost:8080/",
          "height": 430
        }
      },
      "execution_count": null,
      "outputs": [
        {
          "output_type": "display_data",
          "data": {
            "text/plain": [
              "<Figure size 640x480 with 1 Axes>"
            ],
            "image/png": "[encoded data removed]"
          },
          "metadata": {}
        }
      ]
    },
    {
      "cell_type": "markdown",
      "metadata": {
        "id": "ZxNxf1coZGIG"
      },
      "source": [
        "3*. Напишите программу, которая обрабатывает все файлы в архиве и рисует N графиков (по количеству разных интонационных моделей, встретившихся в материале), на каждом из которых изображены все интонационные кривые внутри ядерного гласного из всех синтагм, оформленных этой моделью."
      ]
    },
    {
      "cell_type": "code",
      "execution_count": null,
      "metadata": {
        "id": "6Q84nSN9ZGIG"
      },
      "outputs": [],
      "source": []
    },
    {
      "cell_type": "markdown",
      "metadata": {
        "id": "qITjQG_4ZGIG"
      },
      "source": [
        "**Домашнее задание:** проделайте всё то же самое, но используйте метки G1 как источник информации о ЧОТ. Сравните полученные данные."
      ]
    }
  ],
  "metadata": {
    "language_info": {
      "name": "python"
    },
    "colab": {
      "provenance": []
    },
    "kernelspec": {
      "name": "python3",
      "display_name": "Python 3"
    }
  },
  "nbformat": 4,
  "nbformat_minor": 0
}