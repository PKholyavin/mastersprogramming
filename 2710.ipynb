{
 "cells": [
  {
   "cell_type": "markdown",
   "metadata": {},
   "source": [
    "Словари (dict)\n",
    "\n",
    "Состоят из пар {key: value}"
   ]
  },
  {
   "cell_type": "code",
   "execution_count": null,
   "metadata": {},
   "outputs": [],
   "source": [
    "d = {}\n",
    "d = dict()\n",
    "d = {\"1\": 5, \"2\": 7}\n",
    "print(d[\"1\"])"
   ]
  },
  {
   "cell_type": "code",
   "execution_count": null,
   "metadata": {},
   "outputs": [],
   "source": [
    "del d[\"1\"]\n",
    "print(d[\"1\"])"
   ]
  },
  {
   "cell_type": "code",
   "execution_count": null,
   "metadata": {},
   "outputs": [],
   "source": [
    "a = d.get(\"2\", \"Not found\")\n",
    "print(a)"
   ]
  },
  {
   "cell_type": "code",
   "execution_count": null,
   "metadata": {},
   "outputs": [],
   "source": [
    "d[\"3\"] = 8\n",
    "print(d[\"3\"])\n",
    "print(d)"
   ]
  },
  {
   "cell_type": "code",
   "execution_count": null,
   "metadata": {},
   "outputs": [],
   "source": [
    "print(d[\"2\"])\n",
    "d[\"2\"] += 1\n",
    "print(d[\"2\"])"
   ]
  },
  {
   "cell_type": "code",
   "execution_count": null,
   "metadata": {},
   "outputs": [],
   "source": [
    "d[\"9\"] = [1, 2, 3]\n",
    "print(d[\"9\"])\n",
    "d[\"9\"].append(90)\n",
    "print(d[\"9\"])\n",
    "print(d)"
   ]
  },
  {
   "cell_type": "markdown",
   "metadata": {},
   "source": [
    "Dictionary comprehension"
   ]
  },
  {
   "cell_type": "code",
   "execution_count": null,
   "metadata": {},
   "outputs": [],
   "source": [
    "d1 = {str(a): a ** 2 for a in range(10)}\n",
    "print(d1)"
   ]
  },
  {
   "cell_type": "markdown",
   "metadata": {},
   "source": [
    "Создание словаря из пар (ключ, значение)"
   ]
  },
  {
   "cell_type": "code",
   "execution_count": null,
   "metadata": {},
   "outputs": [],
   "source": [
    "d2 = dict([(\"1\", 2), (\"3\", 4), (\"5\", 6)])\n",
    "print(d2)"
   ]
  },
  {
   "cell_type": "code",
   "execution_count": null,
   "metadata": {},
   "outputs": [],
   "source": [
    "d3 = dict(a=1, b=2, c=3)\n",
    "print(d3)"
   ]
  },
  {
   "cell_type": "markdown",
   "metadata": {},
   "source": [
    "Проверка на вхождение ключа(!) в словарь"
   ]
  },
  {
   "cell_type": "code",
   "execution_count": null,
   "metadata": {},
   "outputs": [],
   "source": [
    "print(\"1\" in d2)\n",
    "print(2 in d2)"
   ]
  },
  {
   "cell_type": "code",
   "execution_count": null,
   "metadata": {},
   "outputs": [],
   "source": [
    "print(list(d2))"
   ]
  },
  {
   "cell_type": "markdown",
   "metadata": {},
   "source": [
    "Итерация по словарю"
   ]
  },
  {
   "cell_type": "code",
   "execution_count": null,
   "metadata": {},
   "outputs": [],
   "source": [
    "for key in d2:\n",
    "    print(key, d2[key])"
   ]
  },
  {
   "cell_type": "code",
   "execution_count": null,
   "metadata": {},
   "outputs": [],
   "source": [
    "for key, value in d2.items():\n",
    "    print(key, value)"
   ]
  },
  {
   "cell_type": "markdown",
   "metadata": {},
   "source": [
    "update()"
   ]
  },
  {
   "cell_type": "code",
   "execution_count": null,
   "metadata": {},
   "outputs": [],
   "source": [
    "d4 = {\"1\": 2, \"3\": 4}\n",
    "d5 = {\"3\": 5, \"6\": 7}\n",
    "d4.update(d5)\n",
    "print(d4)"
   ]
  },
  {
   "cell_type": "markdown",
   "metadata": {},
   "source": [
    "Только в версии Python 3.9 и выше!"
   ]
  },
  {
   "cell_type": "code",
   "execution_count": null,
   "metadata": {},
   "outputs": [],
   "source": [
    "d4 = {\"1\": 2, \"3\": 4}\n",
    "d5 = {\"3\": 5, \"6\": 7}\n",
    "d6 = d4 | d5\n",
    "print(d6)"
   ]
  },
  {
   "cell_type": "code",
   "execution_count": null,
   "metadata": {},
   "outputs": [],
   "source": [
    "a = \"1234567890\"\n",
    "b = a[3:]\n",
    "b"
   ]
  },
  {
   "cell_type": "markdown",
   "metadata": {},
   "source": [
    "Практическое задание:\n",
    "\n",
    "1. Открыть файл d34_s07_maps.txt, считать из него данные\n",
    "2. Каждая строчка имеет видː\n",
    "000\\tслова слова слова\\n\n",
    "3. Составить частотные словари слов и букв:\n",
    "\n",
    "3.1. Словарь слов: словарь вида {\"слово1\": 1, \"слово2\": 5, ...}. Цифры из начала строки не должны входить в этот словарь!\n",
    "\n",
    "3.2. Словарь букв: словарь вида {\"а\": 1, \"б\": 2, ...}. В него должны входить только кириллические буквы. Не должно быть цифр, пробелов и других символов.\n",
    "\n",
    "3.3. Для составления словаря: завести пустой словарь для слов и словарь для букв, в цикле пройти по всем строкам, сделать нужные преобразования (убрать цифры из начала, \\n). Разбить на слова, пройти в цикле по всем словам: если нет в словаре - добавить, если есть - увеличить значение на 1. Разбить строку на символы, пройти в цикле по всем символам: если это буква (абвгдеёжзийклмнопрстуфхцчшщъыьэюя) и нет в словаре - добавить, если есть - увеличить значение на 1. Задание со звёздочкой: не учитывать буквы из слов э-, ъъ, ьь, ыъ (служебные обозначения).\n",
    "\n",
    "4. Вывести каждый словарь на экран"
   ]
  }
 ],
 "metadata": {
  "kernelspec": {
   "display_name": "Python 3.10.7 64-bit",
   "language": "python",
   "name": "python3"
  },
  "language_info": {
   "codemirror_mode": {
    "name": "ipython",
    "version": 3
   },
   "file_extension": ".py",
   "mimetype": "text/x-python",
   "name": "python",
   "nbconvert_exporter": "python",
   "pygments_lexer": "ipython3",
   "version": "3.10.7"
  },
  "orig_nbformat": 4,
  "vscode": {
   "interpreter": {
    "hash": "afb734500600fd355917ca529030176ea0ca205570884b88f2f6f7d791fd3fbe"
   }
  }
 },
 "nbformat": 4,
 "nbformat_minor": 2
}
