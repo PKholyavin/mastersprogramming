{
 "cells": [
  {
   "cell_type": "markdown",
   "metadata": {},
   "source": [
    "Соответствие уровней и их кодов"
   ]
  },
  {
   "cell_type": "code",
   "execution_count": 4,
   "metadata": {},
   "outputs": [],
   "source": [
    "from itertools import product\n",
    "letters = \"GBRY\"\n",
    "nums = \"1234\"\n",
    "levels = [ch + num for num, ch in product(nums, letters)]\n",
    "level_codes = [2 ** i for i in range(len(levels))]\n",
    "code_to_level = {i: j for i, j in zip(level_codes, levels)}\n",
    "level_to_code = {j: i for i, j in zip(level_codes, levels)}"
   ]
  },
  {
   "cell_type": "markdown",
   "metadata": {},
   "source": [
    "Функция для чтения файлов .seg"
   ]
  },
  {
   "cell_type": "code",
   "execution_count": 5,
   "metadata": {},
   "outputs": [],
   "source": [
    "def read_seg(filename: str, encoding: str = \"utf-8-sig\") -> tuple[dict, list[dict]]:\n",
    "    with open(filename, encoding=encoding) as f:\n",
    "        lines = [line.strip() for line in f.readlines()]\n",
    "\n",
    "    # найдём границы секций в списке строк:\n",
    "    header_start = lines.index(\"[PARAMETERS]\") + 1\n",
    "    data_start = lines.index(\"[LABELS]\") + 1\n",
    "\n",
    "    # прочитаем параметры\n",
    "    params = {}\n",
    "    for line in lines[header_start:data_start - 1]:\n",
    "        key, value = line.split(\"=\")\n",
    "        params[key] = int(value)\n",
    "\n",
    "    # прочитаем метки\n",
    "    labels = []\n",
    "    for line in lines[data_start:]:\n",
    "        # если в строке нет запятых, значит, это не метка и метки закончились\n",
    "        if line.count(\",\") < 2:\n",
    "            break\n",
    "        pos, level, name = line.split(\",\", maxsplit=2)\n",
    "        label = {\n",
    "            \"position\": int(pos) // params[\"BYTE_PER_SAMPLE\"] // params[\"N_CHANNEL\"],\n",
    "            \"level\": code_to_level[int(level)],\n",
    "            \"name\": name\n",
    "        }\n",
    "        labels.append(label)\n",
    "    return params, labels"
   ]
  },
  {
   "cell_type": "markdown",
   "metadata": {},
   "source": [
    "Функция для записи файлов .seg"
   ]
  },
  {
   "cell_type": "code",
   "execution_count": 6,
   "metadata": {},
   "outputs": [],
   "source": [
    "def write_seg(params: dict, labels: list, filename: str, encoding: str = \"utf-8-sig\") -> None:\n",
    "    # зададим значения параметров по умолчанию\n",
    "    # вы можете изменить функцию так, чтобы параметры можно было передавать как ключевые слова\n",
    "    param_defaults = {\n",
    "        \"SAMPLING_FREQ\": 44100,\n",
    "        \"BYTE_PER_SAMPLE\": 2,\n",
    "        \"CODE\": 0,\n",
    "        \"N_CHANNEL\": 1,\n",
    "        \"N_LABEL\": 0\n",
    "    }\n",
    "    # запишем в словарь переданные в функцию значения параметров\n",
    "    param_defaults.update(params)\n",
    "    # количество меток определим как длину списка labels\n",
    "    param_defaults[\"N_LABEL\"] = len(labels)\n",
    "    with open(filename, \"w\", encoding=encoding) as f:\n",
    "        f.write(\"[PARAMETERS]\\n\")\n",
    "        for key, value in param_defaults.items():\n",
    "            f.write(f\"{key}={value}\\n\")\n",
    "        f.write(\"[LABELS]\\n\")\n",
    "        for label in labels:\n",
    "            f.write(f\"{param_defaults['BYTE_PER_SAMPLE'] * param_defaults['N_CHANNEL'] * label['position']},\")\n",
    "            f.write(f\"{level_to_code[label['level']]},\")\n",
    "            f.write(f\"{label['name']}\\n\")"
   ]
  },
  {
   "cell_type": "markdown",
   "metadata": {},
   "source": [
    "Функция для вывода пар меток на экран"
   ]
  },
  {
   "cell_type": "code",
   "execution_count": 7,
   "metadata": {},
   "outputs": [],
   "source": [
    "def print_label_pairs(filename):\n",
    "    params, labels = read_seg(filename)\n",
    "    for start, end in zip(labels, labels[1:]):\n",
    "        print(start, end)"
   ]
  },
  {
   "cell_type": "markdown",
   "metadata": {},
   "source": [
    "Улучшим функцию, чтобы для каждого интервала печаталась только релевантная информация (начало, конец, имя открывающей метки)"
   ]
  },
  {
   "cell_type": "code",
   "execution_count": 2,
   "metadata": {},
   "outputs": [],
   "source": [
    "def print_intervals(filename):\n",
    "    params, labels = read_seg(filename)\n",
    "    for start, end in zip(labels, labels[1:]):\n",
    "        print(start[\"name\"], start[\"position\"], end[\"position\"])"
   ]
  },
  {
   "cell_type": "code",
   "execution_count": null,
   "metadata": {},
   "outputs": [],
   "source": [
    "!wget https://pkholyavin.github.io/mastersprogramming/cta0001.seg_B2"
   ]
  },
  {
   "cell_type": "code",
   "execution_count": null,
   "metadata": {},
   "outputs": [],
   "source": [
    "print_intervals(\"cta0001.seg_B2\")"
   ]
  }
 ],
 "metadata": {
  "kernelspec": {
   "display_name": "Python 3",
   "language": "python",
   "name": "python3"
  },
  "language_info": {
   "codemirror_mode": {
    "name": "ipython",
    "version": 3
   },
   "file_extension": ".py",
   "mimetype": "text/x-python",
   "name": "python",
   "nbconvert_exporter": "python",
   "pygments_lexer": "ipython3",
   "version": "3.9.0"
  }
 },
 "nbformat": 4,
 "nbformat_minor": 2
}
