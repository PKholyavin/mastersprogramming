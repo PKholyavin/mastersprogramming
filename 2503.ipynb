{
 "cells": [
  {
   "cell_type": "markdown",
   "metadata": {},
   "source": [
    "I. Работа с файловыми системами: модули os и glob"
   ]
  },
  {
   "cell_type": "markdown",
   "metadata": {},
   "source": [
    "Файловая система:"
   ]
  },
  {
   "cell_type": "code",
   "execution_count": null,
   "metadata": {},
   "outputs": [],
   "source": [
    "\"\"\"\n",
    "C:\n",
    "├─ Program Files\n",
    "├─ Folder_1\n",
    "│  ├─ Folder_2\n",
    "│  │  ├─ file_3.docx\n",
    "│  ├─ file1.txt\n",
    "│  ├─ file2.txt\n",
    "├─ file4.png\n",
    "\"\"\""
   ]
  },
  {
   "cell_type": "markdown",
   "metadata": {},
   "source": [
    "Имя файла - это строка\\*\n",
    "\n",
    "Часть строки между последней точкой и концом - его расширение\n",
    "\n",
    "Расширение связано с содержанием файла только по договорённости"
   ]
  },
  {
   "cell_type": "code",
   "execution_count": null,
   "metadata": {},
   "outputs": [],
   "source": [
    "\"file1.txt\"\n",
    "\"file2.py\"\n",
    "\"file3.py.txt\"\n",
    "\"file4\""
   ]
  },
  {
   "cell_type": "markdown",
   "metadata": {},
   "source": [
    "------\n",
    "\\* имя файла нужно отличать от переменной, которая работает непосредственно с файлом:"
   ]
  },
  {
   "cell_type": "code",
   "execution_count": null,
   "metadata": {},
   "outputs": [],
   "source": [
    "with open(\"lol.txt\", \"w\") as f:\n",
    "    print(type(f))"
   ]
  },
  {
   "cell_type": "markdown",
   "metadata": {},
   "source": [
    "---"
   ]
  },
  {
   "cell_type": "markdown",
   "metadata": {},
   "source": [
    "В Windows имена папок и файлов разделяются между собой обратным слешем \\\\. В Unix, Max - прямым слешем /.\n",
    "\n",
    "Как задавать пути в Python? (Помним, что \\\\ нужен ещё и для escape-последовательностей!)"
   ]
  },
  {
   "cell_type": "code",
   "execution_count": null,
   "metadata": {},
   "outputs": [],
   "source": [
    "r\"C:\\Folder_1\\file1.txt\"\n",
    "\"C:\\\\Folder_1\\\\file1.txt\"\n",
    "\"C:/Folder_1/file1.txt\"  # будет автоматически переформатировано под формат Windows"
   ]
  },
  {
   "cell_type": "markdown",
   "metadata": {},
   "source": [
    "Пути бывают относительные и абсолютные. Абсолютные указывают путь от корневой папки (или от буквы диска в Windows). Относительные указывают путь от текущей папки."
   ]
  },
  {
   "cell_type": "code",
   "execution_count": null,
   "metadata": {},
   "outputs": [],
   "source": [
    "# если текущая папка - Folder_1\n",
    "\"Folder_2/file_3.docx\"\n",
    "r\"../file4.png\"  # переход на один уровень вверх"
   ]
  },
  {
   "cell_type": "markdown",
   "metadata": {},
   "source": [
    "Модуль os и os.path\n",
    "\n",
    "https://docs.python.org/3/library/os.html\n",
    "\n",
    "https://docs.python.org/3/library/os.path.html"
   ]
  },
  {
   "cell_type": "code",
   "execution_count": null,
   "metadata": {},
   "outputs": [],
   "source": [
    "import os\n",
    "\n",
    "filepath = os.path.join(\"Folder_1\", \"file1.txt\")\n",
    "print(filepath)"
   ]
  },
  {
   "cell_type": "code",
   "execution_count": null,
   "metadata": {},
   "outputs": [],
   "source": [
    "path, file = os.path.split(\"C:/Folder_1/file1.txt\")\n",
    "print(path)\n",
    "print(file)"
   ]
  },
  {
   "cell_type": "code",
   "execution_count": null,
   "metadata": {},
   "outputs": [],
   "source": [
    "print(os.sep)  # системный разделитель путей"
   ]
  },
  {
   "cell_type": "code",
   "execution_count": null,
   "metadata": {},
   "outputs": [],
   "source": [
    "file, ext = os.path.splitext(\"file1.txt\")\n",
    "print(file)\n",
    "print(ext)"
   ]
  },
  {
   "cell_type": "markdown",
   "metadata": {},
   "source": [
    "Проверить, что путь существует:"
   ]
  },
  {
   "cell_type": "code",
   "execution_count": null,
   "metadata": {},
   "outputs": [],
   "source": [
    "os.path.exists(\"Folder_1\")"
   ]
  },
  {
   "cell_type": "markdown",
   "metadata": {},
   "source": [
    "Создать директорию:"
   ]
  },
  {
   "cell_type": "code",
   "execution_count": null,
   "metadata": {},
   "outputs": [],
   "source": [
    "os.makedirs(\"Folder_1/Folder_2\")  # ошибка, если уже существует"
   ]
  },
  {
   "cell_type": "markdown",
   "metadata": {},
   "source": [
    "Перебираем все файлы внутри папки"
   ]
  },
  {
   "cell_type": "code",
   "execution_count": null,
   "metadata": {},
   "outputs": [],
   "source": [
    "os.listdir(\"sample_data\")"
   ]
  },
  {
   "cell_type": "markdown",
   "metadata": {},
   "source": [
    "Рекурсивный обход файлового дерева:"
   ]
  },
  {
   "cell_type": "code",
   "execution_count": null,
   "metadata": {},
   "outputs": [],
   "source": [
    "import os\n",
    "for root, dirs, files in os.walk(\".\"):  # текущая директория; сюда можно передавать относительный или абсолютный путь к любой папке\n",
    "    print(root, dirs, files)"
   ]
  },
  {
   "cell_type": "markdown",
   "metadata": {},
   "source": [
    "Модуль glob\n",
    "\n",
    "https://docs.python.org/3/library/glob.html"
   ]
  },
  {
   "cell_type": "code",
   "execution_count": null,
   "metadata": {},
   "outputs": [],
   "source": [
    "import glob"
   ]
  },
  {
   "cell_type": "code",
   "execution_count": null,
   "metadata": {},
   "outputs": [],
   "source": [
    "glob.glob(\"sample_data/*.csv\")  # маска файла"
   ]
  },
  {
   "cell_type": "markdown",
   "metadata": {},
   "source": [
    "С рекурсией:"
   ]
  },
  {
   "cell_type": "code",
   "execution_count": null,
   "metadata": {},
   "outputs": [],
   "source": [
    "glob.glob(\"./**/*.csv\", recursive=True)"
   ]
  },
  {
   "cell_type": "markdown",
   "metadata": {},
   "source": [
    "Задание для выполнения в классе:\n",
    "\n",
    "1. Загрузить в среду архив ```cta_seg.zip``` (доступ только по st-адресу!)\n",
    "\n",
    "2. Распаковать, запустив ячейку ниже"
   ]
  },
  {
   "cell_type": "code",
   "execution_count": null,
   "metadata": {},
   "outputs": [],
   "source": [
    "!unzip cta_seg.zip "
   ]
  },
  {
   "cell_type": "markdown",
   "metadata": {},
   "source": [
    "3. Написать функцию, которая принимает на вход имя папки (в данном случае ```cta_seg```) и уровень seg (в данном случае ```B1``` или ```Y1```), ищет там все файлы ```.seg``` соответствующего уровня и возвращает их список."
   ]
  },
  {
   "cell_type": "code",
   "execution_count": null,
   "metadata": {},
   "outputs": [],
   "source": []
  },
  {
   "cell_type": "markdown",
   "metadata": {},
   "source": [
    "4. Модифицировать функцию так, чтобы она открывала каждый найденный файл ```.seg```, читала оттуда названия меток (кроме пустых) и записывала их в текстовый файл - метки из каждого файла ```.seg``` на отдельной строке, разделённые пробелами."
   ]
  },
  {
   "cell_type": "markdown",
   "metadata": {},
   "source": [
    "```cta_seg_B1.txt```\n",
    "\n",
    "```\n",
    "j u0 r' i4 t r' i0 f a4 n a4 f\n",
    "a1 b m' e0 n\n",
    "...\n",
    "```"
   ]
  },
  {
   "cell_type": "code",
   "execution_count": null,
   "metadata": {},
   "outputs": [],
   "source": []
  },
  {
   "cell_type": "markdown",
   "metadata": {},
   "source": [
    "II. Работа с многоуровневой разметкой"
   ]
  },
  {
   "cell_type": "markdown",
   "metadata": {},
   "source": [
    "Задание для выполнения в классе:\n",
    "\n",
    "1. Написать функцию, которая принимает на вход два имени файлов ```.seg``` и возвращает список списков следующего формата:\n",
    "```\n",
    "[\n",
    "    [[метка1_1, метка1_2], [метка2_1, метка2_2, ...]],\n",
    "    [[метка1_2, метка1_3], [метка2_5, метка2_6, ...]],\n",
    "    ...\n",
    "]\n",
    "```\n",
    "где ```метка1_*``` - это метки из первого файла, а ```метка2_*``` - метки из второго, которые лежат **между** соответствующими метками из первого. Используйте циклы.\n",
    "\n",
    "Считайте, что интервал, ограниченный двумя метками, полуоткрытый - т.е. если ```метка2_2``` совпадает с меткой ```метка1_1```, она будет входить в интервал [```метка1_1```, ```метка1_2```), а если совпадает с меткой ```метка1_2``` - не будет."
   ]
  },
  {
   "cell_type": "code",
   "execution_count": null,
   "metadata": {},
   "outputs": [],
   "source": []
  },
  {
   "cell_type": "markdown",
   "metadata": {},
   "source": [
    "2. Модифицируйте функцию так, чтобы результат она записывала в текстовый файл в следующем формате:\n",
    "```\n",
    "<время метки1_1 в секундах> <время метки1_2 в секундах> <имя метки1_1> <имя метки2_1> <имя метки2_2> ...\n",
    "```"
   ]
  },
  {
   "cell_type": "markdown",
   "metadata": {},
   "source": [
    "Например:\n",
    "```\n",
    "0.0 0.412 юрий j u0 r' i4\n",
    "0.412 1.24 трифонов t r' i0 f a4 n a4 f\n",
    "```"
   ]
  },
  {
   "cell_type": "code",
   "execution_count": null,
   "metadata": {},
   "outputs": [],
   "source": []
  },
  {
   "cell_type": "markdown",
   "metadata": {},
   "source": [
    "Домашнее задание:\n",
    "\n",
    "Напишите программу, которая обрабатывает корпус файлов ```.seg``` и строит на его основе произносительный словарь. Результат необходимо записать в текстовый файл в алфавитном порядке. Например:\n",
    "```\n",
    "...\n",
    "обмен a1 b m' e0 n\n",
    "...\n",
    "трифонов t r' i0 f a4 n a4 f\n",
    "...\n",
    "юрий j u0 r' i4\n",
    "...\n",
    "```\n",
    "\n",
    "Помните, что у вас обязательно возникнут слова с одинаковым написанием, но разным произношением! Каждый вариант нужно записать на своей строчке, но только один раз! Абсолютно одинаковых строк в итоговом файле быть не должно:\n",
    "```\n",
    "...\n",
    "в f\n",
    "в v\n",
    "...\n",
    "```"
   ]
  }
 ],
 "metadata": {
  "language_info": {
   "name": "python"
  }
 },
 "nbformat": 4,
 "nbformat_minor": 2
}
