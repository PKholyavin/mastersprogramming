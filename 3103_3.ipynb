{
 "cells": [
  {
   "attachments": {},
   "cell_type": "markdown",
   "metadata": {},
   "source": [
    "Написать программу, вычисляющую контур интенсивности в сигнале и выводящую его на экран вместе с осциллограммой.\n",
    "\n",
    "Алгоритм вычисления интенсивности:\n",
    "\n",
    "1. Разбить сигнал на окна. Длину окна берём равной 3.2 * 2 * (максимально возможная длина периода ОТ). Шаг окна - 0.8 * (максимально возможная длина периода ОТ)\n",
    "2. Применить полосовой фильтр от 80 до 8000 Гц, например:"
   ]
  },
  {
   "cell_type": "code",
   "execution_count": null,
   "metadata": {},
   "outputs": [],
   "source": [
    "from scipy.signal import butter, lfilter\n",
    "from scipy.io.wavfile import read\n",
    "fs, signal = read(\"cta0001.wav\")\n",
    "filter = butter(5, [80, 8000], fs=fs)\n",
    "signal_filtered = lfilter(*filter, signal)"
   ]
  },
  {
   "attachments": {},
   "cell_type": "markdown",
   "metadata": {},
   "source": [
    "3. Возвести значения сигнала в квадрат\n",
    "4. Применить оконную функцию, например:"
   ]
  },
  {
   "cell_type": "code",
   "execution_count": null,
   "metadata": {},
   "outputs": [],
   "source": [
    "from scipy.signal import kaiser\n",
    "win_size = None # ваша длина окна\n",
    "win_func = kaiser(win_size, 20)"
   ]
  },
  {
   "attachments": {},
   "cell_type": "markdown",
   "metadata": {},
   "source": [
    "5. Сложить полученные величины, поделить на сумму значений оконной функции\n",
    "6. Перевести полученное значение в децибелы:"
   ]
  },
  {
   "cell_type": "code",
   "execution_count": null,
   "metadata": {},
   "outputs": [],
   "source": [
    "import numpy as np\n",
    "\n",
    "def __decibel(value, ref=4 * 10 ** -10):\n",
    "    return 10 * np.log10(value / ref) if value > 10 ** -30 else -300.0\n"
   ]
  },
  {
   "attachments": {},
   "cell_type": "markdown",
   "metadata": {},
   "source": [
    "7. Повторить для каждого окна, отобразить на графике поверх осциллограммы так, чтобы оси совпадали "
   ]
  }
 ],
 "metadata": {
  "language_info": {
   "name": "python"
  },
  "orig_nbformat": 4
 },
 "nbformat": 4,
 "nbformat_minor": 2
}
