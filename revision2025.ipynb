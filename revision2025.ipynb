{
 "cells": [
  {
   "cell_type": "markdown",
   "metadata": {},
   "source": [
    "### Повторение: list comprehension\n",
    "\n",
    "List comprehension: инструмент для генерации списков на основе цикла ```for```"
   ]
  },
  {
   "cell_type": "code",
   "execution_count": null,
   "metadata": {},
   "outputs": [],
   "source": [
    "x = [1, 2, 3, 4, 5]\n",
    "y = [i for i in x]\n",
    "print(y, x is y)"
   ]
  },
  {
   "cell_type": "code",
   "execution_count": null,
   "metadata": {},
   "outputs": [],
   "source": [
    "y = [i ** 2 for i in x]\n",
    "print(y)"
   ]
  },
  {
   "cell_type": "code",
   "execution_count": null,
   "metadata": {},
   "outputs": [],
   "source": [
    "y = [i ** 2 for i in range(10)]\n",
    "print(y)"
   ]
  },
  {
   "cell_type": "markdown",
   "metadata": {},
   "source": [
    "Добавим условие:"
   ]
  },
  {
   "cell_type": "code",
   "execution_count": null,
   "metadata": {},
   "outputs": [],
   "source": [
    "y = [i ** 2 for i in range(10) if i % 2 == 0]\n",
    "print(y)"
   ]
  },
  {
   "cell_type": "markdown",
   "metadata": {},
   "source": [
    "Добавим тернарный оператор:"
   ]
  },
  {
   "cell_type": "code",
   "execution_count": null,
   "metadata": {},
   "outputs": [],
   "source": [
    "y = [i ** 2 if i % 3 == 0 else i ** 3 for i in range(10)]\n",
    "print(y)"
   ]
  },
  {
   "cell_type": "markdown",
   "metadata": {},
   "source": [
    "Добавим и тернарный оператор, и условие:"
   ]
  },
  {
   "cell_type": "code",
   "execution_count": null,
   "metadata": {},
   "outputs": [],
   "source": [
    "y = [i ** 2 if i % 3 == 0 else i ** 3 for i in range(10) if i % 2 == 0]\n",
    "print(y)"
   ]
  },
  {
   "cell_type": "markdown",
   "metadata": {},
   "source": [
    "Несколько вложенных циклов:\n",
    "\n",
    "1) без list comprehension:"
   ]
  },
  {
   "cell_type": "code",
   "execution_count": null,
   "metadata": {},
   "outputs": [],
   "source": [
    "y = []\n",
    "for j in range(1, 4):\n",
    "    for i in range(1, 4):\n",
    "        y.append(i * j)\n",
    "print(y)"
   ]
  },
  {
   "cell_type": "markdown",
   "metadata": {},
   "source": [
    "2. с list comprehension"
   ]
  },
  {
   "cell_type": "code",
   "execution_count": null,
   "metadata": {},
   "outputs": [],
   "source": [
    "y = [i * j for i in range(1, 4) for j in range(1, 4)]\n",
    "print(y)"
   ]
  },
  {
   "cell_type": "markdown",
   "metadata": {},
   "source": [
    "Порядок важен!"
   ]
  },
  {
   "cell_type": "code",
   "execution_count": null,
   "metadata": {},
   "outputs": [],
   "source": [
    "big_list = [[1, 2, 3], [4, 5, 6], [7, 8, 9]]\n",
    "y = [el ** 2 for sub_list in big_list for el in sub_list]\n",
    "print(y)"
   ]
  },
  {
   "cell_type": "code",
   "execution_count": null,
   "metadata": {},
   "outputs": [],
   "source": [
    "y = [[el ** 2 for el in sub_list] for sub_list in big_list]\n",
    "print(y)"
   ]
  },
  {
   "cell_type": "markdown",
   "metadata": {},
   "source": [
    "### Задания для выполнения в классе\n",
    "\n",
    "1. Напишите программу, которая считывает с клавиатуры два целых числа M и N и создаёт список, в котором будут частные от деления на N всех чисел от 0 до M. Если число N равно 0 или число M меньше или равно 0, выведите на экран текст, сообщающий об этом."
   ]
  },
  {
   "cell_type": "code",
   "execution_count": null,
   "metadata": {},
   "outputs": [],
   "source": []
  },
  {
   "cell_type": "markdown",
   "metadata": {},
   "source": [
    "2. Дан список слов. Создать новый список, где каждым элементом будет длина слова из первого списка."
   ]
  },
  {
   "cell_type": "code",
   "execution_count": null,
   "metadata": {},
   "outputs": [],
   "source": [
    "words = [\"apple\", \"banana\", \"orange\", \"pear\", \"pineapple\"]\n"
   ]
  },
  {
   "cell_type": "markdown",
   "metadata": {},
   "source": [
    "2а*. Создать словарь, в котором ключами будут слова, а значениями &ndash; их длины."
   ]
  },
  {
   "cell_type": "code",
   "execution_count": null,
   "metadata": {},
   "outputs": [],
   "source": []
  },
  {
   "cell_type": "markdown",
   "metadata": {},
   "source": [
    "3. Дана переменная, содержащая фамилию, и список, содержащий имена. Создать новый список, где каждым элементом будет полное имя (имя и фамилия)."
   ]
  },
  {
   "cell_type": "code",
   "execution_count": null,
   "metadata": {},
   "outputs": [],
   "source": [
    "lastname = \"Smith\"\n",
    "firstnames = [\"John\", \"Mary\", \"Peter\", \"Aerith\", \"Bob\"]"
   ]
  },
  {
   "cell_type": "markdown",
   "metadata": {},
   "source": [
    "4. Из списка полных имён создать новый, в котором будут только те, длина которых не превышает 10 символов."
   ]
  },
  {
   "cell_type": "code",
   "execution_count": null,
   "metadata": {},
   "outputs": [],
   "source": []
  },
  {
   "cell_type": "markdown",
   "metadata": {},
   "source": [
    "5. Пусть программа принимает на вход целое число `N`. Создайте список длины `N` такого вида: `[\"a\", \"aa\", \"aaa\", ...]`."
   ]
  },
  {
   "cell_type": "code",
   "execution_count": null,
   "metadata": {},
   "outputs": [],
   "source": []
  },
  {
   "cell_type": "markdown",
   "metadata": {},
   "source": [
    "6. Дан список строк. Постройте новый список, в котором будут все те же строки, но написанные задом наперёд."
   ]
  },
  {
   "cell_type": "code",
   "execution_count": null,
   "metadata": {},
   "outputs": [],
   "source": [
    "words = [\"elbairav\", \"noitareti\", \"tsil\", \"nohtyp\"]\n"
   ]
  },
  {
   "cell_type": "markdown",
   "metadata": {},
   "source": [
    "7. Определите сумму всех чисел от 1 до 100, которые делятся на 7."
   ]
  },
  {
   "cell_type": "code",
   "execution_count": null,
   "metadata": {},
   "outputs": [],
   "source": []
  },
  {
   "cell_type": "markdown",
   "metadata": {},
   "source": [
    "8. Дан список слов. Назовём серединой слова его часть без первой и последней буквы (гарантируется, что в каждом слове как минимум три буквы). Создать список слов, в середине которых есть последовательность \"аб\"."
   ]
  },
  {
   "cell_type": "code",
   "execution_count": null,
   "metadata": {},
   "outputs": [],
   "source": [
    "wordlist = [\"абрикос\", \"крабам\", \"собака\", \"краб\", \"жаба\"]"
   ]
  },
  {
   "cell_type": "markdown",
   "metadata": {},
   "source": [
    "9. Дан список слов. Создайте новый список, где будут все слова, где есть как минимум две буквы \"а\", отсортированные по длине"
   ]
  },
  {
   "cell_type": "code",
   "execution_count": null,
   "metadata": {},
   "outputs": [],
   "source": [
    "words = [\n",
    "    \"собака\", \"пират\", \"мама\", \"тарелка\", \"арба\",\n",
    "    \"стол\", \"парта\", \"ананас\", \"сад\"\n",
    "]"
   ]
  }
 ],
 "metadata": {
  "language_info": {
   "name": "python"
  }
 },
 "nbformat": 4,
 "nbformat_minor": 2
}
