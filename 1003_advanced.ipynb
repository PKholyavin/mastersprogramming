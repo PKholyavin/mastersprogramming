{
 "cells": [
  {
   "attachments": {},
   "cell_type": "markdown",
   "metadata": {},
   "source": [
    "Чтение файлов .seg"
   ]
  },
  {
   "cell_type": "markdown",
   "metadata": {},
   "source": [
    "Прочитаем текст из файла .seg, выведем его построчно на экран. Какая информация содержится в каждой строке? Какой формат записи?"
   ]
  },
  {
   "cell_type": "code",
   "execution_count": null,
   "metadata": {},
   "outputs": [],
   "source": [
    "!wget https://pkholyavin.github.io/mastersprogramming/cta0001.seg_B2"
   ]
  },
  {
   "cell_type": "code",
   "execution_count": null,
   "metadata": {},
   "outputs": [],
   "source": [
    "with open(\"cta0001.seg_B2\", \"r\", encoding=\"utf-8-sig\") as f:\n",
    "    lines = f.readlines()\n",
    "\n",
    "for i, line in enumerate(lines):\n",
    "    print(f\"{i}\\t{line.strip()}\")"
   ]
  },
  {
   "attachments": {},
   "cell_type": "markdown",
   "metadata": {},
   "source": [
    "Соответствие уровней:"
   ]
  },
  {
   "cell_type": "code",
   "execution_count": null,
   "metadata": {},
   "outputs": [],
   "source": [
    "from itertools import product\n",
    "letters = \"GBRY\"\n",
    "nums = \"1234\"\n",
    "levels = [ch + num for num, ch in product(nums, letters)]\n",
    "print(levels)\n",
    "level_codes = [2 ** i for i in range(len(levels))]\n",
    "print(level_codes)"
   ]
  },
  {
   "cell_type": "code",
   "execution_count": null,
   "metadata": {},
   "outputs": [],
   "source": [
    "level2code = {i: j for i, j in zip(levels, level_codes)}\n",
    "code2level = {j: i for i, j in zip(levels, level_codes)}"
   ]
  },
  {
   "attachments": {},
   "cell_type": "markdown",
   "metadata": {},
   "source": [
    "Хак для определения кодировки:"
   ]
  },
  {
   "cell_type": "code",
   "execution_count": 11,
   "metadata": {},
   "outputs": [],
   "source": [
    "def detect_encoding(file_path):\n",
    "    encoding = \"utf-8\"\n",
    "    try:\n",
    "        l = open(file_path, 'r', encoding=\"utf-8\").read()\n",
    "        if l.startswith(\"\\ufeff\"):  # т.н. byte order mark\n",
    "            encoding = \"utf-8-sig\"\n",
    "    except UnicodeDecodeError:\n",
    "        try:\n",
    "            open(file_path, 'r', encoding=\"utf-16\").read()\n",
    "            encoding = \"utf-16\"\n",
    "        except UnicodeError:\n",
    "            encoding = \"cp1251\"\n",
    "    return encoding"
   ]
  },
  {
   "cell_type": "markdown",
   "metadata": {},
   "source": [
    "(в общем случае это не работает, например:"
   ]
  },
  {
   "cell_type": "code",
   "execution_count": null,
   "metadata": {},
   "outputs": [],
   "source": [
    "with open(\"lol.txt\", \"w\", encoding=\"cp1251\") as f:\n",
    "    f.write(\"П©\")"
   ]
  },
  {
   "cell_type": "code",
   "execution_count": null,
   "metadata": {},
   "outputs": [],
   "source": [
    "with open(\"lol.txt\", \"r\", encoding=\"utf-8\") as f:\n",
    "    print(f.read())  # letter hori (ϩⲟⲣⲓ), the 28th letter of the Coptic alphabet ???"
   ]
  },
  {
   "cell_type": "markdown",
   "metadata": {},
   "source": [
    ")"
   ]
  },
  {
   "attachments": {},
   "cell_type": "markdown",
   "metadata": {},
   "source": [
    "Задания для выполнения в классе:\n",
    "\n",
    "1. Напишите функцию, которая принимает на вход имя файла .seg и возвращает словарь, который содержит всю информацию из секции ```[PARAMETERS]```. Не забудьте преобразовать данные в целочисленный тип!  \n",
    "Пример словаря:"
   ]
  },
  {
   "cell_type": "code",
   "execution_count": null,
   "metadata": {},
   "outputs": [],
   "source": [
    "{\n",
    "    \"SAMPLING_FREQ\": 22050,\n",
    "    \"BYTE_PER_SAMPLE\": 2,\n",
    "    \"CODE\": 0,\n",
    "    \"N_CHANNEL\": 1,\n",
    "    \"N_LABEL\": 13\n",
    "}"
   ]
  },
  {
   "cell_type": "markdown",
   "metadata": {},
   "source": [
    "2. Расширьте функцию так, чтобы она возвращала ещё и список меток. Сделайте каждую метку кортежем из трёх величин: позиция **в отсчётах**, уровень **в текстовом представлении**, имя метки (строка).  \n",
    "Как перевести из номера байта в номер отсчёта? На что нужно разделить?  \n",
    "Пример списка меток:"
   ]
  },
  {
   "cell_type": "code",
   "execution_count": null,
   "metadata": {},
   "outputs": [],
   "source": [
    "[\n",
    "    (0, \"B2\", \"j\"),\n",
    "    (4246, \"B2\", \"u0\"),\n",
    "    (6354, \"B2\", \"r'\"),\n",
    "    (6854, \"B2\", \"i4 j\"),\n",
    "    (9090, \"B2\", \"t\"),\n",
    "    (12452, \"B2\", \"r'\"),\n",
    "    (12970, \"B2\", \"i0\"),\n",
    "    (15772, \"B2\", \"f\"),\n",
    "    (18403, \"B2\", \"a4\"),\n",
    "    (19302, \"B2\", \"n\"),\n",
    "    (20809, \"B2\", \"a4\"),\n",
    "    (22254, \"B2\", \"f\"),\n",
    "    (27331, \"B2\", \"\")\n",
    "]"
   ]
  },
  {
   "cell_type": "markdown",
   "metadata": {},
   "source": [
    "3. Модифицируйте функцию так, чтобы каждая метка была не кортежем, а словарём:"
   ]
  },
  {
   "cell_type": "code",
   "execution_count": null,
   "metadata": {},
   "outputs": [],
   "source": [
    "{\"position\": 0, \"level\": \"B2\", \"name\": \"j\"}"
   ]
  },
  {
   "cell_type": "markdown",
   "metadata": {},
   "source": [
    "4. Выведите на экран все интервалы из файла .seg: попарно напечатайте первую и вторую метку, вторую и третью, третью и четвёртую, ..., предпоследнюю и последнюю."
   ]
  },
  {
   "cell_type": "markdown",
   "metadata": {},
   "source": [
    "5. Напишите функцию, которая принимает на вход словарь с параметрами и записывает первую половину файла .seg (секцию ```[PARAMETERS]```)"
   ]
  },
  {
   "cell_type": "markdown",
   "metadata": {},
   "source": [
    "6. Расширьте функцию так, чтобы она принимала на вход также и список меток и записывала файл .seg целиком"
   ]
  },
  {
   "cell_type": "markdown",
   "metadata": {},
   "source": [
    "Домашнее задание:\n",
    "1. Доработайте функции для чтения и записи файлов .seg: добавьте документацию, аннотации типов, постарайтесь учесть возможные ошибки (проверка файла на валидность)\n",
    "2. Напишите программу, которая считывает файл .wav и параллельный ему файл .seg, делит файл .wav на интервалы, разграниченные метками из файла .seg, и записывает каждый фрагмент в отдельный файл, названный порядковым номером интервала и именем метки, открывающей соответствующий фрагмент.\n",
    "\n",
    "Т.е. из файла ```cta0001.wav``` должны получиться, например:  \n",
    "```\n",
    "0_j.wav\n",
    "1_u0.wav\n",
    "2_r'.wav  # одинарную кавычку можно заменить на что-нибудь другое, например, нижнее подчёркивание _\n",
    "...\n",
    "```"
   ]
  }
 ],
 "metadata": {
  "kernelspec": {
   "display_name": "Python 3",
   "language": "python",
   "name": "python3"
  },
  "language_info": {
   "codemirror_mode": {
    "name": "ipython",
    "version": 3
   },
   "file_extension": ".py",
   "mimetype": "text/x-python",
   "name": "python",
   "nbconvert_exporter": "python",
   "pygments_lexer": "ipython3",
   "version": "3.9.0"
  },
  "orig_nbformat": 4
 },
 "nbformat": 4,
 "nbformat_minor": 2
}
