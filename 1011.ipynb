{
 "cells": [
  {
   "cell_type": "markdown",
   "metadata": {},
   "source": [
    "Вдогонку к теме о сортировке: аргумент key есть и у функций max() и min()"
   ]
  },
  {
   "cell_type": "code",
   "execution_count": null,
   "metadata": {},
   "outputs": [],
   "source": [
    "a = {\"word1\": 10, \"word2\": 8, \"word3\": 15}\n",
    "print(max(a, key=lambda x: a[x]))\n",
    "print(min(a, key=lambda x: a[x]))"
   ]
  },
  {
   "cell_type": "markdown",
   "metadata": {},
   "source": [
    "Функции:\n",
    "\n",
    "Функция - это именованный кусок кода. Границы функции определяются отступами. Код функции выполняется, когда она вызывается."
   ]
  },
  {
   "cell_type": "code",
   "execution_count": null,
   "metadata": {},
   "outputs": [],
   "source": [
    "def print_hello(): # определение функции\n",
    "    print(\"hello\")"
   ]
  },
  {
   "cell_type": "code",
   "execution_count": null,
   "metadata": {},
   "outputs": [],
   "source": [
    "print_hello() # вызов функции"
   ]
  },
  {
   "cell_type": "markdown",
   "metadata": {},
   "source": [
    "Функция может брать на вход аргументы (пишутся в круглых скобках). Имена аргументов и переменных внутри функции никак не связаны с именами переменных снаружи функции. Они сопоставляются исключительно по порядку."
   ]
  },
  {
   "cell_type": "code",
   "execution_count": null,
   "metadata": {},
   "outputs": [],
   "source": [
    "def print_even_numbers(numbers): # функция с одним аргументом\n",
    "    for i in numbers:\n",
    "        if i % 2 == 0:\n",
    "            print(i)\n",
    "    print(\"end\")"
   ]
  },
  {
   "cell_type": "code",
   "execution_count": null,
   "metadata": {},
   "outputs": [],
   "source": [
    "a = [1, 2, 3, 4, 5]\n",
    "b = [10, 12, 13, 15, 16]\n",
    "print_even_numbers(a)\n",
    "print_even_numbers(b)"
   ]
  },
  {
   "cell_type": "code",
   "execution_count": null,
   "metadata": {},
   "outputs": [],
   "source": [
    "def print_divisible_numbers(numbers, divisor): # функция с двумя аргументами\n",
    "    for i in numbers:\n",
    "        if i % divisor == 0:\n",
    "            print(i)\n",
    "    print(\"end\")"
   ]
  },
  {
   "cell_type": "code",
   "execution_count": null,
   "metadata": {},
   "outputs": [],
   "source": [
    "a = [1, 2, 3, 4, 5, 6, 7, 8, 9, 10]\n",
    "print_divisible_numbers(a, 2)\n",
    "print_divisible_numbers(a)\n"
   ]
  },
  {
   "cell_type": "markdown",
   "metadata": {},
   "source": [
    "Проверка: что выведет код?"
   ]
  },
  {
   "cell_type": "code",
   "execution_count": null,
   "metadata": {},
   "outputs": [],
   "source": [
    "def func(a):\n",
    "    a = 5\n",
    "    b = 6\n",
    "    print(\"inside\", a, b)\n",
    "\n",
    "a = 7\n",
    "b = 4\n",
    "func(a)\n",
    "print(\"outside\", a, b)"
   ]
  },
  {
   "cell_type": "code",
   "execution_count": null,
   "metadata": {},
   "outputs": [],
   "source": [
    "def print_subtract(a, b):\n",
    "    print(a - b)\n",
    "\n",
    "a = 5\n",
    "b = 3\n",
    "print_subtract(b, a)"
   ]
  },
  {
   "cell_type": "markdown",
   "metadata": {},
   "source": [
    "Функция может возвращать значения, которые можно присваивать в переменные:"
   ]
  },
  {
   "cell_type": "code",
   "execution_count": null,
   "metadata": {},
   "outputs": [],
   "source": [
    "def get_even_numbers(numbers):\n",
    "    return [i for i in numbers if i % 2 == 0]"
   ]
  },
  {
   "cell_type": "code",
   "execution_count": null,
   "metadata": {},
   "outputs": [],
   "source": [
    "def get_even_numbers_alt(numbers):\n",
    "    res = [i for i in numbers if i % 2 == 0]\n",
    "    return res"
   ]
  },
  {
   "cell_type": "code",
   "execution_count": null,
   "metadata": {},
   "outputs": [],
   "source": [
    "a = [1, 2, 3, 4, 5]\n",
    "res1 = get_even_numbers(a)\n",
    "res2 = get_even_numbers_alt(a)\n",
    "print(res1)\n",
    "print(res2)"
   ]
  },
  {
   "cell_type": "markdown",
   "metadata": {},
   "source": [
    "Всё, что после return, не выполняется!"
   ]
  },
  {
   "cell_type": "code",
   "execution_count": null,
   "metadata": {},
   "outputs": [],
   "source": [
    "def create_list_n(el, n):\n",
    "    res = [el for i in range(n)]\n",
    "    return res\n",
    "    print(\"finished\")"
   ]
  },
  {
   "cell_type": "code",
   "execution_count": null,
   "metadata": {},
   "outputs": [],
   "source": [
    "a = create_list_n(10, 5)\n",
    "print(a)"
   ]
  },
  {
   "cell_type": "markdown",
   "metadata": {},
   "source": [
    "return может быть несколько:"
   ]
  },
  {
   "cell_type": "code",
   "execution_count": null,
   "metadata": {},
   "outputs": [],
   "source": [
    "def divide_with_zero(dividend, divisor):\n",
    "    if divisor == 0:\n",
    "        return \"can't divide by zero\"\n",
    "    return dividend / divisor"
   ]
  },
  {
   "cell_type": "code",
   "execution_count": null,
   "metadata": {},
   "outputs": [],
   "source": [
    "print(divide_with_zero(2, 1))\n",
    "print(divide_with_zero(1, 0))"
   ]
  },
  {
   "cell_type": "markdown",
   "metadata": {},
   "source": [
    "Важные моменты:\n",
    "1. Если ваша функция что-то возвращает, то все ветки функции должны заканчиваться на return. Не должно быть случаев, в которых функция ничего не возвращает.\n",
    "2. Если функция ничего не возвращает, она возвращает None. Этому эквивалентно написание return без аргумента или написание return None"
   ]
  },
  {
   "cell_type": "markdown",
   "metadata": {},
   "source": [
    "Практическое задание:\n",
    "\n",
    "Написать функцию argmax, которая ищет все ключи в словаре, у которых максимальное значение. Функцию необходимо реализовать в четырёх вариантах:\n",
    "1. Словарь подаётся на вход в качестве аргумента; функция возвращает список ключей.\n",
    "2. Словарь подаётся на вход в качестве аргумента; функция ничего не возвращает, но печатает список ключей на экран.\n",
    "3. Словарь определяется в коде функции, аргументов у функции нет; функция возвращает список ключей.\n",
    "4. Словарь определяется в коде функции, аргументов у функции нет; функция ничего не возвращает, но печатает список ключей на экран."
   ]
  },
  {
   "cell_type": "code",
   "execution_count": null,
   "metadata": {},
   "outputs": [],
   "source": [
    "d1 = {\"a\": 10, \"b\": 5, \"c\": 10} # -> [\"a\", \"c\"]\n",
    "d2 = {\"a\": 10, \"b\": 5, \"c\": 5} # -> [\"a\"]"
   ]
  },
  {
   "cell_type": "code",
   "execution_count": null,
   "metadata": {},
   "outputs": [],
   "source": [
    "def argmax(d):\n",
    "    # some code\n",
    "    return # something"
   ]
  },
  {
   "cell_type": "code",
   "execution_count": null,
   "metadata": {},
   "outputs": [],
   "source": [
    "def argmax(d):\n",
    "    # some code\n",
    "    print(\"something\")"
   ]
  },
  {
   "cell_type": "code",
   "execution_count": null,
   "metadata": {},
   "outputs": [],
   "source": [
    "def argmax():\n",
    "    d = {}\n",
    "    return # something"
   ]
  },
  {
   "cell_type": "code",
   "execution_count": null,
   "metadata": {},
   "outputs": [],
   "source": [
    "def argmax():\n",
    "    d = {}\n",
    "    print(\"something\")"
   ]
  }
 ],
 "metadata": {
  "kernelspec": {
   "display_name": "Python 3.6.1 32-bit ('Anaconda3')",
   "language": "python",
   "name": "python3"
  },
  "language_info": {
   "codemirror_mode": {
    "name": "ipython",
    "version": 3
   },
   "file_extension": ".py",
   "mimetype": "text/x-python",
   "name": "python",
   "nbconvert_exporter": "python",
   "pygments_lexer": "ipython3",
   "version": "3.6.1"
  },
  "orig_nbformat": 4,
  "vscode": {
   "interpreter": {
    "hash": "ad2bdc8ecc057115af97d19610ffacc2b4e99fae6737bb82f5d7fb13d2f2c186"
   }
  }
 },
 "nbformat": 4,
 "nbformat_minor": 2
}
