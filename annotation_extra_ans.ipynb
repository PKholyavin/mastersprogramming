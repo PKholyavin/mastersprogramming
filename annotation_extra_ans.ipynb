{
 "cells": [
  {
   "cell_type": "markdown",
   "metadata": {},
   "source": [
    "**Задание для выполнения в классе:** создайте для файла av1fpt1.TextGrid дополнительный уровень \"ideal x-sampa\", где продублируйте транскрипцию с уровня ideal в системе X-SAMPA."
   ]
  },
  {
   "cell_type": "code",
   "execution_count": null,
   "metadata": {},
   "outputs": [],
   "source": [
    "!pip install tgt praat-parselmouth phonecodes"
   ]
  },
  {
   "cell_type": "code",
   "execution_count": null,
   "metadata": {},
   "outputs": [],
   "source": [
    "!wget https://pkholyavin.github.io/mastersprogramming/av1fpt1.TextGrid"
   ]
  },
  {
   "cell_type": "code",
   "execution_count": 1,
   "metadata": {},
   "outputs": [],
   "source": [
    "import tgt\n",
    "import parselmouth\n",
    "from phonecodes import phonecodes"
   ]
  },
  {
   "cell_type": "code",
   "execution_count": 2,
   "metadata": {},
   "outputs": [],
   "source": [
    "tg = parselmouth.read(\"av1fpt1.TextGrid\")\n",
    "parselmouth.praat.call(tg, \"Convert to Unicode\")\n",
    "tgt_grid_uni = tg.to_tgt()\n",
    "ideal_tier = tgt_grid_uni.get_tier_by_name(\"ideal\")\n",
    "new_tier = tgt.IntervalTier(name=\"ideal x-sampa\")\n",
    "tgt_grid_uni.add_tier(new_tier)\n",
    "for interval in ideal_tier:\n",
    "    # заменим обозначение мягкости на символ МФА, дужку заменим на нижнее подчёркивание\n",
    "    text = phonecodes.ipa2xsampa(interval.text.replace(\"'\", \"ʲ\")).replace(\"\\u0361\", \"_\")\n",
    "    new_tier.add_interval(tgt.Interval(interval.start_time, interval.end_time, text))"
   ]
  },
  {
   "cell_type": "code",
   "execution_count": null,
   "metadata": {},
   "outputs": [],
   "source": [
    "print(\" \".join([i.text for i in tgt_grid_uni.get_tier_by_name(\"ideal x-sampa\")]))"
   ]
  },
  {
   "cell_type": "code",
   "execution_count": null,
   "metadata": {},
   "outputs": [],
   "source": [
    "tgt.io.write_to_file(tgt_grid_uni, \"av1fpt1_xsampa.TextGrid\", \"long\")"
   ]
  },
  {
   "cell_type": "markdown",
   "metadata": {},
   "source": [
    "**Задание для выполнения в классе:** создайте для файла av1fpt1.TextGrid дополнительный уровень \"vc\", где интервалы будут обозначать стечения гласных (V) и согласных (C)."
   ]
  },
  {
   "cell_type": "code",
   "execution_count": null,
   "metadata": {},
   "outputs": [],
   "source": [
    "!pip install panphon==0.5"
   ]
  },
  {
   "cell_type": "code",
   "execution_count": 3,
   "metadata": {},
   "outputs": [],
   "source": [
    "import panphon._panphon as panphon\n",
    "ft = panphon.FeatureTable()"
   ]
  },
  {
   "cell_type": "code",
   "execution_count": 4,
   "metadata": {},
   "outputs": [],
   "source": [
    "def vc_label(feats):\n",
    "    if feats is None:\n",
    "        return \"\"\n",
    "    if (\"+\", \"cons\") in feats or (\"-\", \"syl\") in feats:\n",
    "        return \"c\"\n",
    "    return \"v\""
   ]
  },
  {
   "cell_type": "code",
   "execution_count": 5,
   "metadata": {},
   "outputs": [],
   "source": [
    "vc_tier = tgt.IntervalTier(name=\"vc\")\n",
    "tgt_grid_uni.add_tier(vc_tier)\n",
    "acoustic_tier = tgt_grid_uni.get_tier_by_name(\"acoustic\")\n",
    "for interval in acoustic_tier:\n",
    "    segment = interval.text.replace(\"'\", \"ʲ\")  # обозначим мягкость согласно МФА\n",
    "    segment = segment.replace(\"ε\", \"ɛ\")  # исправим символ на правильный\n",
    "    segment = segment.replace(\"-\", \"\\u0325\")  # обозначим глухость кружочком снизу\n",
    "    label = vc_label(ft.fts(segment))\n",
    "    if not vc_tier.intervals or vc_tier[-1].text != label:\n",
    "        vc_tier.add_interval(tgt.Interval(interval.start_time, interval.end_time, label))\n",
    "    else:\n",
    "        vc_tier[-1].end_time = interval.end_time"
   ]
  },
  {
   "cell_type": "code",
   "execution_count": 55,
   "metadata": {},
   "outputs": [],
   "source": [
    "tgt.io.write_to_file(tgt_grid_uni, \"av1fpt1_new.TextGrid\", \"long\")"
   ]
  },
  {
   "cell_type": "markdown",
   "metadata": {},
   "source": [
    "Того же самого можно добиться с помощью метода `.get_copy_with_same_intervals_merged`, который склеивает соседние интервалы с одинаковыми метками в один. Также, вместо того, чтобы создавать пустой уровень и заполнять его интервалами, можно создать копию старого и изменить в ней названия."
   ]
  },
  {
   "cell_type": "code",
   "execution_count": null,
   "metadata": {},
   "outputs": [],
   "source": [
    "from copy import deepcopy\n",
    "\n",
    "acoustic_tier = tgt_grid_uni.get_tier_by_name(\"acoustic\")\n",
    "vc_tier = deepcopy(acoustic_tier)\n",
    "vc_tier.name = \"vc\"\n",
    "for interval in vc_tier:\n",
    "    interval.text = interval.text.replace(\"'\", \"ʲ\")\n",
    "    interval.text = interval.text.replace(\"ε\", \"ɛ\")\n",
    "    interval.text = interval.text.replace(\"-\", \"\\u0325\")\n",
    "    interval.text = vc_label(ft.fts(interval.text))\n",
    "tgt_grid_uni.add_tier(vc_tier.get_copy_with_same_intervals_merged())"
   ]
  },
  {
   "cell_type": "markdown",
   "metadata": {},
   "source": [
    "**Задание для выполнения в классе**: переберите все интервалы на уровне \"syll\" и создайте файл .TextGrid на его основе, предварительно преобразовав транскрипцию из X-SAMPA в IPA."
   ]
  },
  {
   "cell_type": "code",
   "execution_count": 36,
   "metadata": {},
   "outputs": [],
   "source": [
    "from bs4 import BeautifulSoup\n",
    "with open(\"ab_pol_eng_f_free_c1.xml\") as f:\n",
    "    soup = BeautifulSoup(f.read(), features=\"xml\")"
   ]
  },
  {
   "cell_type": "code",
   "execution_count": 42,
   "metadata": {},
   "outputs": [],
   "source": [
    "data = []\n",
    "\n",
    "layers = soup.find_all(\"layer\")\n",
    "for lr in layers:\n",
    "    metadata = {}\n",
    "    for name in lr.find_all(\"name\"):\n",
    "        val = name.find_next_sibling(\"val\")\n",
    "        metadata[\"\".join(name.contents)] = \"\".join(val.contents)\n",
    "    if metadata.get(\"layer-type\") != \"syll\":\n",
    "        continue\n",
    "    events = lr.find_all(\"event\")\n",
    "    for ev in events:\n",
    "        data.append([float(ev.attrs[\"start\"]), float(ev.attrs[\"end\"]), \"\".join(ev.contents)])"
   ]
  },
  {
   "cell_type": "code",
   "execution_count": 45,
   "metadata": {},
   "outputs": [],
   "source": [
    "grid = tgt.TextGrid()\n",
    "tier = tgt.IntervalTier()\n",
    "grid.add_tier(tier)\n",
    "for el in data:\n",
    "    el[-1] = phonecodes.xsampa2ipa(el[-1])\n",
    "    tier.add_interval(tgt.Interval(*el))"
   ]
  },
  {
   "cell_type": "code",
   "execution_count": 46,
   "metadata": {},
   "outputs": [],
   "source": [
    "tgt.io.write_to_file(grid, \"../leap.TextGrid\", \"long\")"
   ]
  }
 ],
 "metadata": {
  "kernelspec": {
   "display_name": "Python 3",
   "language": "python",
   "name": "python3"
  },
  "language_info": {
   "codemirror_mode": {
    "name": "ipython",
    "version": 3
   },
   "file_extension": ".py",
   "mimetype": "text/x-python",
   "name": "python",
   "nbconvert_exporter": "python",
   "pygments_lexer": "ipython3",
   "version": "3.9.0"
  }
 },
 "nbformat": 4,
 "nbformat_minor": 2
}
