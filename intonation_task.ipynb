{
 "cells": [
  {
   "cell_type": "markdown",
   "metadata": {},
   "source": [
    "**Задание для выполнения в классе:**\n",
    "1. Напишите функцию, которая принимает на вход списки меток звуков, слов и синтагм и возвращает список словарей, отражающих иерархическую структуру высказывания.\n",
    "\n",
    "    Каждый словарь в списке &ndash; это синтагма. У него должны быть ключи:  \n",
    "    * `\"model\"`: интонационная модель;  \n",
    "    * `\"start\"`: время начала (в отсчётах);  \n",
    "    * `\"end\"`: время конца (в отсчётах);  \n",
    "    * `\"nucleus\"`: индекс слова, содержащего интонационный центр;  \n",
    "    * `\"words\"`: список слов.\n",
    "\n",
    "    Каждое слово &ndash; это тоже словарь. У него должны быть ключи:  \n",
    "    * `\"word\"`: слово в орфографической записи;  \n",
    "    * `\"start\"`: время начала (в отсчётах);  \n",
    "    * `\"end\"`: время конца (в отсчётах);  \n",
    "    * `\"is_stressed\"`: является ли слово ударным (`True` или `False`);  \n",
    "    * `\"is_nucleus\"`: является ли слово интонационным центром (`True` или `False`);  \n",
    "    * `\"is_prominent\"`: несёт ли слово дополнительную интонационную выделенность (`True` или `False`);  \n",
    "    * `\"stressed_vowel\"`: индекс ударного гласного;  \n",
    "    * `\"sounds\"`: список звуков.\n",
    "\n",
    "    Каждый звук &ndash; это тоже словарь. У него должны быть ключи:  \n",
    "    * `\"sound\"`: обозначение аллофона;  \n",
    "    * `\"start\"`: время начала (в отсчётах);  \n",
    "    * `\"end\"`: время конца (в отсчётах).\n",
    "\n",
    "    Условные обозначения:  \n",
    "    * метки звуков находятся на уровне B1;\n",
    "    * метки слов находятся на уровне Y1;\n",
    "    * метки синтгам находятся на уровне R2;\n",
    "    * на уровне синтагм метки пауз имеют названия вида pX, где X от 1 до 6;\n",
    "    * по умолчанию интонационный центр находится на последнем слове синтагмы;\n",
    "    * если это не так, то перед центром стоит символ [-];\n",
    "    * просодически выделеные слова отмечены знаком [+];\n",
    "    * ударные гласные заканчиваются на символ 0;\n"
   ]
  },
  {
   "cell_type": "code",
   "execution_count": null,
   "metadata": {},
   "outputs": [],
   "source": [
    "!wget https://pkholyavin.github.io/mastersprogramming/cta0001-0010.zip"
   ]
  },
  {
   "cell_type": "code",
   "execution_count": null,
   "metadata": {},
   "outputs": [],
   "source": [
    "!unzip -q cta0001-0010.zip"
   ]
  },
  {
   "cell_type": "code",
   "execution_count": null,
   "metadata": {},
   "outputs": [],
   "source": [
    "from itertools import product\n",
    "letters = \"GBRY\"\n",
    "nums = \"1234\"\n",
    "levels = [ch + num for num, ch in product(nums, letters)]\n",
    "level_codes = [2 ** i for i in range(len(levels))]\n",
    "code_to_level = {i: j for i, j in zip(level_codes, levels)}\n",
    "level_to_code = {j: i for i, j in zip(level_codes, levels)}\n",
    "\n",
    "\n",
    "def detect_encoding(file_path):\n",
    "    encoding = \"utf-8\"\n",
    "    try:\n",
    "        l = open(file_path, 'r', encoding=\"utf-8\").read()\n",
    "        if l.startswith(\"\\ufeff\"):  # т.н. byte order mark\n",
    "            encoding = \"utf-8-sig\"\n",
    "    except UnicodeDecodeError:\n",
    "        try:\n",
    "            open(file_path, 'r', encoding=\"utf-16\").read()\n",
    "            encoding = \"utf-16\"\n",
    "        except UnicodeError:\n",
    "            encoding = \"cp1251\"\n",
    "    return encoding\n",
    "\n",
    "\n",
    "def read_seg(filename: str, encoding: str = \"utf-8-sig\") -> tuple[dict, list[dict]]:\n",
    "    with open(filename, encoding=encoding) as f:\n",
    "        lines = [line.strip() for line in f.readlines()]\n",
    "\n",
    "    # найдём границы секций в списке строк:\n",
    "    header_start = lines.index(\"[PARAMETERS]\") + 1\n",
    "    data_start = lines.index(\"[LABELS]\") + 1\n",
    "\n",
    "    # прочитаем параметры\n",
    "    params = {}\n",
    "    for line in lines[header_start:data_start - 1]:\n",
    "        key, value = line.split(\"=\")\n",
    "        params[key] = int(value)\n",
    "\n",
    "    # прочитаем метки\n",
    "    labels = []\n",
    "    for line in lines[data_start:]:\n",
    "        # если в строке нет запятых, значит, это не метка и метки закончились\n",
    "        if line.count(\",\") < 2:\n",
    "            break\n",
    "        pos, level, name = line.split(\",\", maxsplit=2)\n",
    "        label = {\n",
    "            \"position\": int(pos) // params[\"BYTE_PER_SAMPLE\"] // params[\"N_CHANNEL\"],\n",
    "            \"level\": code_to_level[int(level)],\n",
    "            \"name\": name\n",
    "        }\n",
    "        labels.append(label)\n",
    "    return params, labels"
   ]
  },
  {
   "cell_type": "markdown",
   "metadata": {},
   "source": [
    "2. Напишите функцию, которая принимает на вход имя звукового файла и сопутствующих меток и изображает график мелодической деклинации, т.е. максимумы ЧОТ в ударном гласном каждого слова, для каждой синтагмы. ЧОТ вычислите при помощи `parselmouth`."
   ]
  },
  {
   "cell_type": "code",
   "execution_count": null,
   "metadata": {},
   "outputs": [],
   "source": [
    "!pip install praat-parselmouth"
   ]
  },
  {
   "cell_type": "code",
   "execution_count": null,
   "metadata": {},
   "outputs": [],
   "source": []
  },
  {
   "cell_type": "markdown",
   "metadata": {},
   "source": [
    "3. Напишите программу, которая обрабатывает все файлы в архиве и рисует N графиков (по количеству разных интонационных моделей, встретившихся в материале), на каждом из которых изображены все интонационные кривые внутри ядерного гласного из всех синтагм, оформленных этой моделью."
   ]
  },
  {
   "cell_type": "code",
   "execution_count": null,
   "metadata": {},
   "outputs": [],
   "source": []
  },
  {
   "cell_type": "markdown",
   "metadata": {},
   "source": [
    "**Домашнее задание:** проделайте всё то же самое, но используйте метки G1 как источник информации о ЧОТ. Сравните полученные данные."
   ]
  }
 ],
 "metadata": {
  "language_info": {
   "name": "python"
  }
 },
 "nbformat": 4,
 "nbformat_minor": 2
}
