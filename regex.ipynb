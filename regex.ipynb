{
 "cells": [
  {
   "cell_type": "markdown",
   "metadata": {},
   "source": [
    "Регулярные выражения &ndash; это формальный язык для работы со строками. Он позволяет находить подстроки по специально заданным шаблонам и проводить с ними различные манипуляции. В Python для работы с регулярными выражениями есть специальный модуль `re`.\n",
    "\n",
    "https://docs.python.org/3/library/re.html\n",
    "\n",
    "Регулярные выражения могуть быть довольно запутанными. Чтобы проверить, правильно ли вы составили регулярку, можно воспользоваться сайтом https://regex101.com/ (выберите Python flavor).\n",
    "\n",
    "Само по себе регулярное выражение &ndash; это строка, задающая некоторый шаблон. Модуль `re` содержит несколько функций, которые позволяют проводить операции над строками с помощью этих шаблонов. Например, функция `findall` позволяет найти все подстроки, соответствующие шаблону. Она принимает на вход два аргумента: регулярное выражение и обрабатываемую строку, а возвращает список подстрок.\n",
    "\n",
    "Регулярное выражение может задавать подстроку в точности:"
   ]
  },
  {
   "cell_type": "code",
   "execution_count": null,
   "metadata": {},
   "outputs": [],
   "source": [
    "import re\n",
    "text = \"aaabdbaacaabcd\"\n",
    "substring = \"aa\"\n",
    "\n",
    "re.findall(substring, text)"
   ]
  },
  {
   "cell_type": "markdown",
   "metadata": {},
   "source": [
    "...а может быть более общим. Для этого есть специальный символ-джокер `.` и различные управляющие символы:\n",
    "\n",
    "`+` &ndash; один или больше предшествующих символов;  "
   ]
  },
  {
   "cell_type": "code",
   "execution_count": null,
   "metadata": {},
   "outputs": [],
   "source": [
    "re.findall(\"a.\", text)"
   ]
  },
  {
   "cell_type": "markdown",
   "metadata": {},
   "source": [
    "`*` &ndash; ноль или больше предшествующих символов;  "
   ]
  },
  {
   "cell_type": "code",
   "execution_count": null,
   "metadata": {},
   "outputs": [],
   "source": [
    "re.findall(\"a*b\", text)"
   ]
  },
  {
   "cell_type": "markdown",
   "metadata": {},
   "source": [
    "`?` &ndash; ноль или один предшествующий символ;"
   ]
  },
  {
   "cell_type": "code",
   "execution_count": null,
   "metadata": {},
   "outputs": [],
   "source": [
    "re.findall(\"a?b\", text)"
   ]
  },
  {
   "cell_type": "markdown",
   "metadata": {},
   "source": [
    "`[]` &ndash; любой из перечисленных символов;  "
   ]
  },
  {
   "cell_type": "code",
   "execution_count": null,
   "metadata": {},
   "outputs": [],
   "source": [
    "re.findall(\"[ab]+\", text)"
   ]
  },
  {
   "cell_type": "markdown",
   "metadata": {},
   "source": [
    "`[^]` &ndash; любой не из перечисленных символов;  "
   ]
  },
  {
   "cell_type": "code",
   "execution_count": null,
   "metadata": {},
   "outputs": [],
   "source": [
    "re.findall(\"[^ab]+\", text)"
   ]
  },
  {
   "cell_type": "markdown",
   "metadata": {},
   "source": [
    "`[-]` &ndash; любой из последовательности символов: каждый символ имеет порядковый номер в Unicode, они сортируются по этому номеру."
   ]
  },
  {
   "cell_type": "code",
   "execution_count": null,
   "metadata": {},
   "outputs": [],
   "source": [
    "re.findall(\"[a-z]\", text)"
   ]
  },
  {
   "cell_type": "markdown",
   "metadata": {},
   "source": [
    "Если необходимо найти в тексте сами эти символы, то их нужно экранировать с помощью обратного слеша `\\`."
   ]
  },
  {
   "cell_type": "code",
   "execution_count": null,
   "metadata": {},
   "outputs": [],
   "source": [
    "text_2 = \"abaca. abccd. cdabac. a.\"\n",
    "re.findall(r\"[a-z]\\.\", text_2)"
   ]
  },
  {
   "cell_type": "markdown",
   "metadata": {},
   "source": [
    "Поскольку Python также использует обратный слеш для экранирования, рекомендуется оформлять регулярные выражения как r-строки, чтобы одно не путалось с другим."
   ]
  },
  {
   "cell_type": "markdown",
   "metadata": {},
   "source": [
    "Стоит заметить, что с регулярными выражениями можно работать двумя путями: они могут быть строками или скомпилированными регулярными выражениями, для которых функции `re` доступны в виде методов:"
   ]
  },
  {
   "cell_type": "code",
   "execution_count": null,
   "metadata": {},
   "outputs": [],
   "source": [
    "text_2 = \"abaca. abccd. cdabac. a.\"\n",
    "regex = re.compile(r\"[a-z]\\.\")\n",
    "regex.findall(text_2)"
   ]
  },
  {
   "cell_type": "markdown",
   "metadata": {},
   "source": [
    "**Задание для выполнения в классе:** напишите регулярное выражение, которое найдёт в следующем тексте все двузначные числа от `00` до `59`."
   ]
  },
  {
   "cell_type": "code",
   "execution_count": 26,
   "metadata": {},
   "outputs": [],
   "source": [
    "text = \"43 89 72 01 34 42 80 12 99 45 34 29 58\"\n"
   ]
  },
  {
   "cell_type": "markdown",
   "metadata": {},
   "source": [
    "Для некоторых классов символов есть специальные обозначения:\n",
    "\n",
    "`\\w` &ndash; словесные символы (цифры, буквы и нижнее подчёркивание);  \n",
    "`\\d` &ndash; цифры;  \n",
    "`\\s` &ndash; пробельные символы (пробел, перевод строки, табуляция, etc);  \n",
    "`\\W`, `\\D`, `\\S` &ndash; обратны вышеперечисленным.  \n",
    "`\\b` &ndash; соответствует границе слова."
   ]
  },
  {
   "cell_type": "code",
   "execution_count": null,
   "metadata": {},
   "outputs": [],
   "source": [
    "re.findall(r\"\\w+\", text_2)"
   ]
  },
  {
   "cell_type": "markdown",
   "metadata": {},
   "source": [
    "**Задание для выполнения в классе:** напишите регулярное выражение, которое найдёт в английском тексте все наречия с суффиксом -ly."
   ]
  },
  {
   "cell_type": "code",
   "execution_count": 10,
   "metadata": {},
   "outputs": [],
   "source": [
    "text = \"He was carefully disguised but captured quickly by police.\"\n"
   ]
  },
  {
   "cell_type": "markdown",
   "metadata": {},
   "source": [
    "Другие символы регулярных выражений:  \n",
    "`{}` &ndash; позволяют задать количество повторений предыдущего символа."
   ]
  },
  {
   "cell_type": "code",
   "execution_count": null,
   "metadata": {},
   "outputs": [],
   "source": [
    "text = \"aabbaaabbbaaaabbbaaabb\"\n",
    "re.findall(\"a{3}\", text)"
   ]
  },
  {
   "cell_type": "code",
   "execution_count": null,
   "metadata": {},
   "outputs": [],
   "source": [
    "re.findall(\"a{1,3}\", text) # диапазон"
   ]
  },
  {
   "cell_type": "code",
   "execution_count": null,
   "metadata": {},
   "outputs": [],
   "source": [
    "re.findall(\"a{,3}\", text) # от нуля"
   ]
  },
  {
   "cell_type": "code",
   "execution_count": null,
   "metadata": {},
   "outputs": [],
   "source": [
    "re.findall(\"a{2,}\", text) # до бесконечности"
   ]
  },
  {
   "cell_type": "markdown",
   "metadata": {},
   "source": [
    "`|` &ndash; оператор \"или\"."
   ]
  },
  {
   "cell_type": "code",
   "execution_count": null,
   "metadata": {},
   "outputs": [],
   "source": [
    "text = \"abc123abc32abced331\"\n",
    "re.findall(\"\\d{3}|abc\", text)"
   ]
  },
  {
   "cell_type": "markdown",
   "metadata": {},
   "source": [
    "`^` &ndash; начало строки, `$` &ndash; конец строки."
   ]
  },
  {
   "cell_type": "code",
   "execution_count": null,
   "metadata": {},
   "outputs": [],
   "source": [
    "re.findall(\"^abc\", text)"
   ]
  },
  {
   "cell_type": "code",
   "execution_count": null,
   "metadata": {},
   "outputs": [],
   "source": [
    "re.findall(\".$\", text)"
   ]
  },
  {
   "cell_type": "markdown",
   "metadata": {},
   "source": [
    "В функцию можно передать специальный флаг `re.MULTILINE`, чтобы начало и конец строки также определялись по символу перевода строки."
   ]
  },
  {
   "cell_type": "code",
   "execution_count": null,
   "metadata": {},
   "outputs": [],
   "source": [
    "text3 = \"abc\\n123\\nabc\\n32\\nabced\\n331\"\n",
    "re.findall(\"^.\", text3, re.MULTILINE)"
   ]
  },
  {
   "cell_type": "markdown",
   "metadata": {},
   "source": [
    "Операторы `*`, `.` и `?` &ndash; жадные. Они захватывают столько текста, сколько могут."
   ]
  },
  {
   "cell_type": "code",
   "execution_count": null,
   "metadata": {},
   "outputs": [],
   "source": [
    "text = \"<p>some text</p>\"\n",
    "re.findall(\"<.+>\", text)"
   ]
  },
  {
   "cell_type": "markdown",
   "metadata": {},
   "source": [
    "Чтобы изменить их поведение, поставим дополнительный `?`."
   ]
  },
  {
   "cell_type": "code",
   "execution_count": null,
   "metadata": {},
   "outputs": [],
   "source": [
    "text = \"<p>some text</p>\"\n",
    "re.findall(\"<.+?>\", text)"
   ]
  },
  {
   "cell_type": "markdown",
   "metadata": {},
   "source": [
    "Функция `findall` возвращает список строк. Другие функции из `re` возвращают т.н. Match object &ndash; например, функция `match`, которая определяет, соответствует ли начало строки шаблону. Если соответствия не обнаружилось, такие функции возвращают `None`."
   ]
  },
  {
   "cell_type": "code",
   "execution_count": null,
   "metadata": {},
   "outputs": [],
   "source": [
    "m = re.match(r\"\\d\\d\", \"12abcdef\")\n",
    "print(m.start(), m.end()) # начало и конец\n",
    "print(m.span()) # начало и конец в одном кортеже\n",
    "print(m.group()) # совпавший фрагмент строки\n",
    "print(m.string) # исходная строка\n",
    "print(m.re) # исходное регулярное выражение"
   ]
  },
  {
   "cell_type": "markdown",
   "metadata": {},
   "source": [
    "Функция `search` сканирует строку, пока не найдётся подходящая подстрока."
   ]
  },
  {
   "cell_type": "code",
   "execution_count": null,
   "metadata": {},
   "outputs": [],
   "source": [
    "re.search(r\"\\d\", \"abc1bcd32\") # первый встретившийся"
   ]
  },
  {
   "cell_type": "markdown",
   "metadata": {},
   "source": [
    "Функция `fullmatch` позволяет понять, соответствует ли строка шаблону полностью."
   ]
  },
  {
   "cell_type": "code",
   "execution_count": null,
   "metadata": {},
   "outputs": [],
   "source": [
    "re.fullmatch(r\"\\w+\", \"abc1bcd32\")"
   ]
  },
  {
   "cell_type": "markdown",
   "metadata": {},
   "source": [
    "Функция `finditer` позволяет итеративно находить все подходящие подстроки."
   ]
  },
  {
   "cell_type": "code",
   "execution_count": null,
   "metadata": {},
   "outputs": [],
   "source": [
    "for m in re.finditer(r\"\\d\", \"a1bcd34ef1\"):\n",
    "    print(m)"
   ]
  },
  {
   "cell_type": "markdown",
   "metadata": {},
   "source": [
    "Функция `sub` позволяет заменить подстроку какой-либо другой строкой."
   ]
  },
  {
   "cell_type": "code",
   "execution_count": null,
   "metadata": {},
   "outputs": [],
   "source": [
    "text = \"abc   abd\\tabc  a bc      a\"\n",
    "res = re.sub(r\"\\s+\", \" \", text)\n",
    "print(res)"
   ]
  },
  {
   "cell_type": "markdown",
   "metadata": {},
   "source": [
    "Функция `split` позволяет разбить строку, используя подходящие подстроки как разграничители."
   ]
  },
  {
   "cell_type": "code",
   "execution_count": null,
   "metadata": {},
   "outputs": [],
   "source": [
    "text = \"ab-abb-cbbd abb-bc_bb abbc bbc\"\n",
    "re.split(\"[ _-]\", text)"
   ]
  },
  {
   "cell_type": "markdown",
   "metadata": {},
   "source": [
    "**Задание для выполнения в классе:** напишите регулярное выражение, которое поможет отобрать из данного списка все слова с ударением на втором слоге (ударение обозначено цифрой `1` после буквы, обозначающей ударный гласный звук)."
   ]
  },
  {
   "cell_type": "code",
   "execution_count": null,
   "metadata": {},
   "outputs": [],
   "source": [
    "words = [\n",
    "    \"сто1лик\",\n",
    "    \"уда1чно\",\n",
    "    \"завуали1ровав\",\n",
    "    \"изверже1ние\",\n",
    "    \"взима1в\",\n",
    "    \"репи1тер\",\n",
    "    \"нормализова1в\",\n",
    "    \"бульдо1г\"\n",
    "]"
   ]
  },
  {
   "cell_type": "code",
   "execution_count": null,
   "metadata": {},
   "outputs": [],
   "source": []
  },
  {
   "cell_type": "markdown",
   "metadata": {},
   "source": [
    "Круглыми скобками можно группировать части регулярного выражения. Каждая часть в круглых скобках соответствует группе в получившемся Match object. Эти группы можно получать по индексу (нулевой индекс соответствует всей найденной подстроке):"
   ]
  },
  {
   "cell_type": "code",
   "execution_count": null,
   "metadata": {},
   "outputs": [],
   "source": [
    "text = \"123abc4bac3288d\"\n",
    "\n",
    "for m in re.finditer(r\"(\\d)([a-z])\", text):\n",
    "    print(m[0], m[1], m[2])"
   ]
  },
  {
   "cell_type": "markdown",
   "metadata": {},
   "source": [
    "Если вы не хотите, чтобы круглые скобки создавали группу, добавьте в начало `?:`."
   ]
  },
  {
   "cell_type": "code",
   "execution_count": null,
   "metadata": {},
   "outputs": [],
   "source": [
    "text = \"123abc4bac3288d\"\n",
    "\n",
    "for m in re.finditer(r\"(?:\\d)([a-z])\", text):\n",
    "    print(m[0], m[1])"
   ]
  },
  {
   "cell_type": "markdown",
   "metadata": {},
   "source": [
    "К группам можно получать доступ, например, при замене:"
   ]
  },
  {
   "cell_type": "code",
   "execution_count": null,
   "metadata": {},
   "outputs": [],
   "source": [
    "text = \"123abc4bac3288d\"\n",
    "\n",
    "print(re.sub(r\"(\\d)([a-z])\", r\"\\1!\\2\", text))"
   ]
  },
  {
   "cell_type": "markdown",
   "metadata": {},
   "source": [
    "Или в том же самом выражении:"
   ]
  },
  {
   "cell_type": "code",
   "execution_count": 51,
   "metadata": {},
   "outputs": [
    {
     "data": {
      "text/plain": [
       "[('a3a', 'a'), ('a123a', 'a'), ('b43b', 'b'), ('b3b', 'b')]"
      ]
     },
     "execution_count": 51,
     "metadata": {},
     "output_type": "execute_result"
    }
   ],
   "source": [
    "text = \"2a3a123a123a1343b43b43a13b3b\"\n",
    "re.findall(r\"(([a-z])\\d+\\2)\", text)"
   ]
  },
  {
   "cell_type": "markdown",
   "metadata": {},
   "source": [
    "Обратите внимание, что теперь `findall` возвращает список не строк, а кортежей, каждый элемент которых соответствует группе. Если группа будет одна, то это опять будет список строк, но строки будут соответствовать не всему выражению, а группе."
   ]
  },
  {
   "cell_type": "markdown",
   "metadata": {},
   "source": [
    "Группам можно присваивать имена:"
   ]
  },
  {
   "cell_type": "code",
   "execution_count": null,
   "metadata": {},
   "outputs": [],
   "source": [
    "text = \"123abc4bac3288d\"\n",
    "\n",
    "for m in re.finditer(\"(?P<name>\\d)([a-z])\", text):\n",
    "    print(m['name'])"
   ]
  },
  {
   "cell_type": "markdown",
   "metadata": {},
   "source": [
    "**Задание для выполнения в классе:** напишите программу, которая с помощью регулярных выражений ставит вокруг каждой гласной буквы квадратные скобки:\n"
   ]
  },
  {
   "cell_type": "code",
   "execution_count": 47,
   "metadata": {},
   "outputs": [],
   "source": [
    "text = \"был тихий серый вечер. дул ветер, слабый и тёплый. небо было покрыто тучами\""
   ]
  },
  {
   "cell_type": "markdown",
   "metadata": {},
   "source": [
    "**Задание для выполнения в классе:** напишите программу, которая с помощью регулярных выражений генерирует таблицу успеваемости по тексту:\n"
   ]
  },
  {
   "cell_type": "code",
   "execution_count": 38,
   "metadata": {},
   "outputs": [],
   "source": [
    "text = 'Оценка ученика по предмету \"математика\" - 5. По предмету \"биология\" - 4. По предмету \"история\" он получил 4. Оценка по предмету \"физкультура\" - 3. Балл по предмету \"русский язык\" - 5.'"
   ]
  },
  {
   "cell_type": "markdown",
   "metadata": {},
   "source": [
    "**Домашнее задание**:  \n",
    "1. Напишите регулярное выражение, описывающее стандартный автомобильный номер (буква &ndash; три цифры &ndash; две буквы &ndash; две или три цифры региона). Учтите, что (а) буквы могут быть только те, которые есть и в латинице, и в кириллице; (б) если в регионе три цифры, то первая &ndash; либо 1, либо 7.\n",
    "2. В созданном вами произносительном словаре найдите слова, в которых встречается три или больше согласных звуков подряд. Составьте частотный рейтинг консонантных кластеров."
   ]
  },
  {
   "cell_type": "markdown",
   "metadata": {},
   "source": [
    "Есть такая игра &ndash; Regex Golf (https://alf.nu/RegexGolf). Суть &ndash; создать как можно более короткое регулярное выражение, которое соответствует (`re.search`) всем словам из одного списка и ни одному слову из другого списка."
   ]
  }
 ],
 "metadata": {
  "kernelspec": {
   "display_name": "Python 3",
   "language": "python",
   "name": "python3"
  },
  "language_info": {
   "codemirror_mode": {
    "name": "ipython",
    "version": 3
   },
   "file_extension": ".py",
   "mimetype": "text/x-python",
   "name": "python",
   "nbconvert_exporter": "python",
   "pygments_lexer": "ipython3",
   "version": "3.9.0"
  }
 },
 "nbformat": 4,
 "nbformat_minor": 2
}
