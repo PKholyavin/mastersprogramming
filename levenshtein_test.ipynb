{
 "cells": [
  {
   "cell_type": "code",
   "execution_count": 16,
   "metadata": {},
   "outputs": [],
   "source": [
    "def levenshtein(a, b):\n",
    "    v0 = [i for i in range(len(b) + 1)]\n",
    "    v1 = [0 for _ in range(len(b) + 1)]\n",
    "\n",
    "    for i in range(0, len(a)):\n",
    "        v1[0] = i + 1\n",
    "\n",
    "        for j in range(0, len(b)):\n",
    "            deletion_cost = v0[j + 1] + 1\n",
    "            insertion_cost = v1[j] + 1\n",
    "            substitution_cost = v0[j] + (not a[i] == b[j]) * 0.5\n",
    "\n",
    "            v1[j + 1] = min(deletion_cost, insertion_cost, substitution_cost)\n",
    "\n",
    "        print(v0)\n",
    "        v0 = v1[:]\n",
    "    print(v1)\n",
    "    return v1[-1]"
   ]
  },
  {
   "cell_type": "code",
   "execution_count": 17,
   "metadata": {},
   "outputs": [
    {
     "name": "stdout",
     "output_type": "stream",
     "text": [
      "[0, 1, 2, 3, 4, 5]\n",
      "[1, 0.0, 1.0, 2.0, 3.0, 4.0]\n",
      "[2, 1.0, 0.0, 1.0, 2.0, 3.0]\n",
      "[3, 2.0, 1.0, 0.5, 1.5, 2.5]\n",
      "[4, 3.0, 2.0, 1.5, 0.5, 1.5]\n"
     ]
    },
    {
     "data": {
      "text/plain": [
       "1.5"
      ]
     },
     "execution_count": 17,
     "metadata": {},
     "output_type": "execute_result"
    }
   ],
   "source": [
    "levenshtein(\"стол\", \"стала\")"
   ]
  },
  {
   "cell_type": "code",
   "execution_count": 21,
   "metadata": {},
   "outputs": [],
   "source": [
    "def damerau_levenshtein(a, b):\n",
    "    D = [\n",
    "        [i for i in range(len(b) + 1)]\n",
    "    ]\n",
    "    print(D[0])\n",
    "    for i in range(0, len(a)):\n",
    "        D.append([0 for _ in range(len(b) + 1)])\n",
    "        D[i + 1][0] = i + 1\n",
    "\n",
    "        for j in range(0, len(b)):\n",
    "            deletion_cost = D[i][j + 1] + 1\n",
    "            insertion_cost = D[i + 1][j] + 1\n",
    "            substitution_cost = D[i][j] + (not a[i] == b[j])\n",
    "            if i > 1 and j > 1 and a[i] == b[j - 1] and a[i - 1] == b[j]:\n",
    "                transposition_cost = D[i - 1][j - 1] + (not a[i] == b[j])\n",
    "            else:\n",
    "                transposition_cost = float(\"inf\")\n",
    "\n",
    "            D[i + 1][j + 1] = min(deletion_cost, insertion_cost, substitution_cost, transposition_cost)\n",
    "        print(D[i + 1])\n",
    "    return D[-1][-1]"
   ]
  },
  {
   "cell_type": "code",
   "execution_count": 22,
   "metadata": {},
   "outputs": [
    {
     "name": "stdout",
     "output_type": "stream",
     "text": [
      "[0, 1, 2, 3, 4]\n",
      "[1, 0, 1, 2, 3]\n",
      "[2, 1, 1, 1, 2]\n",
      "[3, 2, 1, 1, 2]\n",
      "[4, 3, 2, 2, 1]\n"
     ]
    },
    {
     "data": {
      "text/plain": [
       "1"
      ]
     },
     "execution_count": 22,
     "metadata": {},
     "output_type": "execute_result"
    }
   ],
   "source": [
    "damerau_levenshtein(\"барт\", \"брат\")"
   ]
  }
 ],
 "metadata": {
  "kernelspec": {
   "display_name": "Python 3",
   "language": "python",
   "name": "python3"
  },
  "language_info": {
   "codemirror_mode": {
    "name": "ipython",
    "version": 3
   },
   "file_extension": ".py",
   "mimetype": "text/x-python",
   "name": "python",
   "nbconvert_exporter": "python",
   "pygments_lexer": "ipython3",
   "version": "3.9.0"
  }
 },
 "nbformat": 4,
 "nbformat_minor": 2
}
