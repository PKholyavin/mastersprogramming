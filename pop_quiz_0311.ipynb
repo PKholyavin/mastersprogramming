{
 "cells": [
  {
   "cell_type": "markdown",
   "metadata": {},
   "source": [
    "Задача: записать в текстовый файл \"out.txt\" ттроку \"lol\"\n",
    "\n",
    "Какой код это выполнит? (возможно более одного варианта ответа)"
   ]
  },
  {
   "cell_type": "code",
   "execution_count": null,
   "metadata": {},
   "outputs": [],
   "source": [
    "with open(\"out.txt\", \"a\"):\n",
    "    f.write(\"lol\")"
   ]
  },
  {
   "cell_type": "code",
   "execution_count": null,
   "metadata": {},
   "outputs": [],
   "source": [
    "with open(\"out.txt\", \"w\") as f:\n",
    "    f.write(\"lol\")"
   ]
  },
  {
   "cell_type": "code",
   "execution_count": null,
   "metadata": {},
   "outputs": [],
   "source": [
    "f = open(\"out.txt\", \"r\")\n",
    "f.write(\"lol\")\n",
    "f.close()"
   ]
  },
  {
   "cell_type": "code",
   "execution_count": null,
   "metadata": {},
   "outputs": [],
   "source": [
    "f = open(\"out.txt\", \"w\")\n",
    "f.write(\"lol\")\n",
    "f.close()"
   ]
  },
  {
   "cell_type": "markdown",
   "metadata": {},
   "source": [
    "Задача: дан список строк, каждая из которых содержит число. Необходимо сгенерировать список, содержащий квадраты чисел в строковом представлении.\n",
    "\n",
    "Какой код это выполнит? (возможно более одного варианта ответа)"
   ]
  },
  {
   "cell_type": "code",
   "execution_count": null,
   "metadata": {},
   "outputs": [],
   "source": [
    "a = [\"4\", \"4.5\", \"5\", \"6.5\", \"7\"]\n",
    "b = [str(float(a ** 2))]"
   ]
  },
  {
   "cell_type": "code",
   "execution_count": null,
   "metadata": {},
   "outputs": [],
   "source": [
    "a = [\"4\", \"4.5\", \"5\", \"6.5\", \"7\"]\n",
    "b = [int(i) ** 2 for i in a]"
   ]
  },
  {
   "cell_type": "code",
   "execution_count": null,
   "metadata": {},
   "outputs": [],
   "source": [
    "a = [\"4\", \"4.5\", \"5\", \"6.5\", \"7\"]\n",
    "b = [str(int(a) ** 2) for i in a]"
   ]
  },
  {
   "cell_type": "code",
   "execution_count": null,
   "metadata": {},
   "outputs": [],
   "source": [
    "a = [\"4\", \"4.5\", \"5\", \"6.5\", \"7\"]\n",
    "b = [str(float(i) ** 2) for i in a]"
   ]
  },
  {
   "cell_type": "code",
   "execution_count": null,
   "metadata": {},
   "outputs": [],
   "source": [
    "a = [\"4\", \"4.5\", \"5\", \"6.5\", \"7\"]\n",
    "b = [float(i) ** 2 for i in a]"
   ]
  },
  {
   "cell_type": "code",
   "execution_count": null,
   "metadata": {},
   "outputs": [],
   "source": [
    "a = [\"4\", \"4.5\", \"5\", \"6.5\", \"7\"]\n",
    "b = [str(int(i)) ** 2 for i in a]"
   ]
  },
  {
   "cell_type": "code",
   "execution_count": null,
   "metadata": {},
   "outputs": [],
   "source": [
    "a = [\"4\", \"4.5\", \"5\", \"6.5\", \"7\"]\n",
    "b = [str(float(i) * float(i)) for i in a]"
   ]
  }
 ],
 "metadata": {
  "kernelspec": {
   "display_name": "Python 3.9.0 64-bit",
   "language": "python",
   "name": "python3"
  },
  "language_info": {
   "codemirror_mode": {
    "name": "ipython",
    "version": 3
   },
   "file_extension": ".py",
   "mimetype": "text/x-python",
   "name": "python",
   "nbconvert_exporter": "python",
   "pygments_lexer": "ipython3",
   "version": "3.9.0"
  },
  "orig_nbformat": 4,
  "vscode": {
   "interpreter": {
    "hash": "364dcd152da2692276e72902df2858159ccc300c15062838033fe03303e9b26c"
   }
  }
 },
 "nbformat": 4,
 "nbformat_minor": 2
}
