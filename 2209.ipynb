{
 "cells": [
  {
   "cell_type": "markdown",
   "metadata": {},
   "source": [
    "По следам домашнего задания"
   ]
  },
  {
   "cell_type": "markdown",
   "metadata": {},
   "source": [
    "1. Self-documenting code"
   ]
  },
  {
   "cell_type": "code",
   "execution_count": null,
   "metadata": {},
   "outputs": [],
   "source": [
    "week1 = [\"Sun\", \"Mon\", \"Tue\", \"wed\", \"Thu\", \"Fri\", \"Sat\"] # list of week day names\n",
    "week_day_names = [\"Sun\", \"Mon\", \"Tue\", \"wed\", \"Thu\", \"Fri\", \"Sat\"]"
   ]
  },
  {
   "cell_type": "markdown",
   "metadata": {},
   "source": [
    "2. Как не надо:"
   ]
  },
  {
   "cell_type": "code",
   "execution_count": null,
   "metadata": {},
   "outputs": [],
   "source": [
    "for a in [1, 2, 3, 4, 5]:\n",
    "    if a == 1:\n",
    "        print(a, \"i like it\")\n",
    "    elif a == 2:\n",
    "        print(a, \"i don't like it\")\n",
    "    elif a == 3:\n",
    "        print(a, \"i like it\")\n",
    "    elif a == 4:\n",
    "        print(a, \"i like it\")\n",
    "    elif a == 5:\n",
    "        print(a, \"i don't like it\")"
   ]
  },
  {
   "cell_type": "markdown",
   "metadata": {},
   "source": [
    "Как лучше:"
   ]
  },
  {
   "cell_type": "code",
   "execution_count": null,
   "metadata": {},
   "outputs": [],
   "source": [
    "for a in [1, 2, 3, 4, 5]:\n",
    "    if a == 1 or a == 3 or a == 4:\n",
    "        print(a, \"i like it\")\n",
    "    elif a == 2 or a == 5:\n",
    "        print(a, \"i don't like it\")"
   ]
  },
  {
   "cell_type": "markdown",
   "metadata": {},
   "source": [
    "Как ещё лучше (оператор вхождения):"
   ]
  },
  {
   "cell_type": "code",
   "execution_count": null,
   "metadata": {},
   "outputs": [],
   "source": [
    "for a in [1, 2, 3, 4, 5]:\n",
    "    if a in [1, 3, 4]:\n",
    "        print(a, \"i like it\")\n",
    "    elif a in [2, 5]:\n",
    "        print(a, \"i don't like it\")"
   ]
  },
  {
   "cell_type": "code",
   "execution_count": null,
   "metadata": {},
   "outputs": [],
   "source": [
    "good_numbers = [1, 3, 4]\n",
    "bad_numbers = [2, 5]\n",
    "for a in [1, 2, 3, 4, 5]:\n",
    "    if a in good_numbers:\n",
    "        print(a, \"i like it\")\n",
    "    elif a in bad_numbers:\n",
    "        print(a, \"i don't like it\")"
   ]
  },
  {
   "cell_type": "code",
   "execution_count": null,
   "metadata": {},
   "outputs": [],
   "source": [
    "print(1 in [1, 2, 3])\n",
    "print(\"a\" in \"abc\")\n",
    "print(\"ab\" in \"abc\")\n",
    "print(\"ba\" in \"abc\")"
   ]
  },
  {
   "cell_type": "markdown",
   "metadata": {},
   "source": [
    "3. Не повторяйте себя! (Don't Repeat Yourself - DRY)"
   ]
  },
  {
   "cell_type": "code",
   "execution_count": null,
   "metadata": {},
   "outputs": [],
   "source": [
    "data = \"123\"\n",
    "if int(data) >= 0 and int(data) <= 200:\n",
    "    pass"
   ]
  },
  {
   "cell_type": "code",
   "execution_count": null,
   "metadata": {},
   "outputs": [],
   "source": [
    "data = \"123\"\n",
    "data = int(data)\n",
    "if data >= 0 and data <= 200:\n",
    "    pass"
   ]
  },
  {
   "cell_type": "markdown",
   "metadata": {},
   "source": [
    "Jupyter Notebook"
   ]
  },
  {
   "cell_type": "code",
   "execution_count": null,
   "metadata": {},
   "outputs": [],
   "source": [
    "a = \"1.23\"\n",
    "print(list(a))"
   ]
  },
  {
   "cell_type": "code",
   "execution_count": null,
   "metadata": {},
   "outputs": [],
   "source": [
    "a = 1\n",
    "if a == 1:\n",
    "    output = \"number: \"\n",
    "    output += str(a + 1)\n",
    "    print(output)\n",
    "elif a == 2:\n",
    "    output = \"number: \"\n",
    "    output += str(a * 2)\n",
    "    print(output)\n",
    "elif a == 3:\n",
    "    output = \"number: \"\n",
    "    output += str(a - 2)\n",
    "    print(output)"
   ]
  },
  {
   "cell_type": "code",
   "execution_count": null,
   "metadata": {},
   "outputs": [],
   "source": [
    "a = 1\n",
    "output = \"number: \"\n",
    "if a == 1:\n",
    "    output += str(a + 1)\n",
    "elif a == 2:\n",
    "    output += str(a * 2)\n",
    "elif a == 3:\n",
    "    output += str(a - 2)\n",
    "print(output)"
   ]
  },
  {
   "cell_type": "code",
   "execution_count": null,
   "metadata": {},
   "outputs": [],
   "source": [
    "a = 5\n",
    "a %= 1\n",
    "a"
   ]
  },
  {
   "cell_type": "markdown",
   "metadata": {},
   "source": [
    "Новый материал\n",
    "1. Цикл for"
   ]
  },
  {
   "cell_type": "code",
   "execution_count": 25,
   "metadata": {},
   "outputs": [
    {
     "name": "stdout",
     "output_type": "stream",
     "text": [
      "36\n",
      "25\n",
      "16\n",
      "9\n",
      "4\n",
      "1\n",
      "done\n"
     ]
    }
   ],
   "source": [
    "numbers = [6, 5, 4, 3, 2, 1]\n",
    "for num in numbers:\n",
    "    print(num ** 2)\n",
    "    num = 10\n",
    "print(\"done\")"
   ]
  },
  {
   "cell_type": "code",
   "execution_count": 26,
   "metadata": {},
   "outputs": [
    {
     "name": "stdout",
     "output_type": "stream",
     "text": [
      "a\n",
      "b\n",
      "c\n",
      "d\n",
      "e\n",
      "f\n"
     ]
    }
   ],
   "source": [
    "letters = \"abcdef\"\n",
    "for let in letters:\n",
    "    print(let)"
   ]
  },
  {
   "cell_type": "markdown",
   "metadata": {},
   "source": [
    "list, str - это iterable (по ним можно итерировать)"
   ]
  },
  {
   "cell_type": "markdown",
   "metadata": {},
   "source": [
    "2. range() vs enumerate()"
   ]
  },
  {
   "cell_type": "code",
   "execution_count": 27,
   "metadata": {},
   "outputs": [
    {
     "name": "stdout",
     "output_type": "stream",
     "text": [
      "0 36\n",
      "1 25\n",
      "2 16\n",
      "3 9\n",
      "4 4\n",
      "5 1\n"
     ]
    }
   ],
   "source": [
    "numbers = [6, 5, 4, 3, 2, 1]\n",
    "for i in range(len(numbers)):\n",
    "    print(i, numbers[i] ** 2)"
   ]
  },
  {
   "cell_type": "code",
   "execution_count": 28,
   "metadata": {},
   "outputs": [
    {
     "name": "stdout",
     "output_type": "stream",
     "text": [
      "0 36\n",
      "1 25\n",
      "2 16\n",
      "3 9\n",
      "4 4\n",
      "5 1\n"
     ]
    }
   ],
   "source": [
    "numbers = [6, 5, 4, 3, 2, 1]\n",
    "for i, num in enumerate(numbers):\n",
    "    print(i, num ** 2)"
   ]
  },
  {
   "cell_type": "code",
   "execution_count": 29,
   "metadata": {},
   "outputs": [
    {
     "name": "stdout",
     "output_type": "stream",
     "text": [
      "3 36\n",
      "4 25\n",
      "5 16\n",
      "6 9\n",
      "7 4\n",
      "8 1\n"
     ]
    }
   ],
   "source": [
    "numbers = [6, 5, 4, 3, 2, 1]\n",
    "for i, num in enumerate(numbers, start=3):\n",
    "    print(i, num ** 2)"
   ]
  },
  {
   "cell_type": "code",
   "execution_count": 32,
   "metadata": {},
   "outputs": [
    {
     "name": "stdout",
     "output_type": "stream",
     "text": [
      "0 36\n",
      "1 25\n",
      "2 16\n",
      "wow\n",
      "3 9\n",
      "4 4\n",
      "5 1\n"
     ]
    }
   ],
   "source": [
    "numbers = [6, 5, 4, 3, 2, 1]\n",
    "for i, num in enumerate(numbers):\n",
    "    print(i, num ** 2)\n",
    "    if i < len(numbers) - 1 and numbers[i + 1] == 3:\n",
    "        # i == 0\n",
    "        # i == len(numbers) - 1\n",
    "        print(\"wow\")"
   ]
  },
  {
   "cell_type": "markdown",
   "metadata": {},
   "source": [
    "3. zip()"
   ]
  },
  {
   "cell_type": "code",
   "execution_count": 34,
   "metadata": {},
   "outputs": [
    {
     "name": "stdout",
     "output_type": "stream",
     "text": [
      "John A 5\n",
      "Jack b 4\n",
      "Jill c 5\n"
     ]
    }
   ],
   "source": [
    "names_list = [\"John\", \"Jack\", \"Jill\"]\n",
    "last_names_list = [\"A\", \"b\", \"c\"]\n",
    "grades_list = [5, 4, 5]\n",
    "for name, last_name, grade in zip(names_list, last_names_list, grades_list):\n",
    "    print(name, last_name, grade)"
   ]
  },
  {
   "cell_type": "markdown",
   "metadata": {},
   "source": [
    "Или:"
   ]
  },
  {
   "cell_type": "code",
   "execution_count": 35,
   "metadata": {},
   "outputs": [
    {
     "name": "stdout",
     "output_type": "stream",
     "text": [
      "('John', 5)\n",
      "('Jack', 4)\n",
      "('Jill', 5)\n"
     ]
    }
   ],
   "source": [
    "names_list = [\"John\", \"Jack\", \"Jill\"]\n",
    "grades_list = [5, 4, 5]\n",
    "for item in zip(names_list, grades_list):\n",
    "    print(item)"
   ]
  },
  {
   "cell_type": "markdown",
   "metadata": {},
   "source": [
    "4. Цикл while"
   ]
  },
  {
   "cell_type": "code",
   "execution_count": 36,
   "metadata": {},
   "outputs": [
    {
     "name": "stdout",
     "output_type": "stream",
     "text": [
      "9\n",
      "8\n",
      "7\n",
      "6\n",
      "5\n",
      "4\n",
      "3\n",
      "2\n",
      "1\n",
      "0\n"
     ]
    }
   ],
   "source": [
    "num = 10\n",
    "while num > 0:\n",
    "    num -= 1\n",
    "    print(num)"
   ]
  },
  {
   "cell_type": "markdown",
   "metadata": {},
   "source": [
    "a % 3 == 0 -> Fizz\n",
    "a % 5 == 0 -> Buzz\n",
    "a % 3 == 0 and a % 5 == 0 -> FizzBuzz"
   ]
  }
 ],
 "metadata": {
  "kernelspec": {
   "display_name": "Python 3.10.7 64-bit",
   "language": "python",
   "name": "python3"
  },
  "language_info": {
   "codemirror_mode": {
    "name": "ipython",
    "version": 3
   },
   "file_extension": ".py",
   "mimetype": "text/x-python",
   "name": "python",
   "nbconvert_exporter": "python",
   "pygments_lexer": "ipython3",
   "version": "3.10.7"
  },
  "vscode": {
   "interpreter": {
    "hash": "afb734500600fd355917ca529030176ea0ca205570884b88f2f6f7d791fd3fbe"
   }
  }
 },
 "nbformat": 4,
 "nbformat_minor": 2
}
