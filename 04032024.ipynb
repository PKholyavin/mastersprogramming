{
 "cells": [
  {
   "cell_type": "markdown",
   "metadata": {},
   "source": [
    "Функции с переменным количеством аргументов  \n",
    "\\*args"
   ]
  },
  {
   "cell_type": "code",
   "execution_count": null,
   "metadata": {},
   "outputs": [],
   "source": [
    "def add(*numbers):\n",
    "    return sum(numbers)"
   ]
  },
  {
   "cell_type": "code",
   "execution_count": null,
   "metadata": {},
   "outputs": [],
   "source": [
    "add(3, 4, 5, 6)  # теперь можем передавать любое количество аргументов!"
   ]
  },
  {
   "cell_type": "code",
   "execution_count": null,
   "metadata": {},
   "outputs": [],
   "source": [
    "add()  # от нуля до бесконечности"
   ]
  },
  {
   "cell_type": "code",
   "execution_count": null,
   "metadata": {},
   "outputs": [],
   "source": [
    "def add_and_multiply(*numbers, coeff):  # любые аргументы после автоматически становятся keyword-only!\n",
    "    return sum(numbers) * coeff"
   ]
  },
  {
   "cell_type": "code",
   "execution_count": null,
   "metadata": {},
   "outputs": [],
   "source": [
    "add_and_multiply(1, 2, 3, 4, coeff=3)"
   ]
  },
  {
   "cell_type": "markdown",
   "metadata": {},
   "source": [
    "\\*\\*kwargs"
   ]
  },
  {
   "cell_type": "code",
   "execution_count": null,
   "metadata": {},
   "outputs": [],
   "source": [
    "def func(*args, **kwargs):\n",
    "    print(args)  # это список\n",
    "    print(kwargs)  # а это словарь!"
   ]
  },
  {
   "cell_type": "code",
   "execution_count": null,
   "metadata": {},
   "outputs": [],
   "source": [
    "func(1, 2, 3)"
   ]
  },
  {
   "cell_type": "code",
   "execution_count": null,
   "metadata": {},
   "outputs": [],
   "source": [
    "func(1, 2, a=1, b=3, c=45)"
   ]
  },
  {
   "cell_type": "markdown",
   "metadata": {},
   "source": [
    "Изменяемые объекты как аргументы функций: что выведет код?"
   ]
  },
  {
   "cell_type": "code",
   "execution_count": null,
   "metadata": {},
   "outputs": [],
   "source": [
    "def add_to_list(el, dest):\n",
    "    dest.append(el)\n",
    "    # функция ничего не возвращает!"
   ]
  },
  {
   "cell_type": "code",
   "execution_count": null,
   "metadata": {},
   "outputs": [],
   "source": [
    "a = [1, 2, 3]\n",
    "add_to_list(4, a)\n",
    "print(a)"
   ]
  },
  {
   "cell_type": "markdown",
   "metadata": {},
   "source": [
    "Обратите внимание: значение аргумента по умолчанию определяется один раз - в момент объявления функции (а не каждый раз, когда она запускается!), поэтому, если он изменяемый..."
   ]
  },
  {
   "cell_type": "code",
   "execution_count": 13,
   "metadata": {},
   "outputs": [],
   "source": [
    "def add_to_list(el, list_of_els=[]): # так делать не надо!\n",
    "    list_of_els.append(el)\n",
    "    return list_of_els"
   ]
  },
  {
   "cell_type": "code",
   "execution_count": null,
   "metadata": {},
   "outputs": [],
   "source": [
    "a = add_to_list(1)\n",
    "b = add_to_list(2)\n",
    "c = add_to_list(3, [])\n",
    "d = add_to_list(4, [5, 6])\n",
    "print(a, b, c, d)"
   ]
  },
  {
   "cell_type": "code",
   "execution_count": 14,
   "metadata": {},
   "outputs": [],
   "source": [
    "def add_to_list_2(el, list_of_els=None): # перепишем\n",
    "    if list_of_els is None:\n",
    "        list_of_els = []\n",
    "    list_of_els.append(el)\n",
    "    return list_of_els"
   ]
  },
  {
   "cell_type": "code",
   "execution_count": null,
   "metadata": {},
   "outputs": [],
   "source": [
    "a = add_to_list_2(1)\n",
    "b = add_to_list_2(2)\n",
    "c = add_to_list_2(3, [])\n",
    "d = add_to_list_2(4, [5, 6])\n",
    "print(a, b, c, d)"
   ]
  },
  {
   "cell_type": "markdown",
   "metadata": {},
   "source": [
    "Хотелось бы уметь копировать объекты!"
   ]
  },
  {
   "cell_type": "code",
   "execution_count": null,
   "metadata": {},
   "outputs": [],
   "source": [
    "from copy import copy, deepcopy"
   ]
  },
  {
   "cell_type": "code",
   "execution_count": null,
   "metadata": {},
   "outputs": [],
   "source": [
    "def add_to_list_2(el, dest):\n",
    "    dest1 = copy(dest)\n",
    "    dest1.append(el)"
   ]
  },
  {
   "cell_type": "code",
   "execution_count": null,
   "metadata": {},
   "outputs": [],
   "source": [
    "a = [1, 2, 3]\n",
    "add_to_list_2(4, a)\n",
    "print(a)"
   ]
  },
  {
   "cell_type": "markdown",
   "metadata": {},
   "source": [
    "copy - это поверхностное копирование: создаётся новый изменяемый объект, в который переносятся все части старого объекта  \n",
    "Поэтому если внутри старого объекта были другие изменяемые объекты (например, это был список списков), то они не скопируются, а перенесутся"
   ]
  },
  {
   "cell_type": "code",
   "execution_count": null,
   "metadata": {},
   "outputs": [],
   "source": [
    "a = [[1, 2], [3, 4]]\n",
    "b = copy(a)\n",
    "# того же самого можно достичь с помощью:\n",
    "# b = a.copy()\n",
    "# b = a[:]\n",
    "# b = list(a)\n",
    "b[0].append(3)\n",
    "print(a)"
   ]
  },
  {
   "cell_type": "markdown",
   "metadata": {},
   "source": [
    "deepcopy - это глубокое копирование: все части копируются"
   ]
  },
  {
   "cell_type": "code",
   "execution_count": null,
   "metadata": {},
   "outputs": [],
   "source": [
    "a = [[1, 2], [3, 4]]\n",
    "b = deepcopy(a)\n",
    "b[0].append(3)\n",
    "print(a)"
   ]
  },
  {
   "cell_type": "markdown",
   "metadata": {},
   "source": [
    "Проверка: не запуская ячейку, определите, что выведет код:"
   ]
  },
  {
   "cell_type": "code",
   "execution_count": null,
   "metadata": {},
   "outputs": [],
   "source": [
    "a = [1, [2, 3]]\n",
    "b = a[:]\n",
    "a[1].append(2)\n",
    "b[1].append(3)\n",
    "print(a, b)"
   ]
  },
  {
   "cell_type": "markdown",
   "metadata": {},
   "source": [
    "Рекурсия:"
   ]
  },
  {
   "cell_type": "code",
   "execution_count": 16,
   "metadata": {},
   "outputs": [],
   "source": [
    "def countdown(num=10):\n",
    "    while num >= 0:\n",
    "        print(num)\n",
    "        num -= 1"
   ]
  },
  {
   "cell_type": "code",
   "execution_count": null,
   "metadata": {},
   "outputs": [],
   "source": [
    "countdown()"
   ]
  },
  {
   "cell_type": "code",
   "execution_count": 18,
   "metadata": {},
   "outputs": [],
   "source": [
    "def countdown_recursion(num=10):\n",
    "    print(num)\n",
    "    if num > 0:\n",
    "        countdown_recursion(num - 1)"
   ]
  },
  {
   "cell_type": "code",
   "execution_count": null,
   "metadata": {},
   "outputs": [],
   "source": [
    "countdown_recursion()"
   ]
  },
  {
   "cell_type": "code",
   "execution_count": 1,
   "metadata": {},
   "outputs": [],
   "source": [
    "def endless_recursion(num=0):\n",
    "    print(num, end=\"\\r\") # обратите внимание, так каждая следующая строчка\n",
    "    # будет писаться поверх предыдущей\n",
    "    endless_recursion(num + 1)"
   ]
  },
  {
   "cell_type": "code",
   "execution_count": null,
   "metadata": {},
   "outputs": [],
   "source": [
    "endless_recursion()  # RecursionError (если повезёт, т.к. память может закончиться раньше)"
   ]
  },
  {
   "cell_type": "code",
   "execution_count": null,
   "metadata": {},
   "outputs": [],
   "source": [
    "def countdown_recursion_safer(num=10):\n",
    "    if num < 0:\n",
    "        raise ValueError(\"Can't count down from a negative number\")\n",
    "    print(num)\n",
    "    if num > 0:\n",
    "        countdown_recursion(num - 1)"
   ]
  },
  {
   "cell_type": "markdown",
   "metadata": {},
   "source": [
    "Задание для выполнения в классе: напишите функцию, которая возвращает n-е число Фибоначчи:\n",
    "1) с помощью рекурсии\n",
    "2) без помощи рекурсии\n",
    "\n",
    "Числа Фибоначчи:  \n",
    "0, 1, 1, 2, 3, 5, ...  \n",
    "F(0) = 0, F(1) = 1,  \n",
    "F(n) = F(n - 1) + F(n - 2) (n > 1)"
   ]
  },
  {
   "cell_type": "code",
   "execution_count": null,
   "metadata": {},
   "outputs": [],
   "source": []
  },
  {
   "cell_type": "markdown",
   "metadata": {},
   "source": [
    "Функция main():\n",
    "\n",
    "Часто основной код программы стоит писать в отдельной функции, которую обычно называют main(). Это позволяет писать его в любом месте программы. Необходимо только не забыть вызвать функцию main() в конце кода."
   ]
  },
  {
   "cell_type": "code",
   "execution_count": null,
   "metadata": {},
   "outputs": [],
   "source": [
    "def main():\n",
    "    f1()\n",
    "    f2()\n",
    "\n",
    "def f1():\n",
    "    print(\"This is f1\")\n",
    "\n",
    "def f2():\n",
    "    print(\"This is f2\")\n",
    "\n",
    "main()"
   ]
  },
  {
   "cell_type": "markdown",
   "metadata": {},
   "source": [
    "Модули. Импортирование модулей."
   ]
  },
  {
   "cell_type": "code",
   "execution_count": null,
   "metadata": {},
   "outputs": [],
   "source": [
    "!wget https://pkholyavin.github.io/mastersprogramming/print_nums.py\n",
    "!wget https://pkholyavin.github.io/mastersprogramming/print_nums2.py\n",
    "!wget https://pkholyavin.github.io/mastersprogramming/print_nums3.py"
   ]
  },
  {
   "cell_type": "code",
   "execution_count": null,
   "metadata": {},
   "outputs": [],
   "source": [
    "import print_nums\n",
    "print_nums.f1()\n",
    "print_nums.f2()"
   ]
  },
  {
   "cell_type": "markdown",
   "metadata": {},
   "source": [
    "Импортируем конкретные вещи:"
   ]
  },
  {
   "cell_type": "code",
   "execution_count": null,
   "metadata": {},
   "outputs": [],
   "source": [
    "from print_nums import f1, f2\n",
    "f1()\n",
    "f2()"
   ]
  },
  {
   "cell_type": "markdown",
   "metadata": {},
   "source": [
    "Импортируем всё подряд (так лучше не делать, потому что легко запутаться)"
   ]
  },
  {
   "cell_type": "code",
   "execution_count": null,
   "metadata": {},
   "outputs": [],
   "source": [
    "from print_nums import *\n",
    "f1()\n",
    "f2()"
   ]
  },
  {
   "cell_type": "markdown",
   "metadata": {},
   "source": [
    "Импортируем с другим именем:"
   ]
  },
  {
   "cell_type": "code",
   "execution_count": null,
   "metadata": {},
   "outputs": [],
   "source": [
    "import print_nums as pn\n",
    "pn.f1()"
   ]
  },
  {
   "cell_type": "markdown",
   "metadata": {},
   "source": [
    "Получить названия всего, что лежит в импортируемом модуле:"
   ]
  },
  {
   "cell_type": "code",
   "execution_count": null,
   "metadata": {},
   "outputs": [],
   "source": [
    "import print_nums\n",
    "\n",
    "dir(print_nums)"
   ]
  },
  {
   "cell_type": "markdown",
   "metadata": {},
   "source": [
    "Весь код, который находится в импортируемом файле, исполняется!"
   ]
  },
  {
   "cell_type": "code",
   "execution_count": null,
   "metadata": {},
   "outputs": [],
   "source": [
    "import print_nums2"
   ]
  },
  {
   "cell_type": "markdown",
   "metadata": {},
   "source": [
    "Но код, оформленный так, при импортировании запускаться не будет!"
   ]
  },
  {
   "cell_type": "code",
   "execution_count": null,
   "metadata": {},
   "outputs": [],
   "source": [
    "def main():\n",
    "    print(\"This is main\")\n",
    "\n",
    "if __name__ == \"__main__\":\n",
    "    main()"
   ]
  },
  {
   "cell_type": "code",
   "execution_count": null,
   "metadata": {},
   "outputs": [],
   "source": [
    "import print_nums3\n",
    "print_nums3.f1()"
   ]
  },
  {
   "cell_type": "markdown",
   "metadata": {},
   "source": [
    "Порядок, в котором Python ищет импортируемые модули:\n",
    "1. Встроенные модули\n",
    "2. Текущая папка\n",
    "3. Директории, содержащиеся в системной переменной PYTHONPATH\n",
    "4. Установленные модули"
   ]
  },
  {
   "cell_type": "code",
   "execution_count": null,
   "metadata": {},
   "outputs": [],
   "source": [
    "import os\n",
    "print(os.getcwd()) # текущая директория"
   ]
  },
  {
   "cell_type": "markdown",
   "metadata": {},
   "source": [
    "Чтобы установить модуль через командную строку, используем менеджер пакетов ```pip```"
   ]
  },
  {
   "cell_type": "code",
   "execution_count": null,
   "metadata": {},
   "outputs": [],
   "source": [
    "!pip install parselmouth"
   ]
  },
  {
   "cell_type": "code",
   "execution_count": null,
   "metadata": {},
   "outputs": [],
   "source": [
    "!python -m pip install parselmouth"
   ]
  },
  {
   "cell_type": "markdown",
   "metadata": {},
   "source": [
    "```python -m pip install [options] <requirement specifier> [package-index-options] ...\n",
    "python -m pip install [options] -r <requirements file> [package-index-options] ...\n",
    "python -m pip install [options] [-e] <vcs project url> ...\n",
    "python -m pip install [options] [-e] <local project path> ...\n",
    "python -m pip install [options] <archive url/path> ...```  "
   ]
  },
  {
   "cell_type": "markdown",
   "metadata": {},
   "source": [
    "https://pip.pypa.io/en/stable/cli/pip_install/"
   ]
  },
  {
   "cell_type": "markdown",
   "metadata": {},
   "source": [
    "Докстринги:  \n",
    "https://peps.python.org/pep-0257/"
   ]
  },
  {
   "cell_type": "code",
   "execution_count": 2,
   "metadata": {},
   "outputs": [],
   "source": [
    "\"\"\"\n",
    "This is a module that does...\n",
    "\"\"\"\n",
    "\n",
    "def f1() -> None:\n",
    "    \"\"\"\n",
    "    This is a function that prints out the string \"This is f1\" and returns None\n",
    "    \"\"\"\n",
    "    print(\"This is f1\")"
   ]
  },
  {
   "cell_type": "code",
   "execution_count": null,
   "metadata": {},
   "outputs": [],
   "source": [
    "print(f1.__doc__)"
   ]
  },
  {
   "cell_type": "markdown",
   "metadata": {},
   "source": [
    "Module-level dunders"
   ]
  },
  {
   "cell_type": "code",
   "execution_count": null,
   "metadata": {},
   "outputs": [],
   "source": [
    "__all__ = [\"f1\", \"f2\"]\n",
    "__author__ = \"John Smith\"\n",
    "__version__ = \"1.0.1\""
   ]
  },
  {
   "cell_type": "markdown",
   "metadata": {},
   "source": [
    "Обработка исключений"
   ]
  },
  {
   "cell_type": "code",
   "execution_count": null,
   "metadata": {},
   "outputs": [],
   "source": [
    "a = 1 / 0  # ZeroDivisionError"
   ]
  },
  {
   "cell_type": "code",
   "execution_count": null,
   "metadata": {},
   "outputs": [],
   "source": [
    "a = [1, 2]\n",
    "a[5] = 0  # IndexError"
   ]
  },
  {
   "cell_type": "code",
   "execution_count": null,
   "metadata": {},
   "outputs": [],
   "source": [
    "try:\n",
    "    a = 1 / 0\n",
    "except:\n",
    "    print(\"Oops\")\n",
    "    a = 0"
   ]
  },
  {
   "cell_type": "code",
   "execution_count": null,
   "metadata": {},
   "outputs": [],
   "source": [
    "try:\n",
    "    a = 1 / 0\n",
    "except Exception:  # общее название всех исключений\n",
    "    print(\"Oops\")\n",
    "    a = 0"
   ]
  },
  {
   "cell_type": "code",
   "execution_count": null,
   "metadata": {},
   "outputs": [],
   "source": [
    "try:\n",
    "    a = 1 / 0\n",
    "except ZeroDivisionError:  # это исключение вызывается при делении на 0\n",
    "    print(\"Oops\")\n",
    "    a = 0"
   ]
  },
  {
   "cell_type": "code",
   "execution_count": null,
   "metadata": {},
   "outputs": [],
   "source": [
    "try:\n",
    "    a = 1 / 0\n",
    "except IndexError:  # это исключение вызывается при обращении к неправильному индексу\n",
    "    print(\"Oops\")\n",
    "    a = 0"
   ]
  },
  {
   "cell_type": "code",
   "execution_count": null,
   "metadata": {},
   "outputs": [],
   "source": [
    "b = [1, 2]\n",
    "# b = [1, 2, 0]\n",
    "try:\n",
    "    a = 1 / b[2]\n",
    "except (IndexError, ZeroDivisionError):  # обрабатываем несколько типов исключений сразу\n",
    "    print(\"Oops\")\n",
    "    a = 0"
   ]
  },
  {
   "cell_type": "code",
   "execution_count": null,
   "metadata": {},
   "outputs": [],
   "source": [
    "b = [1, 2]\n",
    "# b = [1, 2, 0]\n",
    "try:\n",
    "    a = 1 / b[2]\n",
    "except IndexError:  # обрабатываем несколько типов исключений по очереди\n",
    "    print(\"Oops: out of range\")\n",
    "    a = 0\n",
    "except ZeroDivisionError:\n",
    "    print(\"Oops: divide by zero\")\n",
    "    a = 0"
   ]
  },
  {
   "cell_type": "code",
   "execution_count": null,
   "metadata": {},
   "outputs": [],
   "source": [
    "try:\n",
    "    a = 1 / 0\n",
    "except ZeroDivisionError as e:  # сохраняем текст исключения\n",
    "    print(\"The following exception has occured:\", e)\n",
    "    a = 0"
   ]
  },
  {
   "cell_type": "code",
   "execution_count": null,
   "metadata": {},
   "outputs": [],
   "source": [
    "c = 0\n",
    "# c = 1\n",
    "try:\n",
    "    a = 1 / c\n",
    "except ZeroDivisionError:\n",
    "    print(\"Oops\")\n",
    "    a = 0\n",
    "else:\n",
    "    print(\"Success\")\n",
    "finally:\n",
    "    print(\"Finishing up\")"
   ]
  },
  {
   "cell_type": "markdown",
   "metadata": {},
   "source": [
    "finally выполняется в любом случае; здесь стоит писать код, который должен обязательно выполниться (например, закрывает файл)"
   ]
  },
  {
   "cell_type": "markdown",
   "metadata": {},
   "source": [
    "Особенности употребления:\n",
    "1. try/except стоит применять, когда вероятность ошибки довольно низкая. В противном случае лучше использовать if/else\n",
    "2. Внутри try стоит писать только код, который может вызвать ошибку, ничего лишнего\n",
    "3. Внутри finally И try не стоит писать return"
   ]
  },
  {
   "cell_type": "markdown",
   "metadata": {},
   "source": [
    "Вызов исключений:"
   ]
  },
  {
   "cell_type": "code",
   "execution_count": null,
   "metadata": {},
   "outputs": [],
   "source": [
    "def merge_strings(a, b):\n",
    "    \"\"\"Merges two strings: abc, def -> adbecf\"\"\"\n",
    "    if not isinstance(a, str) or not isinstance(b, str):\n",
    "        raise TypeError(\"a and b should be strings\")\n",
    "    if len(a) != len(b):\n",
    "        raise ValueError(\"a and b should be equal in length\")\n",
    "    return \"\".join(i + j for i, j in zip(a, b))"
   ]
  },
  {
   "cell_type": "code",
   "execution_count": null,
   "metadata": {},
   "outputs": [],
   "source": [
    "merge_strings(\"abc\", \"def\")"
   ]
  },
  {
   "cell_type": "code",
   "execution_count": null,
   "metadata": {},
   "outputs": [],
   "source": [
    "merge_strings(\"abc\", \"defg\")  # ValueError"
   ]
  },
  {
   "cell_type": "code",
   "execution_count": null,
   "metadata": {},
   "outputs": [],
   "source": [
    "merge_strings(\"abc\", 1)  # TypeError"
   ]
  },
  {
   "cell_type": "markdown",
   "metadata": {},
   "source": [
    "Список возможных исключений:\n",
    "\n",
    "https://docs.python.org/3/library/exceptions.html"
   ]
  },
  {
   "cell_type": "markdown",
   "metadata": {},
   "source": [
    "Важные\n",
    "\n",
    "IndexError - индекс за границами\n",
    "\n",
    "TypeError - неверный тип\n",
    "\n",
    "UnicodeError - ошибка при обработке символов Unicode\n",
    "\n",
    "ValueError - верный тип, но неверное значение\n",
    "\n",
    "ZeroDivisionError - деление на 0\n",
    "\n",
    "FileNotFoundError - не существует требуемого файла (папки)"
   ]
  },
  {
   "cell_type": "markdown",
   "metadata": {},
   "source": [
    "Исключения, которые возникают, если вы неправильно оформили код:\n",
    "\n",
    "SyntaxError - синтаксическая ошибка\n"
   ]
  },
  {
   "cell_type": "code",
   "execution_count": null,
   "metadata": {},
   "outputs": [],
   "source": [
    "print(+)"
   ]
  },
  {
   "cell_type": "markdown",
   "metadata": {},
   "source": [
    "IndentationError - неправильные отступы"
   ]
  },
  {
   "cell_type": "code",
   "execution_count": null,
   "metadata": {},
   "outputs": [],
   "source": [
    "if True:\n",
    "print(\"1\")"
   ]
  },
  {
   "cell_type": "markdown",
   "metadata": {},
   "source": [
    "NameError - несуществующее имя переменной"
   ]
  },
  {
   "cell_type": "code",
   "execution_count": null,
   "metadata": {},
   "outputs": [],
   "source": [
    "variable = 1\n",
    "print(varable)"
   ]
  },
  {
   "cell_type": "markdown",
   "metadata": {},
   "source": [
    "assert (служит для дебаггинга программы)\n",
    "\n",
    "Не стоит использовать это выражение в финальных версиях кода"
   ]
  },
  {
   "cell_type": "code",
   "execution_count": null,
   "metadata": {},
   "outputs": [],
   "source": [
    "def merge_strings(a, b):\n",
    "    assert len(a) == len(b)\n",
    "    return \"\".join(i + j for i, j in zip(a, b))"
   ]
  },
  {
   "cell_type": "code",
   "execution_count": null,
   "metadata": {},
   "outputs": [],
   "source": [
    "merge_strings(\"123\", \"4567\")  # AssertionError"
   ]
  },
  {
   "cell_type": "markdown",
   "metadata": {},
   "source": [
    "Проверка: не запуская ячейку, определите, что выведет код:"
   ]
  },
  {
   "cell_type": "code",
   "execution_count": null,
   "metadata": {},
   "outputs": [],
   "source": [
    "a = list(range(10))\n",
    "b = [i / a[0] for i in a]"
   ]
  },
  {
   "cell_type": "markdown",
   "metadata": {},
   "source": [
    "Проверка: не запуская ячейку, определите, что выведет код:"
   ]
  },
  {
   "cell_type": "code",
   "execution_count": null,
   "metadata": {},
   "outputs": [],
   "source": [
    "print(\"123\" - \"234\")"
   ]
  },
  {
   "cell_type": "markdown",
   "metadata": {},
   "source": [
    "Общая практика:"
   ]
  },
  {
   "cell_type": "markdown",
   "metadata": {},
   "source": [
    "1. Написать функцию, которая принимает на вход целое число n и выводит на экран \"ёлочку\" из звёздочек высотой n."
   ]
  },
  {
   "cell_type": "code",
   "execution_count": null,
   "metadata": {},
   "outputs": [],
   "source": [
    "#          *\n",
    "#         ***\n",
    "#        *****\n",
    "#       *******\n",
    "#      *********\n",
    "#     ***********\n",
    "#    *************\n",
    "#   ***************\n",
    "#  *****************\n",
    "# *******************"
   ]
  },
  {
   "cell_type": "code",
   "execution_count": null,
   "metadata": {},
   "outputs": [],
   "source": [
    "def tree(n: int) -> None:\n",
    "    ..."
   ]
  },
  {
   "cell_type": "markdown",
   "metadata": {},
   "source": [
    "2. Напишите функцию, которая принимает на вход строку text, содержащую текст на русском языке, и возвращает словарь, в котором ключи - все возможные сочетания букв русского алфавита длиной 2, а значения - сколько раз они встретились в тексте."
   ]
  },
  {
   "cell_type": "code",
   "execution_count": null,
   "metadata": {},
   "outputs": [],
   "source": [
    "def count_letter_bigrams(text: str) -> dict:\n",
    "    ..."
   ]
  },
  {
   "cell_type": "markdown",
   "metadata": {},
   "source": [
    "4. Дано:  \n",
    "(1) Последовательность пар случайных целых чисел от 1 до 100 (отсортированных по возрастанию)  \n",
    "(2) Последовательность случайных вещественных чисел от 1 до 100 (в случайном порядке)  \n",
    "Задание:  \n",
    "Для каждой пары чисел a, b из последовательности (1) определить, какие числа из последовательности (2) лежат между a и b. По очереди вывести на экран каждую пару и числа для неё в отсортированном порядке.  \n",
    "Чтобы получить последовательности, запустите ячейки ниже."
   ]
  },
  {
   "cell_type": "code",
   "execution_count": null,
   "metadata": {},
   "outputs": [],
   "source": [
    "# сгенерируем первую последовательность\n",
    "import random\n",
    "seq1_len = random.randint(5, 8)\n",
    "seq1_nums = sorted(random.sample(range(100), seq1_len * 2))\n",
    "seq1 = [[a, b] for a, b in zip(seq1_nums[::2], seq1_nums[1::2])]\n",
    "print(seq1)\n",
    "# сгенерируем вторую последовательность\n",
    "seq2_len = random.randint(50, 80)\n",
    "seq2 = [round(random.random() * 100, 4) for _ in range(seq2_len)]\n",
    "print(seq2)"
   ]
  },
  {
   "cell_type": "code",
   "execution_count": null,
   "metadata": {},
   "outputs": [],
   "source": [
    "# пример вывода:\n",
    "# [1, 5]\n",
    "# [1.2345, 2.3456, 3.4567]\n",
    "# [8, 12]\n",
    "# [8.0001, 9.0002, 10.0003, 11.0004]"
   ]
  },
  {
   "cell_type": "markdown",
   "metadata": {},
   "source": [
    "Задание на дом (расширение задания 2):  \n",
    "Напишите функцию, которая принимает на вход строку text, содержащую текст на русском языке, **и целое число n**, а возвращает словарь, в котором ключи - сочетания букв русского алфавита **длиной n**, а значения - сколько раз они встретились в тексте.  \n",
    "Постарайтесь модифицировать код так, чтобы пробелы, знаки препинания и капитализация не учитывались, т.е. считайте, что в строке ```\"г. Санкт-Петербург\"``` есть трёхбуквенное сочетание ```\"гса\"```  \n",
    "Оформите для функции docstring и постарайтесь учесть возможные ошибки"
   ]
  },
  {
   "cell_type": "code",
   "execution_count": null,
   "metadata": {},
   "outputs": [],
   "source": [
    "def count_letter_ngrams(text: str, n: int) -> dict:\n",
    "    ..."
   ]
  }
 ],
 "metadata": {
  "kernelspec": {
   "display_name": "Python 3",
   "language": "python",
   "name": "python3"
  },
  "language_info": {
   "codemirror_mode": {
    "name": "ipython",
    "version": 3
   },
   "file_extension": ".py",
   "mimetype": "text/x-python",
   "name": "python",
   "nbconvert_exporter": "python",
   "pygments_lexer": "ipython3",
   "version": "3.9.0"
  }
 },
 "nbformat": 4,
 "nbformat_minor": 2
}
