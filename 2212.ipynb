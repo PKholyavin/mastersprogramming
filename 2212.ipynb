{
  "nbformat": 4,
  "nbformat_minor": 0,
  "metadata": {
    "colab": {
      "provenance": []
    },
    "kernelspec": {
      "name": "python3",
      "display_name": "Python 3"
    },
    "language_info": {
      "name": "python"
    }
  },
  "cells": [
    {
      "cell_type": "markdown",
      "source": [
        "Модуль collections\n",
        "\n",
        "https://docs.python.org/3/library/collections.html"
      ],
      "metadata": {
        "id": "xB7b-Wa72E9N"
      }
    },
    {
      "cell_type": "markdown",
      "source": [
        "Counter (счётчик) - это особый тип словаря"
      ],
      "metadata": {
        "id": "IYv3EDpl2Zo5"
      }
    },
    {
      "cell_type": "code",
      "source": [
        "from collections import Counter\n",
        "\n",
        "text = \"мама мыла раму\"\n",
        "c = Counter(text)\n",
        "print(c)\n",
        "c[\"м\"] += 1\n",
        "print(c)"
      ],
      "metadata": {
        "id": "sBx_ehhM2TZx"
      },
      "execution_count": null,
      "outputs": []
    },
    {
      "cell_type": "code",
      "source": [
        "print(c.most_common())\n",
        "print(c.most_common(1))"
      ],
      "metadata": {
        "id": "bm9C1Nh54Q7Z"
      },
      "execution_count": null,
      "outputs": []
    },
    {
      "cell_type": "code",
      "source": [
        "c.update(\"был тихий серый вечер\")\n",
        "print(c)"
      ],
      "metadata": {
        "id": "APKJXEpO43UZ"
      },
      "execution_count": null,
      "outputs": []
    },
    {
      "cell_type": "markdown",
      "source": [
        "defaultdict - это словарь со значением по умолчанию. Оно передаётся как функция"
      ],
      "metadata": {
        "id": "ZYsqouKH-ptQ"
      }
    },
    {
      "cell_type": "code",
      "source": [
        "from collections import defaultdict\n",
        "\n",
        "d = defaultdict(list)\n",
        "for ch in \"мама мыла раму\":\n",
        "    d[ch].append(ch)\n",
        "print(d)"
      ],
      "metadata": {
        "id": "GQfU-1qV-zPe"
      },
      "execution_count": null,
      "outputs": []
    },
    {
      "cell_type": "code",
      "source": [
        "# int -> 0\n",
        "# float -> 0.0\n",
        "# str -> \"\"\n",
        "# dict -> {}\n",
        "# lambda: defaultdict(list)"
      ],
      "metadata": {
        "id": "LODTXbxc_YAl"
      },
      "execution_count": null,
      "outputs": []
    },
    {
      "cell_type": "markdown",
      "source": [
        "Модуль random - генератор (псевдо)случайных чисел\n",
        "\n",
        "https://docs.python.org/3/library/random.html"
      ],
      "metadata": {
        "id": "kug_rFlCAMz5"
      }
    },
    {
      "cell_type": "code",
      "source": [
        "import random\n",
        "\n",
        "print(random.randint(1, 10))"
      ],
      "metadata": {
        "id": "Ex8QCxj1BFP6"
      },
      "execution_count": null,
      "outputs": []
    },
    {
      "cell_type": "code",
      "source": [
        "print(random.random()) # от 0 до 1"
      ],
      "metadata": {
        "id": "AWehdxJlBN8r"
      },
      "execution_count": null,
      "outputs": []
    },
    {
      "cell_type": "code",
      "source": [
        "# если нужен другой диапазон\n",
        "start = -10\n",
        "end = 20\n",
        "print(random.random() * (end - start) + start)"
      ],
      "metadata": {
        "colab": {
          "base_uri": "https://localhost:8080/"
        },
        "id": "pRdSXdtUNPJx",
        "outputId": "4d6b553e-899c-44c5-a00b-1e8eca781155"
      },
      "execution_count": 25,
      "outputs": [
        {
          "output_type": "stream",
          "name": "stdout",
          "text": [
            "2.958688690932684\n"
          ]
        }
      ]
    },
    {
      "cell_type": "code",
      "source": [
        "a = list(\"abcdef\")\n",
        "\n",
        "print(a)\n",
        "random.shuffle(a)\n",
        "print(a)"
      ],
      "metadata": {
        "id": "4g9WOi6QBn1g"
      },
      "execution_count": null,
      "outputs": []
    },
    {
      "cell_type": "code",
      "source": [
        "print(random.choice(a))"
      ],
      "metadata": {
        "id": "j1d0RtFMB4am"
      },
      "execution_count": null,
      "outputs": []
    },
    {
      "cell_type": "code",
      "source": [
        "print(random.choices(a, k=10)) # с повторениями"
      ],
      "metadata": {
        "id": "gX7JzhRiB_wN"
      },
      "execution_count": null,
      "outputs": []
    },
    {
      "cell_type": "code",
      "source": [
        "print(random.sample(a, k=4)) # без повторений"
      ],
      "metadata": {
        "id": "n0u9nMJmCO-O"
      },
      "execution_count": null,
      "outputs": []
    },
    {
      "cell_type": "markdown",
      "source": [
        "Задание на каникулы: выбрать один из перечисленных модулей, прочитать документацию, рассказать о нескольких полезных функциях и/или константах, которые есть в этом модуле. Попробовать придумать контекст, в котором их можно было бы использовать.\n",
        "https://docs.python.org/3/py-modindex.html\n",
        "\n",
        "bisect\n",
        "\n",
        "csv\n",
        "\n",
        "datetime\n",
        "\n",
        "functools\n",
        "\n",
        "math\n",
        "\n",
        "pickle\n",
        "\n",
        "shutil\n",
        "\n",
        "time"
      ],
      "metadata": {
        "id": "dsvh3MaXM8jq"
      }
    }
  ]
}